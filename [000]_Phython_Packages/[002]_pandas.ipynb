{
 "cells": [
  {
   "cell_type": "markdown",
   "metadata": {
    "id": "exTJFdmogCiL"
   },
   "source": [
    "# pandas\n",
    "\n",
    "* Panel Data: 금융데이터 계량 분석\n",
    "* Python Data Analysis Library\n",
    "* https://pandas.pydata.org"
   ]
  },
  {
   "cell_type": "code",
   "execution_count": 1,
   "metadata": {
    "executionInfo": {
     "elapsed": 13,
     "status": "ok",
     "timestamp": 1746145620590,
     "user": {
      "displayName": "이정구",
      "userId": "01734653046128971875"
     },
     "user_tz": -540
    },
    "id": "RbPgODpVzdHI"
   },
   "outputs": [],
   "source": [
    "import warnings\n",
    "warnings.filterwarnings('ignore')"
   ]
  },
  {
   "cell_type": "markdown",
   "metadata": {
    "id": "2SiCMYALklCr"
   },
   "source": [
    "# File Upload to Colab\n",
    "\n",
    "* <font color = 'blue'>Colab 가상환경에 파일 올리기</font>\n",
    "* Colab 종료 시 파일은 삭제됨\n",
    "* Local_Disk to Colab_Linux_File_System\n",
    " * <font color = 'blue'>PII.csv</font> & <font color = 'blue'>PII.xlsx</font>"
   ]
  },
  {
   "cell_type": "markdown",
   "metadata": {
    "id": "hdS5BvlFhU0q"
   },
   "source": [
    "* 업로드된 파일 확인"
   ]
  },
  {
   "cell_type": "code",
   "execution_count": 2,
   "metadata": {
    "colab": {
     "base_uri": "https://localhost:8080/"
    },
    "executionInfo": {
     "elapsed": 13,
     "status": "ok",
     "timestamp": 1746145620606,
     "user": {
      "displayName": "이정구",
      "userId": "01734653046128971875"
     },
     "user_tz": -540
    },
    "id": "JnuieJeLhZDL",
    "outputId": "503eacc4-8dba-4600-c678-b59af4bc4130"
   },
   "outputs": [
    {
     "name": "stderr",
     "output_type": "stream",
     "text": [
      "'ls'��(��) ���� �Ǵ� �ܺ� ����, ������ �� �ִ� ���α׷�, �Ǵ�\n",
      "��ġ ������ �ƴմϴ�.\n"
     ]
    }
   ],
   "source": [
    "!ls -l"
   ]
  },
  {
   "cell_type": "markdown",
   "metadata": {
    "id": "hCJR05_Mh3J2"
   },
   "source": [
    "# I. pandas - DataFrame\n",
    "\n",
    "* <font color='blue'>Label Index</font>를 가진 2차원 구조\n",
    "* 일반적으로 <font color = 'red'>다양한 데이터 타입의 열들</font>로 구성"
   ]
  },
  {
   "cell_type": "markdown",
   "metadata": {
    "id": "MMjGVPdeXNYn"
   },
   "source": [
    "> ## 1) pandas Package <font color='blue'>import ~ as"
   ]
  },
  {
   "cell_type": "code",
   "execution_count": 3,
   "metadata": {
    "executionInfo": {
     "elapsed": 338,
     "status": "ok",
     "timestamp": 1746145620945,
     "user": {
      "displayName": "이정구",
      "userId": "01734653046128971875"
     },
     "user_tz": -540
    },
    "id": "9i84IiACGmJV"
   },
   "outputs": [],
   "source": [
    "import pandas as pd"
   ]
  },
  {
   "cell_type": "markdown",
   "metadata": {
    "id": "oN6xdqV0a6fX"
   },
   "source": [
    "* Version Check"
   ]
  },
  {
   "cell_type": "code",
   "execution_count": 4,
   "metadata": {
    "colab": {
     "base_uri": "https://localhost:8080/",
     "height": 35
    },
    "executionInfo": {
     "elapsed": 13,
     "status": "ok",
     "timestamp": 1746145620959,
     "user": {
      "displayName": "이정구",
      "userId": "01734653046128971875"
     },
     "user_tz": -540
    },
    "id": "BWBCkJpGaqnw",
    "outputId": "2c7b4fe5-d02b-494a-b915-cf059e9582b4"
   },
   "outputs": [
    {
     "data": {
      "text/plain": [
       "'2.2.3'"
      ]
     },
     "execution_count": 4,
     "metadata": {},
     "output_type": "execute_result"
    }
   ],
   "source": [
    "pd.__version__"
   ]
  },
  {
   "cell_type": "markdown",
   "metadata": {
    "id": "gnqO9LQ-XD97"
   },
   "source": [
    "> ## 2) <font color = 'blue'>.read_csv( )</font>\n",
    "\n",
    "* CSV(Comma Separated Values)"
   ]
  },
  {
   "cell_type": "markdown",
   "metadata": {
    "id": "khtx-r0TXX7d"
   },
   "source": [
    "* https://pandas.pydata.org/docs/reference/api/pandas.read_csv.html"
   ]
  },
  {
   "cell_type": "code",
   "execution_count": 5,
   "metadata": {
    "executionInfo": {
     "elapsed": 15,
     "status": "ok",
     "timestamp": 1746145620975,
     "user": {
      "displayName": "이정구",
      "userId": "01734653046128971875"
     },
     "user_tz": -540
    },
    "id": "f0qXEF9liDeZ"
   },
   "outputs": [],
   "source": [
    "DF1 = pd.read_csv('PII.csv')"
   ]
  },
  {
   "cell_type": "markdown",
   "metadata": {
    "id": "llBtX4jcXdQ1"
   },
   "source": [
    "* DataFrame"
   ]
  },
  {
   "cell_type": "code",
   "execution_count": 6,
   "metadata": {
    "colab": {
     "base_uri": "https://localhost:8080/",
     "height": 203
    },
    "executionInfo": {
     "elapsed": 187,
     "status": "ok",
     "timestamp": 1746145621164,
     "user": {
      "displayName": "이정구",
      "userId": "01734653046128971875"
     },
     "user_tz": -540
    },
    "id": "KGQcqg43XwJH",
    "outputId": "9ac65b4c-316b-4f4d-f106-9ab8e42e1157"
   },
   "outputs": [
    {
     "data": {
      "text/plain": [
       "pandas.core.frame.DataFrame"
      ]
     },
     "execution_count": 6,
     "metadata": {},
     "output_type": "execute_result"
    }
   ],
   "source": [
    "type(DF1)"
   ]
  },
  {
   "cell_type": "code",
   "execution_count": 8,
   "metadata": {},
   "outputs": [
    {
     "name": "stdout",
     "output_type": "stream",
     "text": [
      "<class 'pandas.core.frame.DataFrame'>\n",
      "RangeIndex: 17 entries, 0 to 16\n",
      "Data columns (total 8 columns):\n",
      " #   Column     Non-Null Count  Dtype  \n",
      "---  ------     --------------  -----  \n",
      " 0   Name       17 non-null     object \n",
      " 1   Gender     17 non-null     object \n",
      " 2   Age        17 non-null     int64  \n",
      " 3   Grade      17 non-null     int64  \n",
      " 4   Picture    17 non-null     object \n",
      " 5   BloodType  17 non-null     object \n",
      " 6   Height     17 non-null     float64\n",
      " 7   Weight     17 non-null     float64\n",
      "dtypes: float64(2), int64(2), object(4)\n",
      "memory usage: 1.2+ KB\n"
     ]
    }
   ],
   "source": [
    "DF1.info()"
   ]
  },
  {
   "cell_type": "code",
   "execution_count": 7,
   "metadata": {
    "colab": {
     "base_uri": "https://localhost:8080/",
     "height": 582
    },
    "executionInfo": {
     "elapsed": 126,
     "status": "ok",
     "timestamp": 1746145621291,
     "user": {
      "displayName": "이정구",
      "userId": "01734653046128971875"
     },
     "user_tz": -540
    },
    "id": "3JGmbpvwiNxs",
    "outputId": "d306e810-f1e8-47f2-d174-b199d275ca4b"
   },
   "outputs": [
    {
     "data": {
      "text/html": [
       "<div>\n",
       "<style scoped>\n",
       "    .dataframe tbody tr th:only-of-type {\n",
       "        vertical-align: middle;\n",
       "    }\n",
       "\n",
       "    .dataframe tbody tr th {\n",
       "        vertical-align: top;\n",
       "    }\n",
       "\n",
       "    .dataframe thead th {\n",
       "        text-align: right;\n",
       "    }\n",
       "</style>\n",
       "<table border=\"1\" class=\"dataframe\">\n",
       "  <thead>\n",
       "    <tr style=\"text-align: right;\">\n",
       "      <th></th>\n",
       "      <th>Name</th>\n",
       "      <th>Gender</th>\n",
       "      <th>Age</th>\n",
       "      <th>Grade</th>\n",
       "      <th>Picture</th>\n",
       "      <th>BloodType</th>\n",
       "      <th>Height</th>\n",
       "      <th>Weight</th>\n",
       "    </tr>\n",
       "  </thead>\n",
       "  <tbody>\n",
       "    <tr>\n",
       "      <th>0</th>\n",
       "      <td>송태섭</td>\n",
       "      <td>남자</td>\n",
       "      <td>21</td>\n",
       "      <td>3</td>\n",
       "      <td>무</td>\n",
       "      <td>B</td>\n",
       "      <td>179.1</td>\n",
       "      <td>63.9</td>\n",
       "    </tr>\n",
       "    <tr>\n",
       "      <th>1</th>\n",
       "      <td>최유정</td>\n",
       "      <td>여자</td>\n",
       "      <td>23</td>\n",
       "      <td>1</td>\n",
       "      <td>유</td>\n",
       "      <td>A</td>\n",
       "      <td>177.1</td>\n",
       "      <td>54.9</td>\n",
       "    </tr>\n",
       "    <tr>\n",
       "      <th>2</th>\n",
       "      <td>이한나</td>\n",
       "      <td>여자</td>\n",
       "      <td>20</td>\n",
       "      <td>1</td>\n",
       "      <td>무</td>\n",
       "      <td>A</td>\n",
       "      <td>167.9</td>\n",
       "      <td>50.2</td>\n",
       "    </tr>\n",
       "    <tr>\n",
       "      <th>3</th>\n",
       "      <td>김소혜</td>\n",
       "      <td>여자</td>\n",
       "      <td>23</td>\n",
       "      <td>3</td>\n",
       "      <td>무</td>\n",
       "      <td>O</td>\n",
       "      <td>176.1</td>\n",
       "      <td>53.5</td>\n",
       "    </tr>\n",
       "    <tr>\n",
       "      <th>4</th>\n",
       "      <td>서태웅</td>\n",
       "      <td>남자</td>\n",
       "      <td>24</td>\n",
       "      <td>4</td>\n",
       "      <td>무</td>\n",
       "      <td>B</td>\n",
       "      <td>176.1</td>\n",
       "      <td>79.8</td>\n",
       "    </tr>\n",
       "    <tr>\n",
       "      <th>5</th>\n",
       "      <td>정대만</td>\n",
       "      <td>남자</td>\n",
       "      <td>24</td>\n",
       "      <td>2</td>\n",
       "      <td>유</td>\n",
       "      <td>B</td>\n",
       "      <td>175.2</td>\n",
       "      <td>61.7</td>\n",
       "    </tr>\n",
       "    <tr>\n",
       "      <th>6</th>\n",
       "      <td>이정환</td>\n",
       "      <td>남자</td>\n",
       "      <td>22</td>\n",
       "      <td>4</td>\n",
       "      <td>무</td>\n",
       "      <td>B</td>\n",
       "      <td>169.1</td>\n",
       "      <td>69.8</td>\n",
       "    </tr>\n",
       "    <tr>\n",
       "      <th>7</th>\n",
       "      <td>채소연</td>\n",
       "      <td>여자</td>\n",
       "      <td>22</td>\n",
       "      <td>2</td>\n",
       "      <td>유</td>\n",
       "      <td>AB</td>\n",
       "      <td>169.9</td>\n",
       "      <td>52.7</td>\n",
       "    </tr>\n",
       "    <tr>\n",
       "      <th>8</th>\n",
       "      <td>강백호</td>\n",
       "      <td>남자</td>\n",
       "      <td>23</td>\n",
       "      <td>3</td>\n",
       "      <td>무</td>\n",
       "      <td>O</td>\n",
       "      <td>165.5</td>\n",
       "      <td>68.5</td>\n",
       "    </tr>\n",
       "    <tr>\n",
       "      <th>9</th>\n",
       "      <td>전소미</td>\n",
       "      <td>여자</td>\n",
       "      <td>22</td>\n",
       "      <td>2</td>\n",
       "      <td>유</td>\n",
       "      <td>O</td>\n",
       "      <td>161.9</td>\n",
       "      <td>52.3</td>\n",
       "    </tr>\n",
       "    <tr>\n",
       "      <th>10</th>\n",
       "      <td>변덕규</td>\n",
       "      <td>남자</td>\n",
       "      <td>21</td>\n",
       "      <td>1</td>\n",
       "      <td>무</td>\n",
       "      <td>A</td>\n",
       "      <td>163.2</td>\n",
       "      <td>55.5</td>\n",
       "    </tr>\n",
       "    <tr>\n",
       "      <th>11</th>\n",
       "      <td>정채연</td>\n",
       "      <td>여자</td>\n",
       "      <td>22</td>\n",
       "      <td>2</td>\n",
       "      <td>무</td>\n",
       "      <td>B</td>\n",
       "      <td>157.8</td>\n",
       "      <td>44.9</td>\n",
       "    </tr>\n",
       "    <tr>\n",
       "      <th>12</th>\n",
       "      <td>권준호</td>\n",
       "      <td>남자</td>\n",
       "      <td>24</td>\n",
       "      <td>4</td>\n",
       "      <td>유</td>\n",
       "      <td>O</td>\n",
       "      <td>166.9</td>\n",
       "      <td>61.7</td>\n",
       "    </tr>\n",
       "    <tr>\n",
       "      <th>13</th>\n",
       "      <td>채치수</td>\n",
       "      <td>남자</td>\n",
       "      <td>23</td>\n",
       "      <td>3</td>\n",
       "      <td>무</td>\n",
       "      <td>AB</td>\n",
       "      <td>181.8</td>\n",
       "      <td>85.9</td>\n",
       "    </tr>\n",
       "    <tr>\n",
       "      <th>14</th>\n",
       "      <td>윤대협</td>\n",
       "      <td>남자</td>\n",
       "      <td>22</td>\n",
       "      <td>2</td>\n",
       "      <td>유</td>\n",
       "      <td>AB</td>\n",
       "      <td>180.3</td>\n",
       "      <td>76.2</td>\n",
       "    </tr>\n",
       "    <tr>\n",
       "      <th>15</th>\n",
       "      <td>김세정</td>\n",
       "      <td>여자</td>\n",
       "      <td>21</td>\n",
       "      <td>1</td>\n",
       "      <td>무</td>\n",
       "      <td>O</td>\n",
       "      <td>155.5</td>\n",
       "      <td>44.9</td>\n",
       "    </tr>\n",
       "    <tr>\n",
       "      <th>16</th>\n",
       "      <td>신준섭</td>\n",
       "      <td>남자</td>\n",
       "      <td>23</td>\n",
       "      <td>1</td>\n",
       "      <td>무</td>\n",
       "      <td>A</td>\n",
       "      <td>168.9</td>\n",
       "      <td>62.7</td>\n",
       "    </tr>\n",
       "  </tbody>\n",
       "</table>\n",
       "</div>"
      ],
      "text/plain": [
       "   Name Gender  Age  Grade Picture BloodType  Height  Weight\n",
       "0   송태섭     남자   21      3       무         B   179.1    63.9\n",
       "1   최유정     여자   23      1       유         A   177.1    54.9\n",
       "2   이한나     여자   20      1       무         A   167.9    50.2\n",
       "3   김소혜     여자   23      3       무         O   176.1    53.5\n",
       "4   서태웅     남자   24      4       무         B   176.1    79.8\n",
       "5   정대만     남자   24      2       유         B   175.2    61.7\n",
       "6   이정환     남자   22      4       무         B   169.1    69.8\n",
       "7   채소연     여자   22      2       유        AB   169.9    52.7\n",
       "8   강백호     남자   23      3       무         O   165.5    68.5\n",
       "9   전소미     여자   22      2       유         O   161.9    52.3\n",
       "10  변덕규     남자   21      1       무         A   163.2    55.5\n",
       "11  정채연     여자   22      2       무         B   157.8    44.9\n",
       "12  권준호     남자   24      4       유         O   166.9    61.7\n",
       "13  채치수     남자   23      3       무        AB   181.8    85.9\n",
       "14  윤대협     남자   22      2       유        AB   180.3    76.2\n",
       "15  김세정     여자   21      1       무         O   155.5    44.9\n",
       "16  신준섭     남자   23      1       무         A   168.9    62.7"
      ]
     },
     "execution_count": 7,
     "metadata": {},
     "output_type": "execute_result"
    }
   ],
   "source": [
    "DF1"
   ]
  },
  {
   "cell_type": "markdown",
   "metadata": {
    "id": "nS2JW1GJcNjV"
   },
   "source": [
    ">## 3) <font color = 'red'>.to_csv( )"
   ]
  },
  {
   "cell_type": "markdown",
   "metadata": {
    "id": "SkLAg1QYcgGy"
   },
   "source": [
    "* CSV 파일로 저장\n",
    " - https://pandas.pydata.org/docs/reference/api/pandas.DataFrame.to_csv.html#pandas.DataFrame.to_csv"
   ]
  },
  {
   "cell_type": "code",
   "execution_count": 9,
   "metadata": {},
   "outputs": [
    {
     "data": {
      "text/html": [
       "<div>\n",
       "<style scoped>\n",
       "    .dataframe tbody tr th:only-of-type {\n",
       "        vertical-align: middle;\n",
       "    }\n",
       "\n",
       "    .dataframe tbody tr th {\n",
       "        vertical-align: top;\n",
       "    }\n",
       "\n",
       "    .dataframe thead th {\n",
       "        text-align: right;\n",
       "    }\n",
       "</style>\n",
       "<table border=\"1\" class=\"dataframe\">\n",
       "  <thead>\n",
       "    <tr style=\"text-align: right;\">\n",
       "      <th></th>\n",
       "      <th>Name</th>\n",
       "      <th>Gender</th>\n",
       "      <th>Age</th>\n",
       "      <th>Grade</th>\n",
       "      <th>Picture</th>\n",
       "      <th>BloodType</th>\n",
       "      <th>Height</th>\n",
       "      <th>Weight</th>\n",
       "    </tr>\n",
       "  </thead>\n",
       "  <tbody>\n",
       "    <tr>\n",
       "      <th>0</th>\n",
       "      <td>송태섭</td>\n",
       "      <td>남자</td>\n",
       "      <td>21</td>\n",
       "      <td>3</td>\n",
       "      <td>무</td>\n",
       "      <td>B</td>\n",
       "      <td>179.1</td>\n",
       "      <td>63.9</td>\n",
       "    </tr>\n",
       "    <tr>\n",
       "      <th>1</th>\n",
       "      <td>최유정</td>\n",
       "      <td>여자</td>\n",
       "      <td>23</td>\n",
       "      <td>1</td>\n",
       "      <td>유</td>\n",
       "      <td>A</td>\n",
       "      <td>177.1</td>\n",
       "      <td>54.9</td>\n",
       "    </tr>\n",
       "    <tr>\n",
       "      <th>2</th>\n",
       "      <td>이한나</td>\n",
       "      <td>여자</td>\n",
       "      <td>20</td>\n",
       "      <td>1</td>\n",
       "      <td>무</td>\n",
       "      <td>A</td>\n",
       "      <td>167.9</td>\n",
       "      <td>50.2</td>\n",
       "    </tr>\n",
       "  </tbody>\n",
       "</table>\n",
       "</div>"
      ],
      "text/plain": [
       "  Name Gender  Age  Grade Picture BloodType  Height  Weight\n",
       "0  송태섭     남자   21      3       무         B   179.1    63.9\n",
       "1  최유정     여자   23      1       유         A   177.1    54.9\n",
       "2  이한나     여자   20      1       무         A   167.9    50.2"
      ]
     },
     "execution_count": 9,
     "metadata": {},
     "output_type": "execute_result"
    }
   ],
   "source": [
    "DF1[0:3]"
   ]
  },
  {
   "cell_type": "code",
   "execution_count": 10,
   "metadata": {
    "executionInfo": {
     "elapsed": 19,
     "status": "ok",
     "timestamp": 1746145621309,
     "user": {
      "displayName": "이정구",
      "userId": "01734653046128971875"
     },
     "user_tz": -540
    },
    "id": "oeCfxYYwa_XC"
   },
   "outputs": [],
   "source": [
    "DF1[0:3].to_csv('myCSV.csv', index = None)"
   ]
  },
  {
   "cell_type": "markdown",
   "metadata": {
    "id": "S0cFCzq5clFb"
   },
   "source": [
    "* 생성된 CSV 파일 확인"
   ]
  },
  {
   "cell_type": "code",
   "execution_count": null,
   "metadata": {
    "colab": {
     "base_uri": "https://localhost:8080/"
    },
    "executionInfo": {
     "elapsed": 67,
     "status": "ok",
     "timestamp": 1746145621360,
     "user": {
      "displayName": "이정구",
      "userId": "01734653046128971875"
     },
     "user_tz": -540
    },
    "id": "yDQ97QzhbHtn",
    "outputId": "dcae3567-c3af-477b-9074-535ebf9960a4"
   },
   "outputs": [
    {
     "name": "stderr",
     "output_type": "stream",
     "text": [
      "'ls'��(��) ���� �Ǵ� �ܺ� ����, ������ �� �ִ� ���α׷�, �Ǵ�\n",
      "��ġ ������ �ƴմϴ�.\n"
     ]
    }
   ],
   "source": [
    "!ls -l   #리눅스 명령"
   ]
  },
  {
   "cell_type": "markdown",
   "metadata": {
    "id": "CjaSSPsmcoOw"
   },
   "source": [
    "* .read_csv( ) 결과 확인"
   ]
  },
  {
   "cell_type": "code",
   "execution_count": 12,
   "metadata": {
    "colab": {
     "base_uri": "https://localhost:8080/",
     "height": 143
    },
    "executionInfo": {
     "elapsed": 48,
     "status": "ok",
     "timestamp": 1746145621409,
     "user": {
      "displayName": "이정구",
      "userId": "01734653046128971875"
     },
     "user_tz": -540
    },
    "id": "AmFOmeV2bYyI",
    "outputId": "cd05d7d5-dc76-47a7-91d0-0caf243fea8b"
   },
   "outputs": [
    {
     "data": {
      "text/html": [
       "<div>\n",
       "<style scoped>\n",
       "    .dataframe tbody tr th:only-of-type {\n",
       "        vertical-align: middle;\n",
       "    }\n",
       "\n",
       "    .dataframe tbody tr th {\n",
       "        vertical-align: top;\n",
       "    }\n",
       "\n",
       "    .dataframe thead th {\n",
       "        text-align: right;\n",
       "    }\n",
       "</style>\n",
       "<table border=\"1\" class=\"dataframe\">\n",
       "  <thead>\n",
       "    <tr style=\"text-align: right;\">\n",
       "      <th></th>\n",
       "      <th>Name</th>\n",
       "      <th>Gender</th>\n",
       "      <th>Age</th>\n",
       "      <th>Grade</th>\n",
       "      <th>Picture</th>\n",
       "      <th>BloodType</th>\n",
       "      <th>Height</th>\n",
       "      <th>Weight</th>\n",
       "    </tr>\n",
       "  </thead>\n",
       "  <tbody>\n",
       "    <tr>\n",
       "      <th>0</th>\n",
       "      <td>송태섭</td>\n",
       "      <td>남자</td>\n",
       "      <td>21</td>\n",
       "      <td>3</td>\n",
       "      <td>무</td>\n",
       "      <td>B</td>\n",
       "      <td>179.1</td>\n",
       "      <td>63.9</td>\n",
       "    </tr>\n",
       "    <tr>\n",
       "      <th>1</th>\n",
       "      <td>최유정</td>\n",
       "      <td>여자</td>\n",
       "      <td>23</td>\n",
       "      <td>1</td>\n",
       "      <td>유</td>\n",
       "      <td>A</td>\n",
       "      <td>177.1</td>\n",
       "      <td>54.9</td>\n",
       "    </tr>\n",
       "    <tr>\n",
       "      <th>2</th>\n",
       "      <td>이한나</td>\n",
       "      <td>여자</td>\n",
       "      <td>20</td>\n",
       "      <td>1</td>\n",
       "      <td>무</td>\n",
       "      <td>A</td>\n",
       "      <td>167.9</td>\n",
       "      <td>50.2</td>\n",
       "    </tr>\n",
       "  </tbody>\n",
       "</table>\n",
       "</div>"
      ],
      "text/plain": [
       "  Name Gender  Age  Grade Picture BloodType  Height  Weight\n",
       "0  송태섭     남자   21      3       무         B   179.1    63.9\n",
       "1  최유정     여자   23      1       유         A   177.1    54.9\n",
       "2  이한나     여자   20      1       무         A   167.9    50.2"
      ]
     },
     "execution_count": 12,
     "metadata": {},
     "output_type": "execute_result"
    }
   ],
   "source": [
    "pd.read_csv('myCSV.csv')"
   ]
  },
  {
   "cell_type": "markdown",
   "metadata": {
    "id": "w0nswwqzioD2"
   },
   "source": [
    "> ## 4) <font color = 'blue'>.read_excel( )"
   ]
  },
  {
   "cell_type": "markdown",
   "metadata": {
    "id": "HyDbvPgSXo1e"
   },
   "source": [
    "* https://pandas.pydata.org/docs/reference/api/pandas.read_excel.html"
   ]
  },
  {
   "cell_type": "code",
   "execution_count": 13,
   "metadata": {
    "executionInfo": {
     "elapsed": 484,
     "status": "ok",
     "timestamp": 1746145621894,
     "user": {
      "displayName": "이정구",
      "userId": "01734653046128971875"
     },
     "user_tz": -540
    },
    "id": "AeuT2cDEitJB"
   },
   "outputs": [],
   "source": [
    "DF2 = pd.read_excel('PII.xlsx')"
   ]
  },
  {
   "cell_type": "markdown",
   "metadata": {
    "id": "EBHWuibZXqRH"
   },
   "source": [
    "* DataFrame"
   ]
  },
  {
   "cell_type": "code",
   "execution_count": 14,
   "metadata": {
    "colab": {
     "base_uri": "https://localhost:8080/",
     "height": 203
    },
    "executionInfo": {
     "elapsed": 306,
     "status": "ok",
     "timestamp": 1746145622199,
     "user": {
      "displayName": "이정구",
      "userId": "01734653046128971875"
     },
     "user_tz": -540
    },
    "id": "UJ3hmw-xX1rs",
    "outputId": "a910269e-4378-4889-c7f0-580ea77088c0"
   },
   "outputs": [
    {
     "data": {
      "text/plain": [
       "pandas.core.frame.DataFrame"
      ]
     },
     "execution_count": 14,
     "metadata": {},
     "output_type": "execute_result"
    }
   ],
   "source": [
    "type(DF2)"
   ]
  },
  {
   "cell_type": "code",
   "execution_count": 15,
   "metadata": {
    "colab": {
     "base_uri": "https://localhost:8080/",
     "height": 582
    },
    "executionInfo": {
     "elapsed": 38,
     "status": "ok",
     "timestamp": 1746145622245,
     "user": {
      "displayName": "이정구",
      "userId": "01734653046128971875"
     },
     "user_tz": -540
    },
    "id": "44OKSaCFjEq5",
    "outputId": "b0fa2713-064b-4b40-e03c-9862864f6b11"
   },
   "outputs": [
    {
     "data": {
      "text/html": [
       "<div>\n",
       "<style scoped>\n",
       "    .dataframe tbody tr th:only-of-type {\n",
       "        vertical-align: middle;\n",
       "    }\n",
       "\n",
       "    .dataframe tbody tr th {\n",
       "        vertical-align: top;\n",
       "    }\n",
       "\n",
       "    .dataframe thead th {\n",
       "        text-align: right;\n",
       "    }\n",
       "</style>\n",
       "<table border=\"1\" class=\"dataframe\">\n",
       "  <thead>\n",
       "    <tr style=\"text-align: right;\">\n",
       "      <th></th>\n",
       "      <th>Name</th>\n",
       "      <th>Gender</th>\n",
       "      <th>Age</th>\n",
       "      <th>Grade</th>\n",
       "      <th>Picture</th>\n",
       "      <th>BloodType</th>\n",
       "      <th>Height</th>\n",
       "      <th>Weight</th>\n",
       "    </tr>\n",
       "  </thead>\n",
       "  <tbody>\n",
       "    <tr>\n",
       "      <th>0</th>\n",
       "      <td>송태섭</td>\n",
       "      <td>남자</td>\n",
       "      <td>21</td>\n",
       "      <td>3</td>\n",
       "      <td>무</td>\n",
       "      <td>B</td>\n",
       "      <td>179.1</td>\n",
       "      <td>63.9</td>\n",
       "    </tr>\n",
       "    <tr>\n",
       "      <th>1</th>\n",
       "      <td>최유정</td>\n",
       "      <td>여자</td>\n",
       "      <td>23</td>\n",
       "      <td>1</td>\n",
       "      <td>유</td>\n",
       "      <td>A</td>\n",
       "      <td>177.1</td>\n",
       "      <td>54.9</td>\n",
       "    </tr>\n",
       "    <tr>\n",
       "      <th>2</th>\n",
       "      <td>이한나</td>\n",
       "      <td>여자</td>\n",
       "      <td>20</td>\n",
       "      <td>1</td>\n",
       "      <td>무</td>\n",
       "      <td>A</td>\n",
       "      <td>167.9</td>\n",
       "      <td>50.2</td>\n",
       "    </tr>\n",
       "    <tr>\n",
       "      <th>3</th>\n",
       "      <td>김소혜</td>\n",
       "      <td>여자</td>\n",
       "      <td>23</td>\n",
       "      <td>3</td>\n",
       "      <td>무</td>\n",
       "      <td>O</td>\n",
       "      <td>176.1</td>\n",
       "      <td>53.5</td>\n",
       "    </tr>\n",
       "    <tr>\n",
       "      <th>4</th>\n",
       "      <td>서태웅</td>\n",
       "      <td>남자</td>\n",
       "      <td>24</td>\n",
       "      <td>4</td>\n",
       "      <td>무</td>\n",
       "      <td>B</td>\n",
       "      <td>176.1</td>\n",
       "      <td>79.8</td>\n",
       "    </tr>\n",
       "    <tr>\n",
       "      <th>5</th>\n",
       "      <td>정대만</td>\n",
       "      <td>남자</td>\n",
       "      <td>24</td>\n",
       "      <td>2</td>\n",
       "      <td>유</td>\n",
       "      <td>B</td>\n",
       "      <td>175.2</td>\n",
       "      <td>61.7</td>\n",
       "    </tr>\n",
       "    <tr>\n",
       "      <th>6</th>\n",
       "      <td>이정환</td>\n",
       "      <td>남자</td>\n",
       "      <td>22</td>\n",
       "      <td>4</td>\n",
       "      <td>무</td>\n",
       "      <td>B</td>\n",
       "      <td>169.1</td>\n",
       "      <td>69.8</td>\n",
       "    </tr>\n",
       "    <tr>\n",
       "      <th>7</th>\n",
       "      <td>채소연</td>\n",
       "      <td>여자</td>\n",
       "      <td>22</td>\n",
       "      <td>2</td>\n",
       "      <td>유</td>\n",
       "      <td>AB</td>\n",
       "      <td>169.9</td>\n",
       "      <td>52.7</td>\n",
       "    </tr>\n",
       "    <tr>\n",
       "      <th>8</th>\n",
       "      <td>강백호</td>\n",
       "      <td>남자</td>\n",
       "      <td>23</td>\n",
       "      <td>3</td>\n",
       "      <td>무</td>\n",
       "      <td>O</td>\n",
       "      <td>165.5</td>\n",
       "      <td>68.5</td>\n",
       "    </tr>\n",
       "    <tr>\n",
       "      <th>9</th>\n",
       "      <td>전소미</td>\n",
       "      <td>여자</td>\n",
       "      <td>22</td>\n",
       "      <td>2</td>\n",
       "      <td>유</td>\n",
       "      <td>O</td>\n",
       "      <td>161.9</td>\n",
       "      <td>52.3</td>\n",
       "    </tr>\n",
       "    <tr>\n",
       "      <th>10</th>\n",
       "      <td>변덕규</td>\n",
       "      <td>남자</td>\n",
       "      <td>21</td>\n",
       "      <td>1</td>\n",
       "      <td>무</td>\n",
       "      <td>A</td>\n",
       "      <td>163.2</td>\n",
       "      <td>55.5</td>\n",
       "    </tr>\n",
       "    <tr>\n",
       "      <th>11</th>\n",
       "      <td>정채연</td>\n",
       "      <td>여자</td>\n",
       "      <td>22</td>\n",
       "      <td>2</td>\n",
       "      <td>무</td>\n",
       "      <td>B</td>\n",
       "      <td>157.8</td>\n",
       "      <td>44.9</td>\n",
       "    </tr>\n",
       "    <tr>\n",
       "      <th>12</th>\n",
       "      <td>권준호</td>\n",
       "      <td>남자</td>\n",
       "      <td>24</td>\n",
       "      <td>4</td>\n",
       "      <td>유</td>\n",
       "      <td>O</td>\n",
       "      <td>166.9</td>\n",
       "      <td>61.7</td>\n",
       "    </tr>\n",
       "    <tr>\n",
       "      <th>13</th>\n",
       "      <td>채치수</td>\n",
       "      <td>남자</td>\n",
       "      <td>23</td>\n",
       "      <td>3</td>\n",
       "      <td>무</td>\n",
       "      <td>AB</td>\n",
       "      <td>181.8</td>\n",
       "      <td>85.9</td>\n",
       "    </tr>\n",
       "    <tr>\n",
       "      <th>14</th>\n",
       "      <td>윤대협</td>\n",
       "      <td>남자</td>\n",
       "      <td>22</td>\n",
       "      <td>2</td>\n",
       "      <td>유</td>\n",
       "      <td>AB</td>\n",
       "      <td>180.3</td>\n",
       "      <td>76.2</td>\n",
       "    </tr>\n",
       "    <tr>\n",
       "      <th>15</th>\n",
       "      <td>김세정</td>\n",
       "      <td>여자</td>\n",
       "      <td>21</td>\n",
       "      <td>1</td>\n",
       "      <td>무</td>\n",
       "      <td>O</td>\n",
       "      <td>155.5</td>\n",
       "      <td>44.9</td>\n",
       "    </tr>\n",
       "    <tr>\n",
       "      <th>16</th>\n",
       "      <td>신준섭</td>\n",
       "      <td>남자</td>\n",
       "      <td>23</td>\n",
       "      <td>1</td>\n",
       "      <td>무</td>\n",
       "      <td>A</td>\n",
       "      <td>168.9</td>\n",
       "      <td>62.7</td>\n",
       "    </tr>\n",
       "  </tbody>\n",
       "</table>\n",
       "</div>"
      ],
      "text/plain": [
       "   Name Gender  Age  Grade Picture BloodType  Height  Weight\n",
       "0   송태섭     남자   21      3       무         B   179.1    63.9\n",
       "1   최유정     여자   23      1       유         A   177.1    54.9\n",
       "2   이한나     여자   20      1       무         A   167.9    50.2\n",
       "3   김소혜     여자   23      3       무         O   176.1    53.5\n",
       "4   서태웅     남자   24      4       무         B   176.1    79.8\n",
       "5   정대만     남자   24      2       유         B   175.2    61.7\n",
       "6   이정환     남자   22      4       무         B   169.1    69.8\n",
       "7   채소연     여자   22      2       유        AB   169.9    52.7\n",
       "8   강백호     남자   23      3       무         O   165.5    68.5\n",
       "9   전소미     여자   22      2       유         O   161.9    52.3\n",
       "10  변덕규     남자   21      1       무         A   163.2    55.5\n",
       "11  정채연     여자   22      2       무         B   157.8    44.9\n",
       "12  권준호     남자   24      4       유         O   166.9    61.7\n",
       "13  채치수     남자   23      3       무        AB   181.8    85.9\n",
       "14  윤대협     남자   22      2       유        AB   180.3    76.2\n",
       "15  김세정     여자   21      1       무         O   155.5    44.9\n",
       "16  신준섭     남자   23      1       무         A   168.9    62.7"
      ]
     },
     "execution_count": 15,
     "metadata": {},
     "output_type": "execute_result"
    }
   ],
   "source": [
    "DF2"
   ]
  },
  {
   "cell_type": "markdown",
   "metadata": {
    "id": "GTQYWHUmcxz-"
   },
   "source": [
    ">## 5) <font color = 'red'>.to_excel( )"
   ]
  },
  {
   "cell_type": "markdown",
   "metadata": {
    "id": "AB3BrCVec1g5"
   },
   "source": [
    "* Excel 파일로 저장\n",
    " - https://pandas.pydata.org/docs/reference/api/pandas.DataFrame.to_excel.html"
   ]
  },
  {
   "cell_type": "code",
   "execution_count": 16,
   "metadata": {},
   "outputs": [
    {
     "data": {
      "text/html": [
       "<div>\n",
       "<style scoped>\n",
       "    .dataframe tbody tr th:only-of-type {\n",
       "        vertical-align: middle;\n",
       "    }\n",
       "\n",
       "    .dataframe tbody tr th {\n",
       "        vertical-align: top;\n",
       "    }\n",
       "\n",
       "    .dataframe thead th {\n",
       "        text-align: right;\n",
       "    }\n",
       "</style>\n",
       "<table border=\"1\" class=\"dataframe\">\n",
       "  <thead>\n",
       "    <tr style=\"text-align: right;\">\n",
       "      <th></th>\n",
       "      <th>Name</th>\n",
       "      <th>Gender</th>\n",
       "      <th>Age</th>\n",
       "      <th>Grade</th>\n",
       "      <th>Picture</th>\n",
       "      <th>BloodType</th>\n",
       "      <th>Height</th>\n",
       "      <th>Weight</th>\n",
       "    </tr>\n",
       "  </thead>\n",
       "  <tbody>\n",
       "    <tr>\n",
       "      <th>14</th>\n",
       "      <td>윤대협</td>\n",
       "      <td>남자</td>\n",
       "      <td>22</td>\n",
       "      <td>2</td>\n",
       "      <td>유</td>\n",
       "      <td>AB</td>\n",
       "      <td>180.3</td>\n",
       "      <td>76.2</td>\n",
       "    </tr>\n",
       "    <tr>\n",
       "      <th>15</th>\n",
       "      <td>김세정</td>\n",
       "      <td>여자</td>\n",
       "      <td>21</td>\n",
       "      <td>1</td>\n",
       "      <td>무</td>\n",
       "      <td>O</td>\n",
       "      <td>155.5</td>\n",
       "      <td>44.9</td>\n",
       "    </tr>\n",
       "    <tr>\n",
       "      <th>16</th>\n",
       "      <td>신준섭</td>\n",
       "      <td>남자</td>\n",
       "      <td>23</td>\n",
       "      <td>1</td>\n",
       "      <td>무</td>\n",
       "      <td>A</td>\n",
       "      <td>168.9</td>\n",
       "      <td>62.7</td>\n",
       "    </tr>\n",
       "  </tbody>\n",
       "</table>\n",
       "</div>"
      ],
      "text/plain": [
       "   Name Gender  Age  Grade Picture BloodType  Height  Weight\n",
       "14  윤대협     남자   22      2       유        AB   180.3    76.2\n",
       "15  김세정     여자   21      1       무         O   155.5    44.9\n",
       "16  신준섭     남자   23      1       무         A   168.9    62.7"
      ]
     },
     "execution_count": 16,
     "metadata": {},
     "output_type": "execute_result"
    }
   ],
   "source": [
    "DF2[14:]"
   ]
  },
  {
   "cell_type": "code",
   "execution_count": 17,
   "metadata": {
    "executionInfo": {
     "elapsed": 16,
     "status": "ok",
     "timestamp": 1746145622263,
     "user": {
      "displayName": "이정구",
      "userId": "01734653046128971875"
     },
     "user_tz": -540
    },
    "id": "tWbDmdEtbM8s"
   },
   "outputs": [],
   "source": [
    "DF2[14:].to_excel('myExcel.xlsx', index = None)"
   ]
  },
  {
   "cell_type": "markdown",
   "metadata": {
    "id": "ATxGg_YAc9Oc"
   },
   "source": [
    "* 생성된 Excel 파일 확인"
   ]
  },
  {
   "cell_type": "code",
   "execution_count": 18,
   "metadata": {
    "colab": {
     "base_uri": "https://localhost:8080/"
    },
    "executionInfo": {
     "elapsed": 152,
     "status": "ok",
     "timestamp": 1746145622420,
     "user": {
      "displayName": "이정구",
      "userId": "01734653046128971875"
     },
     "user_tz": -540
    },
    "id": "Eo9fJy4IbTlq",
    "outputId": "94c17c4f-428d-4f95-bbbb-6064fe82c4b3"
   },
   "outputs": [
    {
     "name": "stderr",
     "output_type": "stream",
     "text": [
      "'ls'��(��) ���� �Ǵ� �ܺ� ����, ������ �� �ִ� ���α׷�, �Ǵ�\n",
      "��ġ ������ �ƴմϴ�.\n"
     ]
    }
   ],
   "source": [
    "!ls -l"
   ]
  },
  {
   "cell_type": "markdown",
   "metadata": {
    "id": "dbhyJq2OdAJZ"
   },
   "source": [
    "* .read_excel( ) 결과 확인"
   ]
  },
  {
   "cell_type": "code",
   "execution_count": 19,
   "metadata": {
    "colab": {
     "base_uri": "https://localhost:8080/",
     "height": 143
    },
    "executionInfo": {
     "elapsed": 32,
     "status": "ok",
     "timestamp": 1746145622451,
     "user": {
      "displayName": "이정구",
      "userId": "01734653046128971875"
     },
     "user_tz": -540
    },
    "id": "KN2EP2HlbzeO",
    "outputId": "7adc310d-6dae-4d57-b6b4-af235eb352be"
   },
   "outputs": [
    {
     "data": {
      "text/html": [
       "<div>\n",
       "<style scoped>\n",
       "    .dataframe tbody tr th:only-of-type {\n",
       "        vertical-align: middle;\n",
       "    }\n",
       "\n",
       "    .dataframe tbody tr th {\n",
       "        vertical-align: top;\n",
       "    }\n",
       "\n",
       "    .dataframe thead th {\n",
       "        text-align: right;\n",
       "    }\n",
       "</style>\n",
       "<table border=\"1\" class=\"dataframe\">\n",
       "  <thead>\n",
       "    <tr style=\"text-align: right;\">\n",
       "      <th></th>\n",
       "      <th>Name</th>\n",
       "      <th>Gender</th>\n",
       "      <th>Age</th>\n",
       "      <th>Grade</th>\n",
       "      <th>Picture</th>\n",
       "      <th>BloodType</th>\n",
       "      <th>Height</th>\n",
       "      <th>Weight</th>\n",
       "    </tr>\n",
       "  </thead>\n",
       "  <tbody>\n",
       "    <tr>\n",
       "      <th>0</th>\n",
       "      <td>윤대협</td>\n",
       "      <td>남자</td>\n",
       "      <td>22</td>\n",
       "      <td>2</td>\n",
       "      <td>유</td>\n",
       "      <td>AB</td>\n",
       "      <td>180.3</td>\n",
       "      <td>76.2</td>\n",
       "    </tr>\n",
       "    <tr>\n",
       "      <th>1</th>\n",
       "      <td>김세정</td>\n",
       "      <td>여자</td>\n",
       "      <td>21</td>\n",
       "      <td>1</td>\n",
       "      <td>무</td>\n",
       "      <td>O</td>\n",
       "      <td>155.5</td>\n",
       "      <td>44.9</td>\n",
       "    </tr>\n",
       "    <tr>\n",
       "      <th>2</th>\n",
       "      <td>신준섭</td>\n",
       "      <td>남자</td>\n",
       "      <td>23</td>\n",
       "      <td>1</td>\n",
       "      <td>무</td>\n",
       "      <td>A</td>\n",
       "      <td>168.9</td>\n",
       "      <td>62.7</td>\n",
       "    </tr>\n",
       "  </tbody>\n",
       "</table>\n",
       "</div>"
      ],
      "text/plain": [
       "  Name Gender  Age  Grade Picture BloodType  Height  Weight\n",
       "0  윤대협     남자   22      2       유        AB   180.3    76.2\n",
       "1  김세정     여자   21      1       무         O   155.5    44.9\n",
       "2  신준섭     남자   23      1       무         A   168.9    62.7"
      ]
     },
     "execution_count": 19,
     "metadata": {},
     "output_type": "execute_result"
    }
   ],
   "source": [
    "pd.read_excel('myExcel.xlsx')"
   ]
  },
  {
   "cell_type": "markdown",
   "metadata": {
    "id": "5ifwSqUGlX2j"
   },
   "source": [
    "> ## 6) DataFrame Information"
   ]
  },
  {
   "cell_type": "markdown",
   "metadata": {
    "id": "d0PAShz2YMUp"
   },
   "source": [
    "* <font color = 'blue'>.info( )"
   ]
  },
  {
   "cell_type": "code",
   "execution_count": 20,
   "metadata": {
    "colab": {
     "base_uri": "https://localhost:8080/"
    },
    "executionInfo": {
     "elapsed": 28,
     "status": "ok",
     "timestamp": 1746145622480,
     "user": {
      "displayName": "이정구",
      "userId": "01734653046128971875"
     },
     "user_tz": -540
    },
    "id": "0ssBa4DxHgUa",
    "outputId": "2f89076b-56b3-41d9-d931-702bae2dab49"
   },
   "outputs": [
    {
     "name": "stdout",
     "output_type": "stream",
     "text": [
      "<class 'pandas.core.frame.DataFrame'>\n",
      "RangeIndex: 17 entries, 0 to 16\n",
      "Data columns (total 8 columns):\n",
      " #   Column     Non-Null Count  Dtype  \n",
      "---  ------     --------------  -----  \n",
      " 0   Name       17 non-null     object \n",
      " 1   Gender     17 non-null     object \n",
      " 2   Age        17 non-null     int64  \n",
      " 3   Grade      17 non-null     int64  \n",
      " 4   Picture    17 non-null     object \n",
      " 5   BloodType  17 non-null     object \n",
      " 6   Height     17 non-null     float64\n",
      " 7   Weight     17 non-null     float64\n",
      "dtypes: float64(2), int64(2), object(4)\n",
      "memory usage: 1.2+ KB\n"
     ]
    }
   ],
   "source": [
    "DF1.info()"
   ]
  },
  {
   "cell_type": "markdown",
   "metadata": {
    "id": "lcgdqgAAYPAx"
   },
   "source": [
    "* .index - 행_정보"
   ]
  },
  {
   "cell_type": "code",
   "execution_count": 21,
   "metadata": {
    "colab": {
     "base_uri": "https://localhost:8080/"
    },
    "executionInfo": {
     "elapsed": 4,
     "status": "ok",
     "timestamp": 1746145622481,
     "user": {
      "displayName": "이정구",
      "userId": "01734653046128971875"
     },
     "user_tz": -540
    },
    "id": "Oj1MIthnqSRF",
    "outputId": "ea62318a-9496-40bc-e95a-3bc6c46759df"
   },
   "outputs": [
    {
     "data": {
      "text/plain": [
       "RangeIndex(start=0, stop=17, step=1)"
      ]
     },
     "execution_count": 21,
     "metadata": {},
     "output_type": "execute_result"
    }
   ],
   "source": [
    "DF1.index"
   ]
  },
  {
   "cell_type": "markdown",
   "metadata": {
    "id": "-DUUioNNYQyz"
   },
   "source": [
    "* .columns - 열_정보"
   ]
  },
  {
   "cell_type": "code",
   "execution_count": 22,
   "metadata": {
    "colab": {
     "base_uri": "https://localhost:8080/"
    },
    "executionInfo": {
     "elapsed": 5,
     "status": "ok",
     "timestamp": 1746145622487,
     "user": {
      "displayName": "이정구",
      "userId": "01734653046128971875"
     },
     "user_tz": -540
    },
    "id": "26nUl34Wlzgg",
    "outputId": "3e448972-d480-4cef-dba5-cef1410a78e2"
   },
   "outputs": [
    {
     "data": {
      "text/plain": [
       "Index(['Name', 'Gender', 'Age', 'Grade', 'Picture', 'BloodType', 'Height',\n",
       "       'Weight'],\n",
       "      dtype='object')"
      ]
     },
     "execution_count": 22,
     "metadata": {},
     "output_type": "execute_result"
    }
   ],
   "source": [
    "DF1.columns"
   ]
  },
  {
   "cell_type": "markdown",
   "metadata": {
    "id": "bvwLMNpKYTbB"
   },
   "source": [
    "* .values - <font color = 'red'>Array"
   ]
  },
  {
   "cell_type": "code",
   "execution_count": 23,
   "metadata": {
    "colab": {
     "base_uri": "https://localhost:8080/"
    },
    "executionInfo": {
     "elapsed": 4,
     "status": "ok",
     "timestamp": 1746145622492,
     "user": {
      "displayName": "이정구",
      "userId": "01734653046128971875"
     },
     "user_tz": -540
    },
    "id": "--3RAJgMqYO4",
    "outputId": "b40bb217-c4bb-4df5-9fb1-64f917b48fce"
   },
   "outputs": [
    {
     "data": {
      "text/plain": [
       "array([['송태섭', '남자', 21, 3, '무', 'B', 179.1, 63.9],\n",
       "       ['최유정', '여자', 23, 1, '유', 'A', 177.1, 54.9],\n",
       "       ['이한나', '여자', 20, 1, '무', 'A', 167.9, 50.2],\n",
       "       ['김소혜', '여자', 23, 3, '무', 'O', 176.1, 53.5],\n",
       "       ['서태웅', '남자', 24, 4, '무', 'B', 176.1, 79.8],\n",
       "       ['정대만', '남자', 24, 2, '유', 'B', 175.2, 61.7],\n",
       "       ['이정환', '남자', 22, 4, '무', 'B', 169.1, 69.8],\n",
       "       ['채소연', '여자', 22, 2, '유', 'AB', 169.9, 52.7],\n",
       "       ['강백호', '남자', 23, 3, '무', 'O', 165.5, 68.5],\n",
       "       ['전소미', '여자', 22, 2, '유', 'O', 161.9, 52.3],\n",
       "       ['변덕규', '남자', 21, 1, '무', 'A', 163.2, 55.5],\n",
       "       ['정채연', '여자', 22, 2, '무', 'B', 157.8, 44.9],\n",
       "       ['권준호', '남자', 24, 4, '유', 'O', 166.9, 61.7],\n",
       "       ['채치수', '남자', 23, 3, '무', 'AB', 181.8, 85.9],\n",
       "       ['윤대협', '남자', 22, 2, '유', 'AB', 180.3, 76.2],\n",
       "       ['김세정', '여자', 21, 1, '무', 'O', 155.5, 44.9],\n",
       "       ['신준섭', '남자', 23, 1, '무', 'A', 168.9, 62.7]], dtype=object)"
      ]
     },
     "execution_count": 23,
     "metadata": {},
     "output_type": "execute_result"
    }
   ],
   "source": [
    "DF1.values"
   ]
  },
  {
   "cell_type": "markdown",
   "metadata": {
    "id": "KVKrwU-qtqFu"
   },
   "source": [
    "> ## 7) Function"
   ]
  },
  {
   "cell_type": "markdown",
   "metadata": {
    "id": "e82inNJ8ikL5"
   },
   "source": [
    "* .head( )\n",
    " - 위에서 5행 출력"
   ]
  },
  {
   "cell_type": "code",
   "execution_count": 24,
   "metadata": {
    "colab": {
     "base_uri": "https://localhost:8080/",
     "height": 206
    },
    "executionInfo": {
     "elapsed": 34,
     "status": "ok",
     "timestamp": 1746145622527,
     "user": {
      "displayName": "이정구",
      "userId": "01734653046128971875"
     },
     "user_tz": -540
    },
    "id": "liWDrSnwjcN1",
    "outputId": "0d0b0a8f-ace8-45b7-aee6-ce5c1ac700b7"
   },
   "outputs": [
    {
     "data": {
      "text/html": [
       "<div>\n",
       "<style scoped>\n",
       "    .dataframe tbody tr th:only-of-type {\n",
       "        vertical-align: middle;\n",
       "    }\n",
       "\n",
       "    .dataframe tbody tr th {\n",
       "        vertical-align: top;\n",
       "    }\n",
       "\n",
       "    .dataframe thead th {\n",
       "        text-align: right;\n",
       "    }\n",
       "</style>\n",
       "<table border=\"1\" class=\"dataframe\">\n",
       "  <thead>\n",
       "    <tr style=\"text-align: right;\">\n",
       "      <th></th>\n",
       "      <th>Name</th>\n",
       "      <th>Gender</th>\n",
       "      <th>Age</th>\n",
       "      <th>Grade</th>\n",
       "      <th>Picture</th>\n",
       "      <th>BloodType</th>\n",
       "      <th>Height</th>\n",
       "      <th>Weight</th>\n",
       "    </tr>\n",
       "  </thead>\n",
       "  <tbody>\n",
       "    <tr>\n",
       "      <th>0</th>\n",
       "      <td>송태섭</td>\n",
       "      <td>남자</td>\n",
       "      <td>21</td>\n",
       "      <td>3</td>\n",
       "      <td>무</td>\n",
       "      <td>B</td>\n",
       "      <td>179.1</td>\n",
       "      <td>63.9</td>\n",
       "    </tr>\n",
       "    <tr>\n",
       "      <th>1</th>\n",
       "      <td>최유정</td>\n",
       "      <td>여자</td>\n",
       "      <td>23</td>\n",
       "      <td>1</td>\n",
       "      <td>유</td>\n",
       "      <td>A</td>\n",
       "      <td>177.1</td>\n",
       "      <td>54.9</td>\n",
       "    </tr>\n",
       "    <tr>\n",
       "      <th>2</th>\n",
       "      <td>이한나</td>\n",
       "      <td>여자</td>\n",
       "      <td>20</td>\n",
       "      <td>1</td>\n",
       "      <td>무</td>\n",
       "      <td>A</td>\n",
       "      <td>167.9</td>\n",
       "      <td>50.2</td>\n",
       "    </tr>\n",
       "    <tr>\n",
       "      <th>3</th>\n",
       "      <td>김소혜</td>\n",
       "      <td>여자</td>\n",
       "      <td>23</td>\n",
       "      <td>3</td>\n",
       "      <td>무</td>\n",
       "      <td>O</td>\n",
       "      <td>176.1</td>\n",
       "      <td>53.5</td>\n",
       "    </tr>\n",
       "    <tr>\n",
       "      <th>4</th>\n",
       "      <td>서태웅</td>\n",
       "      <td>남자</td>\n",
       "      <td>24</td>\n",
       "      <td>4</td>\n",
       "      <td>무</td>\n",
       "      <td>B</td>\n",
       "      <td>176.1</td>\n",
       "      <td>79.8</td>\n",
       "    </tr>\n",
       "  </tbody>\n",
       "</table>\n",
       "</div>"
      ],
      "text/plain": [
       "  Name Gender  Age  Grade Picture BloodType  Height  Weight\n",
       "0  송태섭     남자   21      3       무         B   179.1    63.9\n",
       "1  최유정     여자   23      1       유         A   177.1    54.9\n",
       "2  이한나     여자   20      1       무         A   167.9    50.2\n",
       "3  김소혜     여자   23      3       무         O   176.1    53.5\n",
       "4  서태웅     남자   24      4       무         B   176.1    79.8"
      ]
     },
     "execution_count": 24,
     "metadata": {},
     "output_type": "execute_result"
    }
   ],
   "source": [
    "DF1.head()"
   ]
  },
  {
   "cell_type": "markdown",
   "metadata": {
    "id": "TZlDl78Iisr4"
   },
   "source": [
    "* .tail( )\n",
    " - 밑에서 5행 출력"
   ]
  },
  {
   "cell_type": "code",
   "execution_count": 25,
   "metadata": {
    "colab": {
     "base_uri": "https://localhost:8080/",
     "height": 206
    },
    "executionInfo": {
     "elapsed": 22,
     "status": "ok",
     "timestamp": 1746145622551,
     "user": {
      "displayName": "이정구",
      "userId": "01734653046128971875"
     },
     "user_tz": -540
    },
    "id": "FAg_fI3qlrT3",
    "outputId": "489c9dc4-9eee-439f-a567-a9be25754fd6"
   },
   "outputs": [
    {
     "data": {
      "text/html": [
       "<div>\n",
       "<style scoped>\n",
       "    .dataframe tbody tr th:only-of-type {\n",
       "        vertical-align: middle;\n",
       "    }\n",
       "\n",
       "    .dataframe tbody tr th {\n",
       "        vertical-align: top;\n",
       "    }\n",
       "\n",
       "    .dataframe thead th {\n",
       "        text-align: right;\n",
       "    }\n",
       "</style>\n",
       "<table border=\"1\" class=\"dataframe\">\n",
       "  <thead>\n",
       "    <tr style=\"text-align: right;\">\n",
       "      <th></th>\n",
       "      <th>Name</th>\n",
       "      <th>Gender</th>\n",
       "      <th>Age</th>\n",
       "      <th>Grade</th>\n",
       "      <th>Picture</th>\n",
       "      <th>BloodType</th>\n",
       "      <th>Height</th>\n",
       "      <th>Weight</th>\n",
       "    </tr>\n",
       "  </thead>\n",
       "  <tbody>\n",
       "    <tr>\n",
       "      <th>12</th>\n",
       "      <td>권준호</td>\n",
       "      <td>남자</td>\n",
       "      <td>24</td>\n",
       "      <td>4</td>\n",
       "      <td>유</td>\n",
       "      <td>O</td>\n",
       "      <td>166.9</td>\n",
       "      <td>61.7</td>\n",
       "    </tr>\n",
       "    <tr>\n",
       "      <th>13</th>\n",
       "      <td>채치수</td>\n",
       "      <td>남자</td>\n",
       "      <td>23</td>\n",
       "      <td>3</td>\n",
       "      <td>무</td>\n",
       "      <td>AB</td>\n",
       "      <td>181.8</td>\n",
       "      <td>85.9</td>\n",
       "    </tr>\n",
       "    <tr>\n",
       "      <th>14</th>\n",
       "      <td>윤대협</td>\n",
       "      <td>남자</td>\n",
       "      <td>22</td>\n",
       "      <td>2</td>\n",
       "      <td>유</td>\n",
       "      <td>AB</td>\n",
       "      <td>180.3</td>\n",
       "      <td>76.2</td>\n",
       "    </tr>\n",
       "    <tr>\n",
       "      <th>15</th>\n",
       "      <td>김세정</td>\n",
       "      <td>여자</td>\n",
       "      <td>21</td>\n",
       "      <td>1</td>\n",
       "      <td>무</td>\n",
       "      <td>O</td>\n",
       "      <td>155.5</td>\n",
       "      <td>44.9</td>\n",
       "    </tr>\n",
       "    <tr>\n",
       "      <th>16</th>\n",
       "      <td>신준섭</td>\n",
       "      <td>남자</td>\n",
       "      <td>23</td>\n",
       "      <td>1</td>\n",
       "      <td>무</td>\n",
       "      <td>A</td>\n",
       "      <td>168.9</td>\n",
       "      <td>62.7</td>\n",
       "    </tr>\n",
       "  </tbody>\n",
       "</table>\n",
       "</div>"
      ],
      "text/plain": [
       "   Name Gender  Age  Grade Picture BloodType  Height  Weight\n",
       "12  권준호     남자   24      4       유         O   166.9    61.7\n",
       "13  채치수     남자   23      3       무        AB   181.8    85.9\n",
       "14  윤대협     남자   22      2       유        AB   180.3    76.2\n",
       "15  김세정     여자   21      1       무         O   155.5    44.9\n",
       "16  신준섭     남자   23      1       무         A   168.9    62.7"
      ]
     },
     "execution_count": 25,
     "metadata": {},
     "output_type": "execute_result"
    }
   ],
   "source": [
    "DF1.tail()"
   ]
  },
  {
   "cell_type": "markdown",
   "metadata": {
    "id": "zbOuP0LNnYLL"
   },
   "source": [
    "* .sort_values( ) - <font color = 'blue'>오름차순"
   ]
  },
  {
   "cell_type": "code",
   "execution_count": 26,
   "metadata": {
    "colab": {
     "base_uri": "https://localhost:8080/",
     "height": 206
    },
    "executionInfo": {
     "elapsed": 39,
     "status": "ok",
     "timestamp": 1746145622591,
     "user": {
      "displayName": "이정구",
      "userId": "01734653046128971875"
     },
     "user_tz": -540
    },
    "id": "1c14LG2Tm82k",
    "outputId": "8383d59e-2725-4a55-953a-ce52b4732da1"
   },
   "outputs": [
    {
     "data": {
      "text/html": [
       "<div>\n",
       "<style scoped>\n",
       "    .dataframe tbody tr th:only-of-type {\n",
       "        vertical-align: middle;\n",
       "    }\n",
       "\n",
       "    .dataframe tbody tr th {\n",
       "        vertical-align: top;\n",
       "    }\n",
       "\n",
       "    .dataframe thead th {\n",
       "        text-align: right;\n",
       "    }\n",
       "</style>\n",
       "<table border=\"1\" class=\"dataframe\">\n",
       "  <thead>\n",
       "    <tr style=\"text-align: right;\">\n",
       "      <th></th>\n",
       "      <th>Name</th>\n",
       "      <th>Gender</th>\n",
       "      <th>Age</th>\n",
       "      <th>Grade</th>\n",
       "      <th>Picture</th>\n",
       "      <th>BloodType</th>\n",
       "      <th>Height</th>\n",
       "      <th>Weight</th>\n",
       "    </tr>\n",
       "  </thead>\n",
       "  <tbody>\n",
       "    <tr>\n",
       "      <th>15</th>\n",
       "      <td>김세정</td>\n",
       "      <td>여자</td>\n",
       "      <td>21</td>\n",
       "      <td>1</td>\n",
       "      <td>무</td>\n",
       "      <td>O</td>\n",
       "      <td>155.5</td>\n",
       "      <td>44.9</td>\n",
       "    </tr>\n",
       "    <tr>\n",
       "      <th>11</th>\n",
       "      <td>정채연</td>\n",
       "      <td>여자</td>\n",
       "      <td>22</td>\n",
       "      <td>2</td>\n",
       "      <td>무</td>\n",
       "      <td>B</td>\n",
       "      <td>157.8</td>\n",
       "      <td>44.9</td>\n",
       "    </tr>\n",
       "    <tr>\n",
       "      <th>9</th>\n",
       "      <td>전소미</td>\n",
       "      <td>여자</td>\n",
       "      <td>22</td>\n",
       "      <td>2</td>\n",
       "      <td>유</td>\n",
       "      <td>O</td>\n",
       "      <td>161.9</td>\n",
       "      <td>52.3</td>\n",
       "    </tr>\n",
       "    <tr>\n",
       "      <th>10</th>\n",
       "      <td>변덕규</td>\n",
       "      <td>남자</td>\n",
       "      <td>21</td>\n",
       "      <td>1</td>\n",
       "      <td>무</td>\n",
       "      <td>A</td>\n",
       "      <td>163.2</td>\n",
       "      <td>55.5</td>\n",
       "    </tr>\n",
       "    <tr>\n",
       "      <th>8</th>\n",
       "      <td>강백호</td>\n",
       "      <td>남자</td>\n",
       "      <td>23</td>\n",
       "      <td>3</td>\n",
       "      <td>무</td>\n",
       "      <td>O</td>\n",
       "      <td>165.5</td>\n",
       "      <td>68.5</td>\n",
       "    </tr>\n",
       "  </tbody>\n",
       "</table>\n",
       "</div>"
      ],
      "text/plain": [
       "   Name Gender  Age  Grade Picture BloodType  Height  Weight\n",
       "15  김세정     여자   21      1       무         O   155.5    44.9\n",
       "11  정채연     여자   22      2       무         B   157.8    44.9\n",
       "9   전소미     여자   22      2       유         O   161.9    52.3\n",
       "10  변덕규     남자   21      1       무         A   163.2    55.5\n",
       "8   강백호     남자   23      3       무         O   165.5    68.5"
      ]
     },
     "execution_count": 26,
     "metadata": {},
     "output_type": "execute_result"
    }
   ],
   "source": [
    "DF1.sort_values(by = 'Height', ascending = True).head()"
   ]
  },
  {
   "cell_type": "markdown",
   "metadata": {
    "id": "p6dnduLLng9W"
   },
   "source": [
    "* .sort_values( ascending = False ) - <font color = 'red'>내림차순"
   ]
  },
  {
   "cell_type": "code",
   "execution_count": 27,
   "metadata": {
    "colab": {
     "base_uri": "https://localhost:8080/",
     "height": 206
    },
    "executionInfo": {
     "elapsed": 43,
     "status": "ok",
     "timestamp": 1746145622636,
     "user": {
      "displayName": "이정구",
      "userId": "01734653046128971875"
     },
     "user_tz": -540
    },
    "id": "P9Hd42VznTlB",
    "outputId": "338dee0c-ad23-4b32-e933-dc9118766d8c"
   },
   "outputs": [
    {
     "data": {
      "text/html": [
       "<div>\n",
       "<style scoped>\n",
       "    .dataframe tbody tr th:only-of-type {\n",
       "        vertical-align: middle;\n",
       "    }\n",
       "\n",
       "    .dataframe tbody tr th {\n",
       "        vertical-align: top;\n",
       "    }\n",
       "\n",
       "    .dataframe thead th {\n",
       "        text-align: right;\n",
       "    }\n",
       "</style>\n",
       "<table border=\"1\" class=\"dataframe\">\n",
       "  <thead>\n",
       "    <tr style=\"text-align: right;\">\n",
       "      <th></th>\n",
       "      <th>Name</th>\n",
       "      <th>Gender</th>\n",
       "      <th>Age</th>\n",
       "      <th>Grade</th>\n",
       "      <th>Picture</th>\n",
       "      <th>BloodType</th>\n",
       "      <th>Height</th>\n",
       "      <th>Weight</th>\n",
       "    </tr>\n",
       "  </thead>\n",
       "  <tbody>\n",
       "    <tr>\n",
       "      <th>13</th>\n",
       "      <td>채치수</td>\n",
       "      <td>남자</td>\n",
       "      <td>23</td>\n",
       "      <td>3</td>\n",
       "      <td>무</td>\n",
       "      <td>AB</td>\n",
       "      <td>181.8</td>\n",
       "      <td>85.9</td>\n",
       "    </tr>\n",
       "    <tr>\n",
       "      <th>14</th>\n",
       "      <td>윤대협</td>\n",
       "      <td>남자</td>\n",
       "      <td>22</td>\n",
       "      <td>2</td>\n",
       "      <td>유</td>\n",
       "      <td>AB</td>\n",
       "      <td>180.3</td>\n",
       "      <td>76.2</td>\n",
       "    </tr>\n",
       "    <tr>\n",
       "      <th>0</th>\n",
       "      <td>송태섭</td>\n",
       "      <td>남자</td>\n",
       "      <td>21</td>\n",
       "      <td>3</td>\n",
       "      <td>무</td>\n",
       "      <td>B</td>\n",
       "      <td>179.1</td>\n",
       "      <td>63.9</td>\n",
       "    </tr>\n",
       "    <tr>\n",
       "      <th>1</th>\n",
       "      <td>최유정</td>\n",
       "      <td>여자</td>\n",
       "      <td>23</td>\n",
       "      <td>1</td>\n",
       "      <td>유</td>\n",
       "      <td>A</td>\n",
       "      <td>177.1</td>\n",
       "      <td>54.9</td>\n",
       "    </tr>\n",
       "    <tr>\n",
       "      <th>3</th>\n",
       "      <td>김소혜</td>\n",
       "      <td>여자</td>\n",
       "      <td>23</td>\n",
       "      <td>3</td>\n",
       "      <td>무</td>\n",
       "      <td>O</td>\n",
       "      <td>176.1</td>\n",
       "      <td>53.5</td>\n",
       "    </tr>\n",
       "  </tbody>\n",
       "</table>\n",
       "</div>"
      ],
      "text/plain": [
       "   Name Gender  Age  Grade Picture BloodType  Height  Weight\n",
       "13  채치수     남자   23      3       무        AB   181.8    85.9\n",
       "14  윤대협     남자   22      2       유        AB   180.3    76.2\n",
       "0   송태섭     남자   21      3       무         B   179.1    63.9\n",
       "1   최유정     여자   23      1       유         A   177.1    54.9\n",
       "3   김소혜     여자   23      3       무         O   176.1    53.5"
      ]
     },
     "execution_count": 27,
     "metadata": {},
     "output_type": "execute_result"
    }
   ],
   "source": [
    "DF1.sort_values(by = 'Height', ascending = False).head()"
   ]
  },
  {
   "cell_type": "markdown",
   "metadata": {
    "id": "gW35wO99i2KA"
   },
   "source": [
    "* .describe( )\n",
    " - 숫자 데이터 통계량"
   ]
  },
  {
   "cell_type": "code",
   "execution_count": null,
   "metadata": {
    "colab": {
     "base_uri": "https://localhost:8080/",
     "height": 300
    },
    "executionInfo": {
     "elapsed": 36,
     "status": "ok",
     "timestamp": 1746145622673,
     "user": {
      "displayName": "이정구",
      "userId": "01734653046128971875"
     },
     "user_tz": -540
    },
    "id": "JHP-bo8_l2FA",
    "outputId": "f1c7f941-d48f-4b59-c1e0-038fc69d0016"
   },
   "outputs": [
    {
     "data": {
      "text/html": [
       "<div>\n",
       "<style scoped>\n",
       "    .dataframe tbody tr th:only-of-type {\n",
       "        vertical-align: middle;\n",
       "    }\n",
       "\n",
       "    .dataframe tbody tr th {\n",
       "        vertical-align: top;\n",
       "    }\n",
       "\n",
       "    .dataframe thead th {\n",
       "        text-align: right;\n",
       "    }\n",
       "</style>\n",
       "<table border=\"1\" class=\"dataframe\">\n",
       "  <thead>\n",
       "    <tr style=\"text-align: right;\">\n",
       "      <th></th>\n",
       "      <th>Age</th>\n",
       "      <th>Grade</th>\n",
       "      <th>Height</th>\n",
       "      <th>Weight</th>\n",
       "    </tr>\n",
       "  </thead>\n",
       "  <tbody>\n",
       "    <tr>\n",
       "      <th>count</th>\n",
       "      <td>17.000000</td>\n",
       "      <td>17.000000</td>\n",
       "      <td>17.000000</td>\n",
       "      <td>17.000000</td>\n",
       "    </tr>\n",
       "    <tr>\n",
       "      <th>mean</th>\n",
       "      <td>22.352941</td>\n",
       "      <td>2.294118</td>\n",
       "      <td>170.135294</td>\n",
       "      <td>61.123529</td>\n",
       "    </tr>\n",
       "    <tr>\n",
       "      <th>std</th>\n",
       "      <td>1.169464</td>\n",
       "      <td>1.104802</td>\n",
       "      <td>7.853896</td>\n",
       "      <td>11.867894</td>\n",
       "    </tr>\n",
       "    <tr>\n",
       "      <th>min</th>\n",
       "      <td>20.000000</td>\n",
       "      <td>1.000000</td>\n",
       "      <td>155.500000</td>\n",
       "      <td>44.900000</td>\n",
       "    </tr>\n",
       "    <tr>\n",
       "      <th>25%</th>\n",
       "      <td>22.000000</td>\n",
       "      <td>1.000000</td>\n",
       "      <td>165.500000</td>\n",
       "      <td>52.700000</td>\n",
       "    </tr>\n",
       "    <tr>\n",
       "      <th>50%</th>\n",
       "      <td>22.000000</td>\n",
       "      <td>2.000000</td>\n",
       "      <td>169.100000</td>\n",
       "      <td>61.700000</td>\n",
       "    </tr>\n",
       "    <tr>\n",
       "      <th>75%</th>\n",
       "      <td>23.000000</td>\n",
       "      <td>3.000000</td>\n",
       "      <td>176.100000</td>\n",
       "      <td>68.500000</td>\n",
       "    </tr>\n",
       "    <tr>\n",
       "      <th>max</th>\n",
       "      <td>24.000000</td>\n",
       "      <td>4.000000</td>\n",
       "      <td>181.800000</td>\n",
       "      <td>85.900000</td>\n",
       "    </tr>\n",
       "  </tbody>\n",
       "</table>\n",
       "</div>"
      ],
      "text/plain": [
       "             Age      Grade      Height     Weight\n",
       "count  17.000000  17.000000   17.000000  17.000000\n",
       "mean   22.352941   2.294118  170.135294  61.123529\n",
       "std     1.169464   1.104802    7.853896  11.867894\n",
       "min    20.000000   1.000000  155.500000  44.900000\n",
       "25%    22.000000   1.000000  165.500000  52.700000\n",
       "50%    22.000000   2.000000  169.100000  61.700000\n",
       "75%    23.000000   3.000000  176.100000  68.500000\n",
       "max    24.000000   4.000000  181.800000  85.900000"
      ]
     },
     "execution_count": 28,
     "metadata": {},
     "output_type": "execute_result"
    }
   ],
   "source": [
    "DF1.describe()   #이상치 여부 확인"
   ]
  },
  {
   "cell_type": "markdown",
   "metadata": {
    "id": "EbaQXRF2jDi8"
   },
   "source": [
    "* .mean( )"
   ]
  },
  {
   "cell_type": "code",
   "execution_count": 29,
   "metadata": {
    "colab": {
     "base_uri": "https://localhost:8080/",
     "height": 209
    },
    "executionInfo": {
     "elapsed": 6,
     "status": "ok",
     "timestamp": 1746145622674,
     "user": {
      "displayName": "이정구",
      "userId": "01734653046128971875"
     },
     "user_tz": -540
    },
    "id": "kXH3vy8cl6K5",
    "outputId": "c4b5e09c-a2d1-4219-f477-13ca177dd214"
   },
   "outputs": [
    {
     "data": {
      "text/plain": [
       "Age        22.352941\n",
       "Grade       2.294118\n",
       "Height    170.135294\n",
       "Weight     61.123529\n",
       "dtype: float64"
      ]
     },
     "execution_count": 29,
     "metadata": {},
     "output_type": "execute_result"
    }
   ],
   "source": [
    "DF1.mean(numeric_only=True)"
   ]
  },
  {
   "cell_type": "markdown",
   "metadata": {
    "id": "JThdtRsDk-PF"
   },
   "source": [
    "* .median( )"
   ]
  },
  {
   "cell_type": "code",
   "execution_count": null,
   "metadata": {
    "colab": {
     "base_uri": "https://localhost:8080/",
     "height": 209
    },
    "executionInfo": {
     "elapsed": 6,
     "status": "ok",
     "timestamp": 1746145622681,
     "user": {
      "displayName": "이정구",
      "userId": "01734653046128971875"
     },
     "user_tz": -540
    },
    "id": "DbeX6o2SkYjs",
    "outputId": "1e592d03-bfc7-4a70-d308-8e3135b5462c"
   },
   "outputs": [
    {
     "data": {
      "text/plain": [
       "Age        22.0\n",
       "Grade       2.0\n",
       "Height    169.1\n",
       "Weight     61.7\n",
       "dtype: float64"
      ]
     },
     "execution_count": 30,
     "metadata": {},
     "output_type": "execute_result"
    }
   ],
   "source": [
    "DF1.median(numeric_only=True)  #중위값"
   ]
  },
  {
   "cell_type": "markdown",
   "metadata": {
    "id": "xNH1iATkk447"
   },
   "source": [
    "* .var( )"
   ]
  },
  {
   "cell_type": "code",
   "execution_count": 31,
   "metadata": {
    "colab": {
     "base_uri": "https://localhost:8080/",
     "height": 209
    },
    "executionInfo": {
     "elapsed": 45,
     "status": "ok",
     "timestamp": 1746145622727,
     "user": {
      "displayName": "이정구",
      "userId": "01734653046128971875"
     },
     "user_tz": -540
    },
    "id": "CSeRBtjDjaa2",
    "outputId": "f8a5954d-6734-4ae2-9d12-b46c9b2acacf"
   },
   "outputs": [
    {
     "data": {
      "text/plain": [
       "Age         1.367647\n",
       "Grade       1.220588\n",
       "Height     61.683676\n",
       "Weight    140.846912\n",
       "dtype: float64"
      ]
     },
     "execution_count": 31,
     "metadata": {},
     "output_type": "execute_result"
    }
   ],
   "source": [
    "DF1.var(numeric_only=True)  #분산"
   ]
  },
  {
   "cell_type": "markdown",
   "metadata": {
    "id": "HZFcitMuk8Bj"
   },
   "source": [
    "* std( )"
   ]
  },
  {
   "cell_type": "code",
   "execution_count": 32,
   "metadata": {
    "colab": {
     "base_uri": "https://localhost:8080/",
     "height": 209
    },
    "executionInfo": {
     "elapsed": 6,
     "status": "ok",
     "timestamp": 1746145622728,
     "user": {
      "displayName": "이정구",
      "userId": "01734653046128971875"
     },
     "user_tz": -540
    },
    "id": "uvuoCvbmkVxz",
    "outputId": "318339f5-2789-40b5-87f6-cea52b180e7c"
   },
   "outputs": [
    {
     "data": {
      "text/plain": [
       "Age        1.169464\n",
       "Grade      1.104802\n",
       "Height     7.853896\n",
       "Weight    11.867894\n",
       "dtype: float64"
      ]
     },
     "execution_count": 32,
     "metadata": {},
     "output_type": "execute_result"
    }
   ],
   "source": [
    "DF1.std(numeric_only=True)  #표준편차"
   ]
  },
  {
   "cell_type": "markdown",
   "metadata": {
    "id": "PMF_oJPXqfld"
   },
   "source": [
    ">## 8) Indexing & Slicing"
   ]
  },
  {
   "cell_type": "markdown",
   "metadata": {
    "id": "NGlR2lCiiHDM"
   },
   "source": [
    "* Lable(Index) 변경"
   ]
  },
  {
   "cell_type": "code",
   "execution_count": 33,
   "metadata": {
    "executionInfo": {
     "elapsed": 2,
     "status": "ok",
     "timestamp": 1746145622731,
     "user": {
      "displayName": "이정구",
      "userId": "01734653046128971875"
     },
     "user_tz": -540
    },
    "id": "nQVQu7aPiXsj"
   },
   "outputs": [],
   "source": [
    "LABEL = ['No_1', 'No_2', 'No_3', 'No_4', 'No_5', 'No_6', 'No_7', 'No_8', 'No_9', 'No_10', 'No_11', 'No_12', 'No_13', 'No_14', 'No_15', 'No_16', 'No_17']\n",
    "\n",
    "DF1.index = LABEL"
   ]
  },
  {
   "cell_type": "code",
   "execution_count": 34,
   "metadata": {
    "colab": {
     "base_uri": "https://localhost:8080/",
     "height": 582
    },
    "executionInfo": {
     "elapsed": 56,
     "status": "ok",
     "timestamp": 1746145622791,
     "user": {
      "displayName": "이정구",
      "userId": "01734653046128971875"
     },
     "user_tz": -540
    },
    "id": "etOfBIL6i2Bk",
    "outputId": "556e2934-fcde-4205-f1cd-72175c5cdd92"
   },
   "outputs": [
    {
     "data": {
      "text/html": [
       "<div>\n",
       "<style scoped>\n",
       "    .dataframe tbody tr th:only-of-type {\n",
       "        vertical-align: middle;\n",
       "    }\n",
       "\n",
       "    .dataframe tbody tr th {\n",
       "        vertical-align: top;\n",
       "    }\n",
       "\n",
       "    .dataframe thead th {\n",
       "        text-align: right;\n",
       "    }\n",
       "</style>\n",
       "<table border=\"1\" class=\"dataframe\">\n",
       "  <thead>\n",
       "    <tr style=\"text-align: right;\">\n",
       "      <th></th>\n",
       "      <th>Name</th>\n",
       "      <th>Gender</th>\n",
       "      <th>Age</th>\n",
       "      <th>Grade</th>\n",
       "      <th>Picture</th>\n",
       "      <th>BloodType</th>\n",
       "      <th>Height</th>\n",
       "      <th>Weight</th>\n",
       "    </tr>\n",
       "  </thead>\n",
       "  <tbody>\n",
       "    <tr>\n",
       "      <th>No_1</th>\n",
       "      <td>송태섭</td>\n",
       "      <td>남자</td>\n",
       "      <td>21</td>\n",
       "      <td>3</td>\n",
       "      <td>무</td>\n",
       "      <td>B</td>\n",
       "      <td>179.1</td>\n",
       "      <td>63.9</td>\n",
       "    </tr>\n",
       "    <tr>\n",
       "      <th>No_2</th>\n",
       "      <td>최유정</td>\n",
       "      <td>여자</td>\n",
       "      <td>23</td>\n",
       "      <td>1</td>\n",
       "      <td>유</td>\n",
       "      <td>A</td>\n",
       "      <td>177.1</td>\n",
       "      <td>54.9</td>\n",
       "    </tr>\n",
       "    <tr>\n",
       "      <th>No_3</th>\n",
       "      <td>이한나</td>\n",
       "      <td>여자</td>\n",
       "      <td>20</td>\n",
       "      <td>1</td>\n",
       "      <td>무</td>\n",
       "      <td>A</td>\n",
       "      <td>167.9</td>\n",
       "      <td>50.2</td>\n",
       "    </tr>\n",
       "    <tr>\n",
       "      <th>No_4</th>\n",
       "      <td>김소혜</td>\n",
       "      <td>여자</td>\n",
       "      <td>23</td>\n",
       "      <td>3</td>\n",
       "      <td>무</td>\n",
       "      <td>O</td>\n",
       "      <td>176.1</td>\n",
       "      <td>53.5</td>\n",
       "    </tr>\n",
       "    <tr>\n",
       "      <th>No_5</th>\n",
       "      <td>서태웅</td>\n",
       "      <td>남자</td>\n",
       "      <td>24</td>\n",
       "      <td>4</td>\n",
       "      <td>무</td>\n",
       "      <td>B</td>\n",
       "      <td>176.1</td>\n",
       "      <td>79.8</td>\n",
       "    </tr>\n",
       "    <tr>\n",
       "      <th>No_6</th>\n",
       "      <td>정대만</td>\n",
       "      <td>남자</td>\n",
       "      <td>24</td>\n",
       "      <td>2</td>\n",
       "      <td>유</td>\n",
       "      <td>B</td>\n",
       "      <td>175.2</td>\n",
       "      <td>61.7</td>\n",
       "    </tr>\n",
       "    <tr>\n",
       "      <th>No_7</th>\n",
       "      <td>이정환</td>\n",
       "      <td>남자</td>\n",
       "      <td>22</td>\n",
       "      <td>4</td>\n",
       "      <td>무</td>\n",
       "      <td>B</td>\n",
       "      <td>169.1</td>\n",
       "      <td>69.8</td>\n",
       "    </tr>\n",
       "    <tr>\n",
       "      <th>No_8</th>\n",
       "      <td>채소연</td>\n",
       "      <td>여자</td>\n",
       "      <td>22</td>\n",
       "      <td>2</td>\n",
       "      <td>유</td>\n",
       "      <td>AB</td>\n",
       "      <td>169.9</td>\n",
       "      <td>52.7</td>\n",
       "    </tr>\n",
       "    <tr>\n",
       "      <th>No_9</th>\n",
       "      <td>강백호</td>\n",
       "      <td>남자</td>\n",
       "      <td>23</td>\n",
       "      <td>3</td>\n",
       "      <td>무</td>\n",
       "      <td>O</td>\n",
       "      <td>165.5</td>\n",
       "      <td>68.5</td>\n",
       "    </tr>\n",
       "    <tr>\n",
       "      <th>No_10</th>\n",
       "      <td>전소미</td>\n",
       "      <td>여자</td>\n",
       "      <td>22</td>\n",
       "      <td>2</td>\n",
       "      <td>유</td>\n",
       "      <td>O</td>\n",
       "      <td>161.9</td>\n",
       "      <td>52.3</td>\n",
       "    </tr>\n",
       "    <tr>\n",
       "      <th>No_11</th>\n",
       "      <td>변덕규</td>\n",
       "      <td>남자</td>\n",
       "      <td>21</td>\n",
       "      <td>1</td>\n",
       "      <td>무</td>\n",
       "      <td>A</td>\n",
       "      <td>163.2</td>\n",
       "      <td>55.5</td>\n",
       "    </tr>\n",
       "    <tr>\n",
       "      <th>No_12</th>\n",
       "      <td>정채연</td>\n",
       "      <td>여자</td>\n",
       "      <td>22</td>\n",
       "      <td>2</td>\n",
       "      <td>무</td>\n",
       "      <td>B</td>\n",
       "      <td>157.8</td>\n",
       "      <td>44.9</td>\n",
       "    </tr>\n",
       "    <tr>\n",
       "      <th>No_13</th>\n",
       "      <td>권준호</td>\n",
       "      <td>남자</td>\n",
       "      <td>24</td>\n",
       "      <td>4</td>\n",
       "      <td>유</td>\n",
       "      <td>O</td>\n",
       "      <td>166.9</td>\n",
       "      <td>61.7</td>\n",
       "    </tr>\n",
       "    <tr>\n",
       "      <th>No_14</th>\n",
       "      <td>채치수</td>\n",
       "      <td>남자</td>\n",
       "      <td>23</td>\n",
       "      <td>3</td>\n",
       "      <td>무</td>\n",
       "      <td>AB</td>\n",
       "      <td>181.8</td>\n",
       "      <td>85.9</td>\n",
       "    </tr>\n",
       "    <tr>\n",
       "      <th>No_15</th>\n",
       "      <td>윤대협</td>\n",
       "      <td>남자</td>\n",
       "      <td>22</td>\n",
       "      <td>2</td>\n",
       "      <td>유</td>\n",
       "      <td>AB</td>\n",
       "      <td>180.3</td>\n",
       "      <td>76.2</td>\n",
       "    </tr>\n",
       "    <tr>\n",
       "      <th>No_16</th>\n",
       "      <td>김세정</td>\n",
       "      <td>여자</td>\n",
       "      <td>21</td>\n",
       "      <td>1</td>\n",
       "      <td>무</td>\n",
       "      <td>O</td>\n",
       "      <td>155.5</td>\n",
       "      <td>44.9</td>\n",
       "    </tr>\n",
       "    <tr>\n",
       "      <th>No_17</th>\n",
       "      <td>신준섭</td>\n",
       "      <td>남자</td>\n",
       "      <td>23</td>\n",
       "      <td>1</td>\n",
       "      <td>무</td>\n",
       "      <td>A</td>\n",
       "      <td>168.9</td>\n",
       "      <td>62.7</td>\n",
       "    </tr>\n",
       "  </tbody>\n",
       "</table>\n",
       "</div>"
      ],
      "text/plain": [
       "      Name Gender  Age  Grade Picture BloodType  Height  Weight\n",
       "No_1   송태섭     남자   21      3       무         B   179.1    63.9\n",
       "No_2   최유정     여자   23      1       유         A   177.1    54.9\n",
       "No_3   이한나     여자   20      1       무         A   167.9    50.2\n",
       "No_4   김소혜     여자   23      3       무         O   176.1    53.5\n",
       "No_5   서태웅     남자   24      4       무         B   176.1    79.8\n",
       "No_6   정대만     남자   24      2       유         B   175.2    61.7\n",
       "No_7   이정환     남자   22      4       무         B   169.1    69.8\n",
       "No_8   채소연     여자   22      2       유        AB   169.9    52.7\n",
       "No_9   강백호     남자   23      3       무         O   165.5    68.5\n",
       "No_10  전소미     여자   22      2       유         O   161.9    52.3\n",
       "No_11  변덕규     남자   21      1       무         A   163.2    55.5\n",
       "No_12  정채연     여자   22      2       무         B   157.8    44.9\n",
       "No_13  권준호     남자   24      4       유         O   166.9    61.7\n",
       "No_14  채치수     남자   23      3       무        AB   181.8    85.9\n",
       "No_15  윤대협     남자   22      2       유        AB   180.3    76.2\n",
       "No_16  김세정     여자   21      1       무         O   155.5    44.9\n",
       "No_17  신준섭     남자   23      1       무         A   168.9    62.7"
      ]
     },
     "execution_count": 34,
     "metadata": {},
     "output_type": "execute_result"
    }
   ],
   "source": [
    "DF1"
   ]
  },
  {
   "cell_type": "markdown",
   "metadata": {
    "id": "fNSw5Jyxs_nh"
   },
   "source": [
    "> ### (1) <font color = 'blue'>loc</font>(Location)\n",
    "\n",
    "* <font color = 'red'>Label 값 기준</font>"
   ]
  },
  {
   "cell_type": "markdown",
   "metadata": {
    "id": "eYZF-arJulM1"
   },
   "source": [
    "* loc - indexing\n",
    " - .loc[행_label, 열_label]"
   ]
  },
  {
   "cell_type": "code",
   "execution_count": 35,
   "metadata": {
    "colab": {
     "base_uri": "https://localhost:8080/"
    },
    "executionInfo": {
     "elapsed": 8,
     "status": "ok",
     "timestamp": 1746145622792,
     "user": {
      "displayName": "이정구",
      "userId": "01734653046128971875"
     },
     "user_tz": -540
    },
    "id": "8Dzx6c6bqvl6",
    "outputId": "33ad2ef0-3cd9-4c0c-bdd2-540b421a8f28"
   },
   "outputs": [
    {
     "data": {
      "text/plain": [
       "np.int64(20)"
      ]
     },
     "execution_count": 35,
     "metadata": {},
     "output_type": "execute_result"
    }
   ],
   "source": [
    "DF1.loc['No_3', 'Age']"
   ]
  },
  {
   "cell_type": "markdown",
   "metadata": {
    "id": "619IJjJduqD9"
   },
   "source": [
    "* loc - <font color = 'red'>Slicing</font>\n",
    " - .loc[행_label_시작:행_label_끝, 열_label_시작:열_label_끝]\n",
    " - '행_label_시작' 이상 '행_label_끝' <font color = 'red'>이하</font>\n",
    " - '열_label_시작' 이상 '열_label_끝' <font color = 'red'>이하</font>"
   ]
  },
  {
   "cell_type": "code",
   "execution_count": 37,
   "metadata": {},
   "outputs": [
    {
     "data": {
      "text/plain": [
       "Name           이한나\n",
       "Gender          여자\n",
       "Age             20\n",
       "Grade            1\n",
       "Picture          무\n",
       "BloodType        A\n",
       "Height       167.9\n",
       "Weight        50.2\n",
       "Name: No_3, dtype: object"
      ]
     },
     "execution_count": 37,
     "metadata": {},
     "output_type": "execute_result"
    }
   ],
   "source": [
    "DF1.loc['No_3', ]"
   ]
  },
  {
   "cell_type": "code",
   "execution_count": 36,
   "metadata": {
    "colab": {
     "base_uri": "https://localhost:8080/",
     "height": 175
    },
    "executionInfo": {
     "elapsed": 5,
     "status": "ok",
     "timestamp": 1746145622795,
     "user": {
      "displayName": "이정구",
      "userId": "01734653046128971875"
     },
     "user_tz": -540
    },
    "id": "mZ9iYVosq54Q",
    "outputId": "bfbda980-6813-4cc0-bfdd-0dde70e3c186"
   },
   "outputs": [
    {
     "data": {
      "text/html": [
       "<div>\n",
       "<style scoped>\n",
       "    .dataframe tbody tr th:only-of-type {\n",
       "        vertical-align: middle;\n",
       "    }\n",
       "\n",
       "    .dataframe tbody tr th {\n",
       "        vertical-align: top;\n",
       "    }\n",
       "\n",
       "    .dataframe thead th {\n",
       "        text-align: right;\n",
       "    }\n",
       "</style>\n",
       "<table border=\"1\" class=\"dataframe\">\n",
       "  <thead>\n",
       "    <tr style=\"text-align: right;\">\n",
       "      <th></th>\n",
       "      <th>Age</th>\n",
       "      <th>Grade</th>\n",
       "      <th>Picture</th>\n",
       "      <th>BloodType</th>\n",
       "    </tr>\n",
       "  </thead>\n",
       "  <tbody>\n",
       "    <tr>\n",
       "      <th>No_3</th>\n",
       "      <td>20</td>\n",
       "      <td>1</td>\n",
       "      <td>무</td>\n",
       "      <td>A</td>\n",
       "    </tr>\n",
       "    <tr>\n",
       "      <th>No_4</th>\n",
       "      <td>23</td>\n",
       "      <td>3</td>\n",
       "      <td>무</td>\n",
       "      <td>O</td>\n",
       "    </tr>\n",
       "    <tr>\n",
       "      <th>No_5</th>\n",
       "      <td>24</td>\n",
       "      <td>4</td>\n",
       "      <td>무</td>\n",
       "      <td>B</td>\n",
       "    </tr>\n",
       "    <tr>\n",
       "      <th>No_6</th>\n",
       "      <td>24</td>\n",
       "      <td>2</td>\n",
       "      <td>유</td>\n",
       "      <td>B</td>\n",
       "    </tr>\n",
       "  </tbody>\n",
       "</table>\n",
       "</div>"
      ],
      "text/plain": [
       "      Age  Grade Picture BloodType\n",
       "No_3   20      1       무         A\n",
       "No_4   23      3       무         O\n",
       "No_5   24      4       무         B\n",
       "No_6   24      2       유         B"
      ]
     },
     "execution_count": 36,
     "metadata": {},
     "output_type": "execute_result"
    }
   ],
   "source": [
    "DF1.loc['No_3':'No_6', 'Age':'BloodType']"
   ]
  },
  {
   "cell_type": "markdown",
   "metadata": {
    "id": "D8Ps2778tRfA"
   },
   "source": [
    "> ### (2) <font color = 'blue'>iloc</font>(Integer Location)\n",
    "\n",
    "* <font color = 'red'>Index 값 기준</font>"
   ]
  },
  {
   "cell_type": "markdown",
   "metadata": {
    "id": "SmwN5Lguuy17"
   },
   "source": [
    "* iloc - indexing"
   ]
  },
  {
   "cell_type": "code",
   "execution_count": 38,
   "metadata": {
    "colab": {
     "base_uri": "https://localhost:8080/"
    },
    "executionInfo": {
     "elapsed": 9,
     "status": "ok",
     "timestamp": 1746145622805,
     "user": {
      "displayName": "이정구",
      "userId": "01734653046128971875"
     },
     "user_tz": -540
    },
    "id": "x-NxN5Ldqkhz",
    "outputId": "7196fd5f-cd65-453e-9c70-686009570e92"
   },
   "outputs": [
    {
     "data": {
      "text/plain": [
       "np.int64(20)"
      ]
     },
     "execution_count": 38,
     "metadata": {},
     "output_type": "execute_result"
    }
   ],
   "source": [
    "DF1.iloc[2, 2]"
   ]
  },
  {
   "cell_type": "markdown",
   "metadata": {
    "id": "rCuOVEi8u1VX"
   },
   "source": [
    "* iloc - <font color = 'blue'>Slicing</font>\n",
    " - .iloc[행_index_시작:행_index_끝, 열_index_시작:열_index_끝]\n",
    " - '행_index_시작' 이상 '행_index_끝' <font color = 'blue'>미만</font>\n",
    " - '열_index_시작' 이상 '열_index_끝' <font color = 'blue'>미만</font>"
   ]
  },
  {
   "cell_type": "code",
   "execution_count": 39,
   "metadata": {
    "colab": {
     "base_uri": "https://localhost:8080/",
     "height": 143
    },
    "executionInfo": {
     "elapsed": 4,
     "status": "ok",
     "timestamp": 1746145622811,
     "user": {
      "displayName": "이정구",
      "userId": "01734653046128971875"
     },
     "user_tz": -540
    },
    "id": "NpDWcgLarGal",
    "outputId": "9ced34ca-b9dd-4fe9-8c0b-755170b80cc2"
   },
   "outputs": [
    {
     "data": {
      "text/html": [
       "<div>\n",
       "<style scoped>\n",
       "    .dataframe tbody tr th:only-of-type {\n",
       "        vertical-align: middle;\n",
       "    }\n",
       "\n",
       "    .dataframe tbody tr th {\n",
       "        vertical-align: top;\n",
       "    }\n",
       "\n",
       "    .dataframe thead th {\n",
       "        text-align: right;\n",
       "    }\n",
       "</style>\n",
       "<table border=\"1\" class=\"dataframe\">\n",
       "  <thead>\n",
       "    <tr style=\"text-align: right;\">\n",
       "      <th></th>\n",
       "      <th>Age</th>\n",
       "      <th>Grade</th>\n",
       "      <th>Picture</th>\n",
       "    </tr>\n",
       "  </thead>\n",
       "  <tbody>\n",
       "    <tr>\n",
       "      <th>No_3</th>\n",
       "      <td>20</td>\n",
       "      <td>1</td>\n",
       "      <td>무</td>\n",
       "    </tr>\n",
       "    <tr>\n",
       "      <th>No_4</th>\n",
       "      <td>23</td>\n",
       "      <td>3</td>\n",
       "      <td>무</td>\n",
       "    </tr>\n",
       "    <tr>\n",
       "      <th>No_5</th>\n",
       "      <td>24</td>\n",
       "      <td>4</td>\n",
       "      <td>무</td>\n",
       "    </tr>\n",
       "  </tbody>\n",
       "</table>\n",
       "</div>"
      ],
      "text/plain": [
       "      Age  Grade Picture\n",
       "No_3   20      1       무\n",
       "No_4   23      3       무\n",
       "No_5   24      4       무"
      ]
     },
     "execution_count": 39,
     "metadata": {},
     "output_type": "execute_result"
    }
   ],
   "source": [
    "DF1.iloc[2:5, 2:5]"
   ]
  },
  {
   "cell_type": "code",
   "execution_count": 40,
   "metadata": {},
   "outputs": [
    {
     "data": {
      "text/html": [
       "<div>\n",
       "<style scoped>\n",
       "    .dataframe tbody tr th:only-of-type {\n",
       "        vertical-align: middle;\n",
       "    }\n",
       "\n",
       "    .dataframe tbody tr th {\n",
       "        vertical-align: top;\n",
       "    }\n",
       "\n",
       "    .dataframe thead th {\n",
       "        text-align: right;\n",
       "    }\n",
       "</style>\n",
       "<table border=\"1\" class=\"dataframe\">\n",
       "  <thead>\n",
       "    <tr style=\"text-align: right;\">\n",
       "      <th></th>\n",
       "      <th>Name</th>\n",
       "      <th>Gender</th>\n",
       "      <th>Age</th>\n",
       "      <th>Grade</th>\n",
       "      <th>Picture</th>\n",
       "      <th>BloodType</th>\n",
       "      <th>Height</th>\n",
       "    </tr>\n",
       "  </thead>\n",
       "  <tbody>\n",
       "    <tr>\n",
       "      <th>No_1</th>\n",
       "      <td>송태섭</td>\n",
       "      <td>남자</td>\n",
       "      <td>21</td>\n",
       "      <td>3</td>\n",
       "      <td>무</td>\n",
       "      <td>B</td>\n",
       "      <td>179.1</td>\n",
       "    </tr>\n",
       "    <tr>\n",
       "      <th>No_2</th>\n",
       "      <td>최유정</td>\n",
       "      <td>여자</td>\n",
       "      <td>23</td>\n",
       "      <td>1</td>\n",
       "      <td>유</td>\n",
       "      <td>A</td>\n",
       "      <td>177.1</td>\n",
       "    </tr>\n",
       "    <tr>\n",
       "      <th>No_3</th>\n",
       "      <td>이한나</td>\n",
       "      <td>여자</td>\n",
       "      <td>20</td>\n",
       "      <td>1</td>\n",
       "      <td>무</td>\n",
       "      <td>A</td>\n",
       "      <td>167.9</td>\n",
       "    </tr>\n",
       "    <tr>\n",
       "      <th>No_4</th>\n",
       "      <td>김소혜</td>\n",
       "      <td>여자</td>\n",
       "      <td>23</td>\n",
       "      <td>3</td>\n",
       "      <td>무</td>\n",
       "      <td>O</td>\n",
       "      <td>176.1</td>\n",
       "    </tr>\n",
       "    <tr>\n",
       "      <th>No_5</th>\n",
       "      <td>서태웅</td>\n",
       "      <td>남자</td>\n",
       "      <td>24</td>\n",
       "      <td>4</td>\n",
       "      <td>무</td>\n",
       "      <td>B</td>\n",
       "      <td>176.1</td>\n",
       "    </tr>\n",
       "    <tr>\n",
       "      <th>No_6</th>\n",
       "      <td>정대만</td>\n",
       "      <td>남자</td>\n",
       "      <td>24</td>\n",
       "      <td>2</td>\n",
       "      <td>유</td>\n",
       "      <td>B</td>\n",
       "      <td>175.2</td>\n",
       "    </tr>\n",
       "    <tr>\n",
       "      <th>No_7</th>\n",
       "      <td>이정환</td>\n",
       "      <td>남자</td>\n",
       "      <td>22</td>\n",
       "      <td>4</td>\n",
       "      <td>무</td>\n",
       "      <td>B</td>\n",
       "      <td>169.1</td>\n",
       "    </tr>\n",
       "    <tr>\n",
       "      <th>No_8</th>\n",
       "      <td>채소연</td>\n",
       "      <td>여자</td>\n",
       "      <td>22</td>\n",
       "      <td>2</td>\n",
       "      <td>유</td>\n",
       "      <td>AB</td>\n",
       "      <td>169.9</td>\n",
       "    </tr>\n",
       "    <tr>\n",
       "      <th>No_9</th>\n",
       "      <td>강백호</td>\n",
       "      <td>남자</td>\n",
       "      <td>23</td>\n",
       "      <td>3</td>\n",
       "      <td>무</td>\n",
       "      <td>O</td>\n",
       "      <td>165.5</td>\n",
       "    </tr>\n",
       "    <tr>\n",
       "      <th>No_10</th>\n",
       "      <td>전소미</td>\n",
       "      <td>여자</td>\n",
       "      <td>22</td>\n",
       "      <td>2</td>\n",
       "      <td>유</td>\n",
       "      <td>O</td>\n",
       "      <td>161.9</td>\n",
       "    </tr>\n",
       "    <tr>\n",
       "      <th>No_11</th>\n",
       "      <td>변덕규</td>\n",
       "      <td>남자</td>\n",
       "      <td>21</td>\n",
       "      <td>1</td>\n",
       "      <td>무</td>\n",
       "      <td>A</td>\n",
       "      <td>163.2</td>\n",
       "    </tr>\n",
       "    <tr>\n",
       "      <th>No_12</th>\n",
       "      <td>정채연</td>\n",
       "      <td>여자</td>\n",
       "      <td>22</td>\n",
       "      <td>2</td>\n",
       "      <td>무</td>\n",
       "      <td>B</td>\n",
       "      <td>157.8</td>\n",
       "    </tr>\n",
       "    <tr>\n",
       "      <th>No_13</th>\n",
       "      <td>권준호</td>\n",
       "      <td>남자</td>\n",
       "      <td>24</td>\n",
       "      <td>4</td>\n",
       "      <td>유</td>\n",
       "      <td>O</td>\n",
       "      <td>166.9</td>\n",
       "    </tr>\n",
       "    <tr>\n",
       "      <th>No_14</th>\n",
       "      <td>채치수</td>\n",
       "      <td>남자</td>\n",
       "      <td>23</td>\n",
       "      <td>3</td>\n",
       "      <td>무</td>\n",
       "      <td>AB</td>\n",
       "      <td>181.8</td>\n",
       "    </tr>\n",
       "    <tr>\n",
       "      <th>No_15</th>\n",
       "      <td>윤대협</td>\n",
       "      <td>남자</td>\n",
       "      <td>22</td>\n",
       "      <td>2</td>\n",
       "      <td>유</td>\n",
       "      <td>AB</td>\n",
       "      <td>180.3</td>\n",
       "    </tr>\n",
       "    <tr>\n",
       "      <th>No_16</th>\n",
       "      <td>김세정</td>\n",
       "      <td>여자</td>\n",
       "      <td>21</td>\n",
       "      <td>1</td>\n",
       "      <td>무</td>\n",
       "      <td>O</td>\n",
       "      <td>155.5</td>\n",
       "    </tr>\n",
       "    <tr>\n",
       "      <th>No_17</th>\n",
       "      <td>신준섭</td>\n",
       "      <td>남자</td>\n",
       "      <td>23</td>\n",
       "      <td>1</td>\n",
       "      <td>무</td>\n",
       "      <td>A</td>\n",
       "      <td>168.9</td>\n",
       "    </tr>\n",
       "  </tbody>\n",
       "</table>\n",
       "</div>"
      ],
      "text/plain": [
       "      Name Gender  Age  Grade Picture BloodType  Height\n",
       "No_1   송태섭     남자   21      3       무         B   179.1\n",
       "No_2   최유정     여자   23      1       유         A   177.1\n",
       "No_3   이한나     여자   20      1       무         A   167.9\n",
       "No_4   김소혜     여자   23      3       무         O   176.1\n",
       "No_5   서태웅     남자   24      4       무         B   176.1\n",
       "No_6   정대만     남자   24      2       유         B   175.2\n",
       "No_7   이정환     남자   22      4       무         B   169.1\n",
       "No_8   채소연     여자   22      2       유        AB   169.9\n",
       "No_9   강백호     남자   23      3       무         O   165.5\n",
       "No_10  전소미     여자   22      2       유         O   161.9\n",
       "No_11  변덕규     남자   21      1       무         A   163.2\n",
       "No_12  정채연     여자   22      2       무         B   157.8\n",
       "No_13  권준호     남자   24      4       유         O   166.9\n",
       "No_14  채치수     남자   23      3       무        AB   181.8\n",
       "No_15  윤대협     남자   22      2       유        AB   180.3\n",
       "No_16  김세정     여자   21      1       무         O   155.5\n",
       "No_17  신준섭     남자   23      1       무         A   168.9"
      ]
     },
     "execution_count": 40,
     "metadata": {},
     "output_type": "execute_result"
    }
   ],
   "source": [
    "DF1.iloc[:, :-1]"
   ]
  },
  {
   "cell_type": "code",
   "execution_count": 41,
   "metadata": {},
   "outputs": [
    {
     "data": {
      "text/plain": [
       "No_1     63.9\n",
       "No_2     54.9\n",
       "No_3     50.2\n",
       "No_4     53.5\n",
       "No_5     79.8\n",
       "No_6     61.7\n",
       "No_7     69.8\n",
       "No_8     52.7\n",
       "No_9     68.5\n",
       "No_10    52.3\n",
       "No_11    55.5\n",
       "No_12    44.9\n",
       "No_13    61.7\n",
       "No_14    85.9\n",
       "No_15    76.2\n",
       "No_16    44.9\n",
       "No_17    62.7\n",
       "Name: Weight, dtype: float64"
      ]
     },
     "execution_count": 41,
     "metadata": {},
     "output_type": "execute_result"
    }
   ],
   "source": [
    "DF1.iloc[:, -1]"
   ]
  },
  {
   "cell_type": "markdown",
   "metadata": {
    "id": "tuCQVVIHsjx3"
   },
   "source": [
    "# II. pandas - Series\n",
    "* 열이 한개!\n",
    "\n",
    "* <font color = 'blue'>Label Index</font>를 가지는 1차원 구조\n",
    "* 일반적으로 <font color = 'red'>동일한 데이터 타입</font>으로 구성"
   ]
  },
  {
   "cell_type": "markdown",
   "metadata": {
    "id": "HqaAXswiZVIi"
   },
   "source": [
    ">## 1) Series from DataFrame"
   ]
  },
  {
   "cell_type": "markdown",
   "metadata": {
    "id": "6wE18ulrmk3E"
   },
   "source": [
    "* 'Height' Column Series - 1\n",
    " - DataFrame_Name['Column_Name']"
   ]
  },
  {
   "cell_type": "code",
   "execution_count": 42,
   "metadata": {
    "colab": {
     "base_uri": "https://localhost:8080/",
     "height": 617
    },
    "executionInfo": {
     "elapsed": 65,
     "status": "ok",
     "timestamp": 1746145622878,
     "user": {
      "displayName": "이정구",
      "userId": "01734653046128971875"
     },
     "user_tz": -540
    },
    "id": "DYvgv3TNmEAo",
    "outputId": "cf0243bd-ac4b-45c9-d780-c360456156d0"
   },
   "outputs": [
    {
     "data": {
      "text/plain": [
       "No_1     179.1\n",
       "No_2     177.1\n",
       "No_3     167.9\n",
       "No_4     176.1\n",
       "No_5     176.1\n",
       "No_6     175.2\n",
       "No_7     169.1\n",
       "No_8     169.9\n",
       "No_9     165.5\n",
       "No_10    161.9\n",
       "No_11    163.2\n",
       "No_12    157.8\n",
       "No_13    166.9\n",
       "No_14    181.8\n",
       "No_15    180.3\n",
       "No_16    155.5\n",
       "No_17    168.9\n",
       "Name: Height, dtype: float64"
      ]
     },
     "execution_count": 42,
     "metadata": {},
     "output_type": "execute_result"
    }
   ],
   "source": [
    "DF1['Height']"
   ]
  },
  {
   "cell_type": "markdown",
   "metadata": {
    "id": "936_0GYxm5gn"
   },
   "source": [
    "* 'Height' Column Series - 2\n",
    " - DataFrame_Name.Column_Name"
   ]
  },
  {
   "cell_type": "code",
   "execution_count": 43,
   "metadata": {
    "colab": {
     "base_uri": "https://localhost:8080/",
     "height": 617
    },
    "executionInfo": {
     "elapsed": 8,
     "status": "ok",
     "timestamp": 1746145622886,
     "user": {
      "displayName": "이정구",
      "userId": "01734653046128971875"
     },
     "user_tz": -540
    },
    "id": "Uk4fDKFclT9m",
    "outputId": "57835201-60f1-4625-8c02-b3f7373fe995"
   },
   "outputs": [
    {
     "data": {
      "text/plain": [
       "No_1     179.1\n",
       "No_2     177.1\n",
       "No_3     167.9\n",
       "No_4     176.1\n",
       "No_5     176.1\n",
       "No_6     175.2\n",
       "No_7     169.1\n",
       "No_8     169.9\n",
       "No_9     165.5\n",
       "No_10    161.9\n",
       "No_11    163.2\n",
       "No_12    157.8\n",
       "No_13    166.9\n",
       "No_14    181.8\n",
       "No_15    180.3\n",
       "No_16    155.5\n",
       "No_17    168.9\n",
       "Name: Height, dtype: float64"
      ]
     },
     "execution_count": 43,
     "metadata": {},
     "output_type": "execute_result"
    }
   ],
   "source": [
    "DF1.Height"
   ]
  },
  {
   "cell_type": "markdown",
   "metadata": {
    "id": "4dkp1vF5m9eA"
   },
   "source": [
    "* type( ) - Series"
   ]
  },
  {
   "cell_type": "code",
   "execution_count": 44,
   "metadata": {
    "colab": {
     "base_uri": "https://localhost:8080/",
     "height": 203
    },
    "executionInfo": {
     "elapsed": 43,
     "status": "ok",
     "timestamp": 1746145622930,
     "user": {
      "displayName": "이정구",
      "userId": "01734653046128971875"
     },
     "user_tz": -540
    },
    "id": "K_U0ecI1sejH",
    "outputId": "741665f5-fd5c-4d7e-ed41-5b327693358b"
   },
   "outputs": [
    {
     "data": {
      "text/plain": [
       "pandas.core.series.Series"
      ]
     },
     "execution_count": 44,
     "metadata": {},
     "output_type": "execute_result"
    }
   ],
   "source": [
    "type(DF1['Height'])"
   ]
  },
  {
   "cell_type": "markdown",
   "metadata": {
    "id": "QV601_ACnDS1"
   },
   "source": [
    "* 'Height' & 'Age' Columns\n",
    " - DataFrame Structure"
   ]
  },
  {
   "cell_type": "code",
   "execution_count": 45,
   "metadata": {
    "colab": {
     "base_uri": "https://localhost:8080/",
     "height": 582
    },
    "executionInfo": {
     "elapsed": 43,
     "status": "ok",
     "timestamp": 1746145622970,
     "user": {
      "displayName": "이정구",
      "userId": "01734653046128971875"
     },
     "user_tz": -540
    },
    "id": "LbdE3AZ5lO8f",
    "outputId": "df9ec4c5-c5f4-485e-a1ee-1d4ba5cf0940"
   },
   "outputs": [
    {
     "data": {
      "text/html": [
       "<div>\n",
       "<style scoped>\n",
       "    .dataframe tbody tr th:only-of-type {\n",
       "        vertical-align: middle;\n",
       "    }\n",
       "\n",
       "    .dataframe tbody tr th {\n",
       "        vertical-align: top;\n",
       "    }\n",
       "\n",
       "    .dataframe thead th {\n",
       "        text-align: right;\n",
       "    }\n",
       "</style>\n",
       "<table border=\"1\" class=\"dataframe\">\n",
       "  <thead>\n",
       "    <tr style=\"text-align: right;\">\n",
       "      <th></th>\n",
       "      <th>Height</th>\n",
       "      <th>Age</th>\n",
       "    </tr>\n",
       "  </thead>\n",
       "  <tbody>\n",
       "    <tr>\n",
       "      <th>No_1</th>\n",
       "      <td>179.1</td>\n",
       "      <td>21</td>\n",
       "    </tr>\n",
       "    <tr>\n",
       "      <th>No_2</th>\n",
       "      <td>177.1</td>\n",
       "      <td>23</td>\n",
       "    </tr>\n",
       "    <tr>\n",
       "      <th>No_3</th>\n",
       "      <td>167.9</td>\n",
       "      <td>20</td>\n",
       "    </tr>\n",
       "    <tr>\n",
       "      <th>No_4</th>\n",
       "      <td>176.1</td>\n",
       "      <td>23</td>\n",
       "    </tr>\n",
       "    <tr>\n",
       "      <th>No_5</th>\n",
       "      <td>176.1</td>\n",
       "      <td>24</td>\n",
       "    </tr>\n",
       "    <tr>\n",
       "      <th>No_6</th>\n",
       "      <td>175.2</td>\n",
       "      <td>24</td>\n",
       "    </tr>\n",
       "    <tr>\n",
       "      <th>No_7</th>\n",
       "      <td>169.1</td>\n",
       "      <td>22</td>\n",
       "    </tr>\n",
       "    <tr>\n",
       "      <th>No_8</th>\n",
       "      <td>169.9</td>\n",
       "      <td>22</td>\n",
       "    </tr>\n",
       "    <tr>\n",
       "      <th>No_9</th>\n",
       "      <td>165.5</td>\n",
       "      <td>23</td>\n",
       "    </tr>\n",
       "    <tr>\n",
       "      <th>No_10</th>\n",
       "      <td>161.9</td>\n",
       "      <td>22</td>\n",
       "    </tr>\n",
       "    <tr>\n",
       "      <th>No_11</th>\n",
       "      <td>163.2</td>\n",
       "      <td>21</td>\n",
       "    </tr>\n",
       "    <tr>\n",
       "      <th>No_12</th>\n",
       "      <td>157.8</td>\n",
       "      <td>22</td>\n",
       "    </tr>\n",
       "    <tr>\n",
       "      <th>No_13</th>\n",
       "      <td>166.9</td>\n",
       "      <td>24</td>\n",
       "    </tr>\n",
       "    <tr>\n",
       "      <th>No_14</th>\n",
       "      <td>181.8</td>\n",
       "      <td>23</td>\n",
       "    </tr>\n",
       "    <tr>\n",
       "      <th>No_15</th>\n",
       "      <td>180.3</td>\n",
       "      <td>22</td>\n",
       "    </tr>\n",
       "    <tr>\n",
       "      <th>No_16</th>\n",
       "      <td>155.5</td>\n",
       "      <td>21</td>\n",
       "    </tr>\n",
       "    <tr>\n",
       "      <th>No_17</th>\n",
       "      <td>168.9</td>\n",
       "      <td>23</td>\n",
       "    </tr>\n",
       "  </tbody>\n",
       "</table>\n",
       "</div>"
      ],
      "text/plain": [
       "       Height  Age\n",
       "No_1    179.1   21\n",
       "No_2    177.1   23\n",
       "No_3    167.9   20\n",
       "No_4    176.1   23\n",
       "No_5    176.1   24\n",
       "No_6    175.2   24\n",
       "No_7    169.1   22\n",
       "No_8    169.9   22\n",
       "No_9    165.5   23\n",
       "No_10   161.9   22\n",
       "No_11   163.2   21\n",
       "No_12   157.8   22\n",
       "No_13   166.9   24\n",
       "No_14   181.8   23\n",
       "No_15   180.3   22\n",
       "No_16   155.5   21\n",
       "No_17   168.9   23"
      ]
     },
     "execution_count": 45,
     "metadata": {},
     "output_type": "execute_result"
    }
   ],
   "source": [
    "DF1[['Height', 'Age']]"
   ]
  },
  {
   "cell_type": "markdown",
   "metadata": {
    "id": "c4pmESbxnR5d"
   },
   "source": [
    "* type( ) - DataFrame"
   ]
  },
  {
   "cell_type": "code",
   "execution_count": 46,
   "metadata": {
    "colab": {
     "base_uri": "https://localhost:8080/",
     "height": 203
    },
    "executionInfo": {
     "elapsed": 285,
     "status": "ok",
     "timestamp": 1746145623253,
     "user": {
      "displayName": "이정구",
      "userId": "01734653046128971875"
     },
     "user_tz": -540
    },
    "id": "BT8dp9kZnMUg",
    "outputId": "48de6c94-2e06-4350-c461-b53a9b09b44d"
   },
   "outputs": [
    {
     "data": {
      "text/plain": [
       "pandas.core.frame.DataFrame"
      ]
     },
     "execution_count": 46,
     "metadata": {},
     "output_type": "execute_result"
    }
   ],
   "source": [
    "type(DF1[['Height', 'Age']])"
   ]
  },
  {
   "cell_type": "markdown",
   "metadata": {
    "id": "lAK1_4sWuDzh"
   },
   "source": [
    ">## 2) Function"
   ]
  },
  {
   "cell_type": "markdown",
   "metadata": {
    "id": "ZCHPse4Bn9W7"
   },
   "source": [
    "* .count( )"
   ]
  },
  {
   "cell_type": "code",
   "execution_count": 47,
   "metadata": {
    "colab": {
     "base_uri": "https://localhost:8080/"
    },
    "executionInfo": {
     "elapsed": 11,
     "status": "ok",
     "timestamp": 1746145623255,
     "user": {
      "displayName": "이정구",
      "userId": "01734653046128971875"
     },
     "user_tz": -540
    },
    "id": "Q1O9ESxOn_Wh",
    "outputId": "d7f87275-38bc-4d84-abd7-cdae52cadbc6"
   },
   "outputs": [
    {
     "data": {
      "text/plain": [
       "np.int64(17)"
      ]
     },
     "execution_count": 47,
     "metadata": {},
     "output_type": "execute_result"
    }
   ],
   "source": [
    "DF1['Height'].count()"
   ]
  },
  {
   "cell_type": "markdown",
   "metadata": {
    "id": "AGP7HvAtneT1"
   },
   "source": [
    "* .sum( )"
   ]
  },
  {
   "cell_type": "code",
   "execution_count": 48,
   "metadata": {
    "colab": {
     "base_uri": "https://localhost:8080/"
    },
    "executionInfo": {
     "elapsed": 8,
     "status": "ok",
     "timestamp": 1746145623262,
     "user": {
      "displayName": "이정구",
      "userId": "01734653046128971875"
     },
     "user_tz": -540
    },
    "id": "NokN8I1olWaW",
    "outputId": "859981a0-69f6-4070-8b57-e106ce231623"
   },
   "outputs": [
    {
     "data": {
      "text/plain": [
       "np.float64(2892.2999999999997)"
      ]
     },
     "execution_count": 48,
     "metadata": {},
     "output_type": "execute_result"
    }
   ],
   "source": [
    "DF1['Height'].sum()"
   ]
  },
  {
   "cell_type": "markdown",
   "metadata": {
    "id": "yOXRP5Qengy4"
   },
   "source": [
    "* .mean( )"
   ]
  },
  {
   "cell_type": "code",
   "execution_count": 49,
   "metadata": {
    "colab": {
     "base_uri": "https://localhost:8080/"
    },
    "executionInfo": {
     "elapsed": 15,
     "status": "ok",
     "timestamp": 1746145623277,
     "user": {
      "displayName": "이정구",
      "userId": "01734653046128971875"
     },
     "user_tz": -540
    },
    "id": "766zsDqbldLO",
    "outputId": "37b22f26-e68a-40a3-ef65-fb7745eb94a3"
   },
   "outputs": [
    {
     "data": {
      "text/plain": [
       "np.float64(170.13529411764705)"
      ]
     },
     "execution_count": 49,
     "metadata": {},
     "output_type": "execute_result"
    }
   ],
   "source": [
    "DF1['Height'].mean()"
   ]
  },
  {
   "cell_type": "markdown",
   "metadata": {
    "id": "cBeK1yYUogm_"
   },
   "source": [
    "* .median( )"
   ]
  },
  {
   "cell_type": "code",
   "execution_count": 50,
   "metadata": {
    "colab": {
     "base_uri": "https://localhost:8080/"
    },
    "executionInfo": {
     "elapsed": 18,
     "status": "ok",
     "timestamp": 1746145623446,
     "user": {
      "displayName": "이정구",
      "userId": "01734653046128971875"
     },
     "user_tz": -540
    },
    "id": "bIe0yeM7oitL",
    "outputId": "6027eb29-4c39-4ee6-fc95-0c71b7a088c7"
   },
   "outputs": [
    {
     "data": {
      "text/plain": [
       "np.float64(169.1)"
      ]
     },
     "execution_count": 50,
     "metadata": {},
     "output_type": "execute_result"
    }
   ],
   "source": [
    "DF1['Height'].median()"
   ]
  },
  {
   "cell_type": "markdown",
   "metadata": {
    "id": "vGl06tEcnpLH"
   },
   "source": [
    "* .var( )"
   ]
  },
  {
   "cell_type": "code",
   "execution_count": 51,
   "metadata": {
    "colab": {
     "base_uri": "https://localhost:8080/"
    },
    "executionInfo": {
     "elapsed": 42,
     "status": "ok",
     "timestamp": 1746145623489,
     "user": {
      "displayName": "이정구",
      "userId": "01734653046128971875"
     },
     "user_tz": -540
    },
    "id": "QFWzZCFclinv",
    "outputId": "888057ad-ccf8-4167-c729-08c61493cec8"
   },
   "outputs": [
    {
     "data": {
      "text/plain": [
       "np.float64(61.68367647058823)"
      ]
     },
     "execution_count": 51,
     "metadata": {},
     "output_type": "execute_result"
    }
   ],
   "source": [
    "DF1['Height'].var()"
   ]
  },
  {
   "cell_type": "markdown",
   "metadata": {
    "id": "xHdIutcQnq9B"
   },
   "source": [
    "* .std( )"
   ]
  },
  {
   "cell_type": "code",
   "execution_count": 52,
   "metadata": {
    "colab": {
     "base_uri": "https://localhost:8080/"
    },
    "executionInfo": {
     "elapsed": 11,
     "status": "ok",
     "timestamp": 1746145623490,
     "user": {
      "displayName": "이정구",
      "userId": "01734653046128971875"
     },
     "user_tz": -540
    },
    "id": "dkKMPFI_lkau",
    "outputId": "d7261873-1c17-4023-cda4-8290f8b4f182"
   },
   "outputs": [
    {
     "data": {
      "text/plain": [
       "np.float64(7.853895623866428)"
      ]
     },
     "execution_count": 52,
     "metadata": {},
     "output_type": "execute_result"
    }
   ],
   "source": [
    "DF1['Height'].std()"
   ]
  },
  {
   "cell_type": "markdown",
   "metadata": {
    "id": "SLt8Ncm9ntEv"
   },
   "source": [
    "* .min( )"
   ]
  },
  {
   "cell_type": "code",
   "execution_count": 53,
   "metadata": {
    "colab": {
     "base_uri": "https://localhost:8080/"
    },
    "executionInfo": {
     "elapsed": 4,
     "status": "ok",
     "timestamp": 1746145623495,
     "user": {
      "displayName": "이정구",
      "userId": "01734653046128971875"
     },
     "user_tz": -540
    },
    "id": "y8WYnB15lmY2",
    "outputId": "a7905b67-84ff-4956-954d-c22e2cf2fc32"
   },
   "outputs": [
    {
     "data": {
      "text/plain": [
       "np.float64(155.5)"
      ]
     },
     "execution_count": 53,
     "metadata": {},
     "output_type": "execute_result"
    }
   ],
   "source": [
    "DF1.Height.min()"
   ]
  },
  {
   "cell_type": "markdown",
   "metadata": {
    "id": "oXU-8XyynvJo"
   },
   "source": [
    "* .max( )"
   ]
  },
  {
   "cell_type": "code",
   "execution_count": 54,
   "metadata": {
    "colab": {
     "base_uri": "https://localhost:8080/"
    },
    "executionInfo": {
     "elapsed": 5,
     "status": "ok",
     "timestamp": 1746145623501,
     "user": {
      "displayName": "이정구",
      "userId": "01734653046128971875"
     },
     "user_tz": -540
    },
    "id": "6u6Te7gulr2O",
    "outputId": "68a9e803-8042-4c9c-a858-65a281393f8e"
   },
   "outputs": [
    {
     "data": {
      "text/plain": [
       "np.float64(181.8)"
      ]
     },
     "execution_count": 54,
     "metadata": {},
     "output_type": "execute_result"
    }
   ],
   "source": [
    "DF1.Height.max()"
   ]
  },
  {
   "cell_type": "markdown",
   "metadata": {
    "id": "mhzpSGaxsWrb"
   },
   "source": [
    "* .idxmin( )\n",
    " - Series <font color = 'blue'>최솟값의 인덱스 주소</font>를 반환"
   ]
  },
  {
   "cell_type": "code",
   "execution_count": 55,
   "metadata": {
    "colab": {
     "base_uri": "https://localhost:8080/",
     "height": 35
    },
    "executionInfo": {
     "elapsed": 3,
     "status": "ok",
     "timestamp": 1746145623505,
     "user": {
      "displayName": "이정구",
      "userId": "01734653046128971875"
     },
     "user_tz": -540
    },
    "id": "RZIayxlKrpW3",
    "outputId": "dd145258-fa5b-496e-ee25-a4a48c2d2f0e"
   },
   "outputs": [
    {
     "data": {
      "text/plain": [
       "'No_16'"
      ]
     },
     "execution_count": 55,
     "metadata": {},
     "output_type": "execute_result"
    }
   ],
   "source": [
    "DF1.Height.idxmin()"
   ]
  },
  {
   "cell_type": "markdown",
   "metadata": {
    "id": "45MtHqmQsh20"
   },
   "source": [
    "* .idxmax( )\n",
    " - Series <font color = 'blue'>최댓값의 인덱스 주소</font>를 반환"
   ]
  },
  {
   "cell_type": "code",
   "execution_count": 56,
   "metadata": {
    "colab": {
     "base_uri": "https://localhost:8080/",
     "height": 35
    },
    "executionInfo": {
     "elapsed": 56,
     "status": "ok",
     "timestamp": 1746145623562,
     "user": {
      "displayName": "이정구",
      "userId": "01734653046128971875"
     },
     "user_tz": -540
    },
    "id": "96AaW4F7rw8f",
    "outputId": "0f519e2c-761f-4260-a8a9-0c3167b00f05"
   },
   "outputs": [
    {
     "data": {
      "text/plain": [
       "'No_14'"
      ]
     },
     "execution_count": 56,
     "metadata": {},
     "output_type": "execute_result"
    }
   ],
   "source": [
    "DF1.Height.idxmax()"
   ]
  },
  {
   "cell_type": "markdown",
   "metadata": {
    "id": "X-OLYHq8qR7Z"
   },
   "source": [
    "* .sort_values( ) - <font color = 'blue'>오름차순"
   ]
  },
  {
   "cell_type": "code",
   "execution_count": 57,
   "metadata": {
    "colab": {
     "base_uri": "https://localhost:8080/",
     "height": 241
    },
    "executionInfo": {
     "elapsed": 46,
     "status": "ok",
     "timestamp": 1746145623564,
     "user": {
      "displayName": "이정구",
      "userId": "01734653046128971875"
     },
     "user_tz": -540
    },
    "id": "G9pI_SA6ov9k",
    "outputId": "ee5d3bac-5ac7-440c-8ed3-4a306a13aaf5"
   },
   "outputs": [
    {
     "data": {
      "text/plain": [
       "No_16    155.5\n",
       "No_12    157.8\n",
       "No_10    161.9\n",
       "No_11    163.2\n",
       "No_9     165.5\n",
       "Name: Height, dtype: float64"
      ]
     },
     "execution_count": 57,
     "metadata": {},
     "output_type": "execute_result"
    }
   ],
   "source": [
    "DF1.Height.sort_values(ascending = True).head()"
   ]
  },
  {
   "cell_type": "markdown",
   "metadata": {
    "id": "Bvjd9J1PqZTw"
   },
   "source": [
    "* .sort_values( ascending = False ) - <font color = 'red'>내림차순"
   ]
  },
  {
   "cell_type": "code",
   "execution_count": 52,
   "metadata": {
    "colab": {
     "base_uri": "https://localhost:8080/",
     "height": 241
    },
    "executionInfo": {
     "elapsed": 44,
     "status": "ok",
     "timestamp": 1746145623566,
     "user": {
      "displayName": "이정구",
      "userId": "01734653046128971875"
     },
     "user_tz": -540
    },
    "id": "L9bbrKlLo3Jk",
    "outputId": "2476bd66-4cbc-4283-b10e-340429a15c73"
   },
   "outputs": [
    {
     "data": {
      "text/html": [
       "<div>\n",
       "<style scoped>\n",
       "    .dataframe tbody tr th:only-of-type {\n",
       "        vertical-align: middle;\n",
       "    }\n",
       "\n",
       "    .dataframe tbody tr th {\n",
       "        vertical-align: top;\n",
       "    }\n",
       "\n",
       "    .dataframe thead th {\n",
       "        text-align: right;\n",
       "    }\n",
       "</style>\n",
       "<table border=\"1\" class=\"dataframe\">\n",
       "  <thead>\n",
       "    <tr style=\"text-align: right;\">\n",
       "      <th></th>\n",
       "      <th>Height</th>\n",
       "    </tr>\n",
       "  </thead>\n",
       "  <tbody>\n",
       "    <tr>\n",
       "      <th>No_14</th>\n",
       "      <td>181.8</td>\n",
       "    </tr>\n",
       "    <tr>\n",
       "      <th>No_15</th>\n",
       "      <td>180.3</td>\n",
       "    </tr>\n",
       "    <tr>\n",
       "      <th>No_1</th>\n",
       "      <td>179.1</td>\n",
       "    </tr>\n",
       "    <tr>\n",
       "      <th>No_2</th>\n",
       "      <td>177.1</td>\n",
       "    </tr>\n",
       "    <tr>\n",
       "      <th>No_4</th>\n",
       "      <td>176.1</td>\n",
       "    </tr>\n",
       "  </tbody>\n",
       "</table>\n",
       "</div><br><label><b>dtype:</b> float64</label>"
      ],
      "text/plain": [
       "No_14    181.8\n",
       "No_15    180.3\n",
       "No_1     179.1\n",
       "No_2     177.1\n",
       "No_4     176.1\n",
       "Name: Height, dtype: float64"
      ]
     },
     "execution_count": 52,
     "metadata": {},
     "output_type": "execute_result"
    }
   ],
   "source": [
    "DF1.Height.sort_values(ascending = False).head()"
   ]
  },
  {
   "cell_type": "markdown",
   "metadata": {
    "id": "b0GdOTL_uRWj"
   },
   "source": [
    ">## 3) Indexing & Slicing"
   ]
  },
  {
   "cell_type": "markdown",
   "metadata": {
    "id": "Bd-IemiAwJSP"
   },
   "source": [
    "> ### (1) loc(Location)\n",
    "\n",
    "* Label 값 기준"
   ]
  },
  {
   "cell_type": "markdown",
   "metadata": {
    "id": "rwPRPN3bwUSl"
   },
   "source": [
    "* loc - indexing"
   ]
  },
  {
   "cell_type": "code",
   "execution_count": 58,
   "metadata": {
    "colab": {
     "base_uri": "https://localhost:8080/"
    },
    "executionInfo": {
     "elapsed": 40,
     "status": "ok",
     "timestamp": 1746145623567,
     "user": {
      "displayName": "이정구",
      "userId": "01734653046128971875"
     },
     "user_tz": -540
    },
    "id": "ztdLaWYhluMG",
    "outputId": "c61c5c12-71ba-4768-bca2-e8941274e205"
   },
   "outputs": [
    {
     "data": {
      "text/plain": [
       "np.float64(175.2)"
      ]
     },
     "execution_count": 58,
     "metadata": {},
     "output_type": "execute_result"
    }
   ],
   "source": [
    "DF1.Height.loc['No_6']"
   ]
  },
  {
   "cell_type": "markdown",
   "metadata": {
    "id": "ZCZC6ORswdWf"
   },
   "source": [
    "* loc - <font color = 'blue'>Slicing</font>\n",
    " - .loc[label_시작, label_끝]\n",
    " - 'label_시작' 이상 'label_끝' <font color = 'red'>이하</font>"
   ]
  },
  {
   "cell_type": "code",
   "execution_count": 59,
   "metadata": {
    "colab": {
     "base_uri": "https://localhost:8080/",
     "height": 241
    },
    "executionInfo": {
     "elapsed": 11,
     "status": "ok",
     "timestamp": 1746145623571,
     "user": {
      "displayName": "이정구",
      "userId": "01734653046128971875"
     },
     "user_tz": -540
    },
    "id": "wYGsKQfvl1sH",
    "outputId": "204ff362-7961-4247-b6b0-d6194b863341"
   },
   "outputs": [
    {
     "data": {
      "text/plain": [
       "No_6     175.2\n",
       "No_7     169.1\n",
       "No_8     169.9\n",
       "No_9     165.5\n",
       "No_10    161.9\n",
       "Name: Height, dtype: float64"
      ]
     },
     "execution_count": 59,
     "metadata": {},
     "output_type": "execute_result"
    }
   ],
   "source": [
    "DF1.Height.loc['No_6':'No_10']"
   ]
  },
  {
   "cell_type": "markdown",
   "metadata": {
    "id": "oSNLARTSw0vi"
   },
   "source": [
    "> ### (2) iloc(Integer Location)\n",
    "\n",
    "* Index 값 기준"
   ]
  },
  {
   "cell_type": "code",
   "execution_count": 60,
   "metadata": {
    "colab": {
     "base_uri": "https://localhost:8080/"
    },
    "executionInfo": {
     "elapsed": 31,
     "status": "ok",
     "timestamp": 1746145623603,
     "user": {
      "displayName": "이정구",
      "userId": "01734653046128971875"
     },
     "user_tz": -540
    },
    "id": "XmTyFASWwLwk",
    "outputId": "ed3d33a8-0217-4110-ac5b-51e981a3e208"
   },
   "outputs": [
    {
     "data": {
      "text/plain": [
       "np.float64(175.2)"
      ]
     },
     "execution_count": 60,
     "metadata": {},
     "output_type": "execute_result"
    }
   ],
   "source": [
    "DF1.Height.iloc[5]"
   ]
  },
  {
   "cell_type": "markdown",
   "metadata": {
    "id": "-dDaUSxpzSs4"
   },
   "source": [
    "* .iloc 생략 가능"
   ]
  },
  {
   "cell_type": "code",
   "execution_count": 61,
   "metadata": {
    "colab": {
     "base_uri": "https://localhost:8080/"
    },
    "executionInfo": {
     "elapsed": 25,
     "status": "ok",
     "timestamp": 1746145623629,
     "user": {
      "displayName": "이정구",
      "userId": "01734653046128971875"
     },
     "user_tz": -540
    },
    "id": "LxpWdmEzzNIS",
    "outputId": "0e15324e-ecbf-497f-eba0-d71157cbb8e7"
   },
   "outputs": [
    {
     "data": {
      "text/plain": [
       "np.float64(175.2)"
      ]
     },
     "execution_count": 61,
     "metadata": {},
     "output_type": "execute_result"
    }
   ],
   "source": [
    "DF1.Height[5]"
   ]
  },
  {
   "cell_type": "markdown",
   "metadata": {
    "id": "5egdJ3qQxAnN"
   },
   "source": [
    "* iloc - <font color = 'blue'>Slicing</font>\n",
    " - .iloc[index_시작, index_끝]\n",
    " - 'index_시작' 이상 'index_끝' <font color = 'blue'>미만</font>"
   ]
  },
  {
   "cell_type": "code",
   "execution_count": 62,
   "metadata": {
    "colab": {
     "base_uri": "https://localhost:8080/",
     "height": 241
    },
    "executionInfo": {
     "elapsed": 15,
     "status": "ok",
     "timestamp": 1746145623631,
     "user": {
      "displayName": "이정구",
      "userId": "01734653046128971875"
     },
     "user_tz": -540
    },
    "id": "E3YmOLVbw4Da",
    "outputId": "9325e485-74d3-4a79-8f94-481d4e93df53"
   },
   "outputs": [
    {
     "data": {
      "text/plain": [
       "No_6     175.2\n",
       "No_7     169.1\n",
       "No_8     169.9\n",
       "No_9     165.5\n",
       "No_10    161.9\n",
       "Name: Height, dtype: float64"
      ]
     },
     "execution_count": 62,
     "metadata": {},
     "output_type": "execute_result"
    }
   ],
   "source": [
    "DF1.Height.iloc[5:10]"
   ]
  },
  {
   "cell_type": "markdown",
   "metadata": {
    "id": "Qlnl1LsPzX7S"
   },
   "source": [
    "* .iloc 생략 가능"
   ]
  },
  {
   "cell_type": "code",
   "execution_count": 63,
   "metadata": {
    "colab": {
     "base_uri": "https://localhost:8080/",
     "height": 241
    },
    "executionInfo": {
     "elapsed": 12,
     "status": "ok",
     "timestamp": 1746145623632,
     "user": {
      "displayName": "이정구",
      "userId": "01734653046128971875"
     },
     "user_tz": -540
    },
    "id": "0XCfmSTBzQEq",
    "outputId": "0f1f4d33-4ddf-4dea-e9e2-8412ae5fb06b"
   },
   "outputs": [
    {
     "data": {
      "text/plain": [
       "No_6     175.2\n",
       "No_7     169.1\n",
       "No_8     169.9\n",
       "No_9     165.5\n",
       "No_10    161.9\n",
       "Name: Height, dtype: float64"
      ]
     },
     "execution_count": 63,
     "metadata": {},
     "output_type": "execute_result"
    }
   ],
   "source": [
    "DF1.Height[5:10]"
   ]
  },
  {
   "cell_type": "markdown",
   "metadata": {
    "id": "smgMBZ9ts92S"
   },
   "source": [
    "# III. pandas - Visualization\n",
    "\n",
    "* https://pandas.pydata.org/docs/reference/api/pandas.DataFrame.plot.html"
   ]
  },
  {
   "cell_type": "markdown",
   "metadata": {
    "id": "nV6qml5lZf3-"
   },
   "source": [
    ">## 1) 선 그래프\n",
    "\n",
    "* <font color = 'blue'>kind = 'line'</font>\n",
    "* style: '-','--','-.', 's-', 'o-', '^-'\n",
    "* linewidth: 숫자\n",
    "* color: 16진수 RGB\n",
    "* figsize: inch"
   ]
  },
  {
   "cell_type": "code",
   "execution_count": 68,
   "metadata": {
    "colab": {
     "base_uri": "https://localhost:8080/",
     "height": 617
    },
    "executionInfo": {
     "elapsed": 130,
     "status": "ok",
     "timestamp": 1746145623757,
     "user": {
      "displayName": "이정구",
      "userId": "01734653046128971875"
     },
     "user_tz": -540
    },
    "id": "e-GIAiaTmDq3",
    "outputId": "e23d8776-499a-4919-bd72-156be16d76e5"
   },
   "outputs": [
    {
     "data": {
      "text/plain": [
       "<Axes: >"
      ]
     },
     "execution_count": 68,
     "metadata": {},
     "output_type": "execute_result"
    },
    {
     "data": {
      "image/png": "[encoded data removed]",
      "text/plain": [
       "<Figure size 700x400 with 1 Axes>"
      ]
     },
     "metadata": {},
     "output_type": "display_data"
    }
   ],
   "source": [
    "DF1[['Height']].plot(kind = 'line',\n",
    "                     style = 's-',\n",
    "                     linewidth = 2,\n",
    "                     #color = '#FF0000',\n",
    "                     color ='b',\n",
    "                     grid = True,\n",
    "                     figsize = (7, 4))"
   ]
  },
  {
   "cell_type": "markdown",
   "metadata": {
    "id": "js8eOd9Buj8a"
   },
   "source": [
    ">## 2) 막대 그래프\n",
    "\n",
    "* <font color = 'blue'>kind = 'bar'</font>\n",
    "* width: 0~1\n",
    "* rot: 0~360\n",
    "* fontsize: 숫자"
   ]
  },
  {
   "cell_type": "code",
   "execution_count": 70,
   "metadata": {
    "colab": {
     "base_uri": "https://localhost:8080/",
     "height": 664
    },
    "executionInfo": {
     "elapsed": 285,
     "status": "ok",
     "timestamp": 1746145624043,
     "user": {
      "displayName": "이정구",
      "userId": "01734653046128971875"
     },
     "user_tz": -540
    },
    "id": "aoZbYVQwmPo4",
    "outputId": "fb429581-5a4a-409f-d92d-df523b841f54"
   },
   "outputs": [
    {
     "data": {
      "text/plain": [
       "<Axes: >"
      ]
     },
     "execution_count": 70,
     "metadata": {},
     "output_type": "execute_result"
    },
    {
     "data": {
      "image/png": "[encoded data removed]",
      "text/plain": [
       "<Figure size 700x400 with 1 Axes>"
      ]
     },
     "metadata": {},
     "output_type": "display_data"
    }
   ],
   "source": [
    "DF1[['Height', 'Weight']].plot(kind = 'bar',\n",
    "                               width = 0.5,\n",
    "                               rot = 45,\n",
    "                               fontsize = 10,\n",
    "                               figsize = (7, 4))"
   ]
  },
  {
   "cell_type": "markdown",
   "metadata": {
    "id": "O-50XCR53kEb"
   },
   "source": [
    "* <font color = 'blue'>kind = 'barh'"
   ]
  },
  {
   "cell_type": "code",
   "execution_count": 72,
   "metadata": {
    "colab": {
     "base_uri": "https://localhost:8080/",
     "height": 854
    },
    "executionInfo": {
     "elapsed": 350,
     "status": "ok",
     "timestamp": 1746145624394,
     "user": {
      "displayName": "이정구",
      "userId": "01734653046128971875"
     },
     "user_tz": -540
    },
    "id": "CbrJ8ONb-fez",
    "outputId": "c38de1f5-15b2-449d-80a9-c090ba7e2f99"
   },
   "outputs": [
    {
     "data": {
      "text/plain": [
       "<Axes: >"
      ]
     },
     "execution_count": 72,
     "metadata": {},
     "output_type": "execute_result"
    },
    {
     "data": {
      "image/png": "[encoded data removed]",
      "text/plain": [
       "<Figure size 400x700 with 1 Axes>"
      ]
     },
     "metadata": {},
     "output_type": "display_data"
    }
   ],
   "source": [
    "DF1[['Height', 'Weight']].plot(kind = 'barh',\n",
    "                               rot = 45,\n",
    "                               color = ['#FA5800', '#A20025'],\n",
    "                               fontsize = 10,\n",
    "                               figsize = (4, 7))"
   ]
  },
  {
   "cell_type": "markdown",
   "metadata": {
    "id": "12kJZ3xkuoBR"
   },
   "source": [
    ">## 3) 히스토그램\n",
    "\n",
    "* <font color = 'blue'>kind = 'hist'</font>\n",
    "* bins: 구간 개수\n",
    "* alpha: 0~1"
   ]
  },
  {
   "cell_type": "code",
   "execution_count": 74,
   "metadata": {
    "colab": {
     "base_uri": "https://localhost:8080/",
     "height": 617
    },
    "executionInfo": {
     "elapsed": 119,
     "status": "ok",
     "timestamp": 1746145624515,
     "user": {
      "displayName": "이정구",
      "userId": "01734653046128971875"
     },
     "user_tz": -540
    },
    "id": "tmkIQzu2nMVC",
    "outputId": "5227a939-d32f-44f1-eb8f-6112f7ffbb94"
   },
   "outputs": [
    {
     "data": {
      "text/plain": [
       "<Axes: ylabel='Frequency'>"
      ]
     },
     "execution_count": 74,
     "metadata": {},
     "output_type": "execute_result"
    },
    {
     "data": {
      "image/png": "[encoded data removed]",
      "text/plain": [
       "<Figure size 700x400 with 1 Axes>"
      ]
     },
     "metadata": {},
     "output_type": "display_data"
    }
   ],
   "source": [
    "DF1['Height'].plot(kind = 'hist',\n",
    "                   bins = 5,\n",
    "                   alpha = 0.5,\n",
    "                   figsize = (7, 4))"
   ]
  },
  {
   "cell_type": "markdown",
   "metadata": {
    "id": "etf5eL0AuvSo"
   },
   "source": [
    ">## 4) 상자 그래프\n",
    "\n",
    "* <font color = 'blue'>kind = 'box'"
   ]
  },
  {
   "cell_type": "code",
   "execution_count": 75,
   "metadata": {
    "colab": {
     "base_uri": "https://localhost:8080/",
     "height": 771
    },
    "executionInfo": {
     "elapsed": 148,
     "status": "ok",
     "timestamp": 1746145624663,
     "user": {
      "displayName": "이정구",
      "userId": "01734653046128971875"
     },
     "user_tz": -540
    },
    "id": "3z7v9HtcmifZ",
    "outputId": "fab1f167-0fa6-431f-9ac4-a97ddb3ebf40"
   },
   "outputs": [
    {
     "data": {
      "text/plain": [
       "<Axes: >"
      ]
     },
     "execution_count": 75,
     "metadata": {},
     "output_type": "execute_result"
    },
    {
     "data": {
      "image/png": "[encoded data removed]",
      "text/plain": [
       "<Figure size 500x700 with 1 Axes>"
      ]
     },
     "metadata": {},
     "output_type": "display_data"
    }
   ],
   "source": [
    "DF1['Height'].plot(kind = 'box',\n",
    "                   figsize = (5, 7))"
   ]
  },
  {
   "cell_type": "markdown",
   "metadata": {
    "id": "0l4OWNFIu0Ig"
   },
   "source": [
    ">## 5) 산점도\n",
    "\n",
    "* <font color = 'blue'>kind = 'scatter'</font>\n",
    "* s: 숫자"
   ]
  },
  {
   "cell_type": "code",
   "execution_count": 76,
   "metadata": {
    "colab": {
     "base_uri": "https://localhost:8080/",
     "height": 637
    },
    "executionInfo": {
     "elapsed": 233,
     "status": "ok",
     "timestamp": 1746145624897,
     "user": {
      "displayName": "이정구",
      "userId": "01734653046128971875"
     },
     "user_tz": -540
    },
    "id": "zdG8fEkfoZN2",
    "outputId": "ceb0157e-67d8-4b51-9cb2-fd5da2123ea9"
   },
   "outputs": [
    {
     "data": {
      "text/plain": [
       "<Axes: xlabel='Height', ylabel='Weight'>"
      ]
     },
     "execution_count": 76,
     "metadata": {},
     "output_type": "execute_result"
    },
    {
     "data": {
      "image/png": "[encoded data removed]",
      "text/plain": [
       "<Figure size 700x400 with 1 Axes>"
      ]
     },
     "metadata": {},
     "output_type": "display_data"
    }
   ],
   "source": [
    "DF1[['Height', 'Weight']].plot(kind = 'scatter',\n",
    "                               x = 'Height',\n",
    "                               y = 'Weight',\n",
    "                               s = 50,\n",
    "                               figsize = (7, 4))"
   ]
  },
  {
   "cell_type": "markdown",
   "metadata": {
    "id": "hkR4Q_sxwru5"
   },
   "source": [
    ">## 6) 파이 그래프\n",
    "\n",
    "* <font color = 'blue'>kind = 'pie'</font>"
   ]
  },
  {
   "cell_type": "code",
   "execution_count": 78,
   "metadata": {
    "colab": {
     "base_uri": "https://localhost:8080/",
     "height": 825
    },
    "executionInfo": {
     "elapsed": 112,
     "status": "ok",
     "timestamp": 1746145625011,
     "user": {
      "displayName": "이정구",
      "userId": "01734653046128971875"
     },
     "user_tz": -540
    },
    "id": "CXKjLWIwu5MA",
    "outputId": "84907992-b76e-4280-cca4-110cf974fc42"
   },
   "outputs": [
    {
     "data": {
      "text/plain": [
       "<Axes: ylabel='count'>"
      ]
     },
     "execution_count": 78,
     "metadata": {},
     "output_type": "execute_result"
    },
    {
     "data": {
      "image/png": "[encoded data removed]",
      "text/plain": [
       "<Figure size 500x500 with 1 Axes>"
      ]
     },
     "metadata": {},
     "output_type": "display_data"
    }
   ],
   "source": [
    "DF1.BloodType.value_counts().plot(kind = 'pie',\n",
    "                                  autopct = '%.1f%%',\n",
    "                                  fontsize = 15,\n",
    "                                  figsize = (5, 5))"
   ]
  },
  {
   "cell_type": "markdown",
   "metadata": {
    "id": "7o9Fe-9XmOxH"
   },
   "source": [
    "#\n",
    "#\n",
    "#\n",
    "# End Of Document\n",
    "#\n",
    "#\n",
    "#"
   ]
  }
 ],
 "metadata": {
  "colab": {
   "provenance": []
  },
  "kernelspec": {
   "display_name": "data_env",
   "language": "python",
   "name": "python3"
  },
  "language_info": {
   "codemirror_mode": {
    "name": "ipython",
    "version": 3
   },
   "file_extension": ".py",
   "mimetype": "text/x-python",
   "name": "python",
   "nbconvert_exporter": "python",
   "pygments_lexer": "ipython3",
   "version": "3.13.3"
  }
 },
 "nbformat": 4,
 "nbformat_minor": 0
}
