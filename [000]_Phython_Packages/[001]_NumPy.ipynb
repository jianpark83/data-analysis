{
 "cells": [
  {
   "cell_type": "markdown",
   "metadata": {
    "id": "aeWLax5_Rr8S"
   },
   "source": [
    "# NumPy (Numerical Python)\n",
    "\n",
    "* 수학 및 과학적 연산을 쉽고 빠르게 지원\n",
    "* 다차원 <font color = 'blue'>행렬</font>(Array/Matrix)을 효과적으로 처리\n",
    "* 일반적으로 <font color = 'red'>같은 데이터 타입 값</font>으로 구성\n",
    "* https://numpy.org"
   ]
  },
  {
   "cell_type": "code",
   "execution_count": 1,
   "metadata": {
    "id": "RbPgODpVzdHI"
   },
   "outputs": [],
   "source": [
    "import warnings\n",
    "warnings.filterwarnings('ignore')"
   ]
  },
  {
   "cell_type": "markdown",
   "metadata": {
    "id": "z1aUpoPri_N7"
   },
   "source": [
    "# I. NumPy Package <font color='blue'>import ~ as"
   ]
  },
  {
   "cell_type": "code",
   "execution_count": 2,
   "metadata": {
    "id": "NDRXkFkXR3Dm"
   },
   "outputs": [],
   "source": [
    "import numpy as np"
   ]
  },
  {
   "cell_type": "markdown",
   "metadata": {
    "id": "oN6xdqV0a6fX"
   },
   "source": [
    "* Version Check"
   ]
  },
  {
   "cell_type": "code",
   "execution_count": 3,
   "metadata": {
    "colab": {
     "base_uri": "https://localhost:8080/",
     "height": 35
    },
    "executionInfo": {
     "elapsed": 51,
     "status": "ok",
     "timestamp": 1746145514393,
     "user": {
      "displayName": "이정구",
      "userId": "01734653046128971875"
     },
     "user_tz": -540
    },
    "id": "8UfFpxhJX9d1",
    "outputId": "54c3dd90-fad7-4f69-82f4-7241049338fb"
   },
   "outputs": [
    {
     "data": {
      "text/plain": [
       "'2.2.5'"
      ]
     },
     "execution_count": 3,
     "metadata": {},
     "output_type": "execute_result"
    }
   ],
   "source": [
    "np.__version__"
   ]
  },
  {
   "cell_type": "markdown",
   "metadata": {
    "id": "EctznY6mTLqO"
   },
   "source": [
    "# II. Array 생성\n",
    "\n",
    "* Python <font color = 'blue'>List 구조</font>를 사용"
   ]
  },
  {
   "cell_type": "markdown",
   "metadata": {
    "id": "aYKP2-iqaeLt"
   },
   "source": [
    ">## 1) Scalar - <font color='red'>0D Array</font> - <font color='blue'>Rank0 Tensor"
   ]
  },
  {
   "cell_type": "code",
   "execution_count": 4,
   "metadata": {
    "id": "lWuGV8W0UBk3"
   },
   "outputs": [],
   "source": [
    "a0 = np.array(9)"
   ]
  },
  {
   "cell_type": "code",
   "execution_count": 5,
   "metadata": {
    "colab": {
     "base_uri": "https://localhost:8080/"
    },
    "executionInfo": {
     "elapsed": 52,
     "status": "ok",
     "timestamp": 1746145514565,
     "user": {
      "displayName": "이정구",
      "userId": "01734653046128971875"
     },
     "user_tz": -540
    },
    "id": "a5h3YNhE-kpS",
    "outputId": "8d66998c-faf9-4069-faa3-2c040b65bed7"
   },
   "outputs": [
    {
     "name": "stdout",
     "output_type": "stream",
     "text": [
      "9\n"
     ]
    }
   ],
   "source": [
    "print(a0)"
   ]
  },
  {
   "cell_type": "markdown",
   "metadata": {
    "id": "1ppJk47HUPax"
   },
   "source": [
    ">## 2) Vector - <font color='red'>1D Array</font> - <font color='blue'>Rank1 Tensor"
   ]
  },
  {
   "cell_type": "code",
   "execution_count": 6,
   "metadata": {
    "id": "Fgdh070xUcLq"
   },
   "outputs": [],
   "source": [
    "a1 = np.array([1, 3, 5, 7, 9])"
   ]
  },
  {
   "cell_type": "code",
   "execution_count": 7,
   "metadata": {
    "colab": {
     "base_uri": "https://localhost:8080/"
    },
    "executionInfo": {
     "elapsed": 6,
     "status": "ok",
     "timestamp": 1746145514589,
     "user": {
      "displayName": "이정구",
      "userId": "01734653046128971875"
     },
     "user_tz": -540
    },
    "id": "nkdv5v7Lhp4w",
    "outputId": "18fe081b-878c-4e8b-b9b7-e45ac66e5888"
   },
   "outputs": [
    {
     "name": "stdout",
     "output_type": "stream",
     "text": [
      "[1 3 5 7 9]\n"
     ]
    }
   ],
   "source": [
    "print(a1)"
   ]
  },
  {
   "cell_type": "code",
   "execution_count": 8,
   "metadata": {
    "colab": {
     "base_uri": "https://localhost:8080/"
    },
    "executionInfo": {
     "elapsed": 85,
     "status": "ok",
     "timestamp": 1746145514675,
     "user": {
      "displayName": "이정구",
      "userId": "01734653046128971875"
     },
     "user_tz": -540
    },
    "id": "_n04gihUajEp",
    "outputId": "56f5713e-3417-4041-b25b-acf80f5caa16"
   },
   "outputs": [
    {
     "data": {
      "text/plain": [
       "np.int64(5)"
      ]
     },
     "execution_count": 8,
     "metadata": {},
     "output_type": "execute_result"
    }
   ],
   "source": [
    "a1[2]"
   ]
  },
  {
   "cell_type": "code",
   "execution_count": null,
   "metadata": {
    "colab": {
     "base_uri": "https://localhost:8080/"
    },
    "executionInfo": {
     "elapsed": 3,
     "status": "ok",
     "timestamp": 1746145514679,
     "user": {
      "displayName": "이정구",
      "userId": "01734653046128971875"
     },
     "user_tz": -540
    },
    "id": "6ZjetBi9amMd",
    "outputId": "773b2946-2cdd-4260-8e19-54c3a2880e52"
   },
   "outputs": [
    {
     "data": {
      "text/plain": [
       "array([3, 5])"
      ]
     },
     "execution_count": 9,
     "metadata": {},
     "output_type": "execute_result"
    }
   ],
   "source": [
    "a1[1:3]"
   ]
  },
  {
   "cell_type": "markdown",
   "metadata": {
    "id": "Dlvo0qH_Uw-n"
   },
   "source": [
    ">## 3) Matrix - <font color='red'>2D Array</font> - <font color='blue'>Rank2 Tensor"
   ]
  },
  {
   "cell_type": "code",
   "execution_count": 10,
   "metadata": {
    "id": "2wvfUabnUwIJ"
   },
   "outputs": [],
   "source": [
    "a2 = np.array([[1, 2, 3],\n",
    "               [4, 5, 6],\n",
    "               [7, 8, 9]])"
   ]
  },
  {
   "cell_type": "code",
   "execution_count": 11,
   "metadata": {
    "colab": {
     "base_uri": "https://localhost:8080/"
    },
    "executionInfo": {
     "elapsed": 5,
     "status": "ok",
     "timestamp": 1746145514687,
     "user": {
      "displayName": "이정구",
      "userId": "01734653046128971875"
     },
     "user_tz": -540
    },
    "id": "UaxZnudx-rid",
    "outputId": "dc381d79-4d04-4ebb-8fa0-59833ca1167b"
   },
   "outputs": [
    {
     "name": "stdout",
     "output_type": "stream",
     "text": [
      "[[1 2 3]\n",
      " [4 5 6]\n",
      " [7 8 9]]\n"
     ]
    }
   ],
   "source": [
    "print(a2)"
   ]
  },
  {
   "cell_type": "markdown",
   "metadata": {
    "id": "sM4p2mo0cf1w"
   },
   "source": [
    "* a2[행]"
   ]
  },
  {
   "cell_type": "code",
   "execution_count": 12,
   "metadata": {
    "colab": {
     "base_uri": "https://localhost:8080/"
    },
    "executionInfo": {
     "elapsed": 18,
     "status": "ok",
     "timestamp": 1746145514741,
     "user": {
      "displayName": "이정구",
      "userId": "01734653046128971875"
     },
     "user_tz": -540
    },
    "id": "wWEJY5rZasoR",
    "outputId": "3167dbca-9d93-4175-836e-f14332798ff9"
   },
   "outputs": [
    {
     "data": {
      "text/plain": [
       "array([4, 5, 6])"
      ]
     },
     "execution_count": 12,
     "metadata": {},
     "output_type": "execute_result"
    }
   ],
   "source": [
    "a2[1]"
   ]
  },
  {
   "cell_type": "markdown",
   "metadata": {
    "id": "jmHAIeYQcjCn"
   },
   "source": [
    "* a2[행, 열]"
   ]
  },
  {
   "cell_type": "code",
   "execution_count": 13,
   "metadata": {
    "colab": {
     "base_uri": "https://localhost:8080/"
    },
    "executionInfo": {
     "elapsed": 21,
     "status": "ok",
     "timestamp": 1746145514763,
     "user": {
      "displayName": "이정구",
      "userId": "01734653046128971875"
     },
     "user_tz": -540
    },
    "id": "6P1w7T8tauUI",
    "outputId": "3b6ce1c9-efdc-4fb6-d810-a1ab4d9f9c3a"
   },
   "outputs": [
    {
     "data": {
      "text/plain": [
       "np.int64(5)"
      ]
     },
     "execution_count": 13,
     "metadata": {},
     "output_type": "execute_result"
    }
   ],
   "source": [
    "a2[1, 1]"
   ]
  },
  {
   "cell_type": "markdown",
   "metadata": {
    "id": "EHH3aptjcmwk"
   },
   "source": [
    "* a2[<font color = 'blue'>행</font>, 열] -> ex) '0:3' 은 0~3전까지, ' : ' 은 행 또는 열 전체"
   ]
  },
  {
   "cell_type": "code",
   "execution_count": 14,
   "metadata": {
    "colab": {
     "base_uri": "https://localhost:8080/"
    },
    "executionInfo": {
     "elapsed": 8,
     "status": "ok",
     "timestamp": 1746145514788,
     "user": {
      "displayName": "이정구",
      "userId": "01734653046128971875"
     },
     "user_tz": -540
    },
    "id": "b23hRAF7a-sZ",
    "outputId": "b0762161-2df8-44fb-bd76-2040d7c6ce66"
   },
   "outputs": [
    {
     "data": {
      "text/plain": [
       "array([2, 5, 8])"
      ]
     },
     "execution_count": 14,
     "metadata": {},
     "output_type": "execute_result"
    }
   ],
   "source": [
    "a2[:, 1]"
   ]
  },
  {
   "cell_type": "code",
   "execution_count": 17,
   "metadata": {},
   "outputs": [
    {
     "data": {
      "text/plain": [
       "array([3, 6])"
      ]
     },
     "execution_count": 17,
     "metadata": {},
     "output_type": "execute_result"
    }
   ],
   "source": [
    "a2[0:2, 2]"
   ]
  },
  {
   "cell_type": "code",
   "execution_count": 18,
   "metadata": {},
   "outputs": [
    {
     "data": {
      "text/plain": [
       "array([[1, 2],\n",
       "       [4, 5]])"
      ]
     },
     "execution_count": 18,
     "metadata": {},
     "output_type": "execute_result"
    }
   ],
   "source": [
    "a2[0:2, 0:2]"
   ]
  },
  {
   "cell_type": "markdown",
   "metadata": {
    "id": "yxyoorBzVKBO"
   },
   "source": [
    ">## 4) Array - <font color='red'>3D Array</font> - <font color='blue'>Rank3 Tensor"
   ]
  },
  {
   "cell_type": "markdown",
   "metadata": {},
   "source": [
    "* 3차원(차원, 행, 열)"
   ]
  },
  {
   "cell_type": "code",
   "execution_count": 24,
   "metadata": {
    "id": "zxg8vaSzVQjN"
   },
   "outputs": [],
   "source": [
    "a3 = np.array([\n",
    "               [\n",
    "                [1, 2],\n",
    "                [3, 4]\n",
    "               ],\n",
    "               [\n",
    "                [5, 6],\n",
    "                [7, 8]\n",
    "               ],\n",
    "               [\n",
    "                [9, 10],\n",
    "                [11, 12]\n",
    "               ]\n",
    "             ])"
   ]
  },
  {
   "cell_type": "code",
   "execution_count": 20,
   "metadata": {},
   "outputs": [
    {
     "data": {
      "text/plain": [
       "(3, 2, 2)"
      ]
     },
     "execution_count": 20,
     "metadata": {},
     "output_type": "execute_result"
    }
   ],
   "source": [
    "a3.shape"
   ]
  },
  {
   "cell_type": "code",
   "execution_count": 21,
   "metadata": {
    "colab": {
     "base_uri": "https://localhost:8080/"
    },
    "executionInfo": {
     "elapsed": 4,
     "status": "ok",
     "timestamp": 1746145514850,
     "user": {
      "displayName": "이정구",
      "userId": "01734653046128971875"
     },
     "user_tz": -540
    },
    "id": "a1oeHPuS-xdY",
    "outputId": "a4b9423a-55cc-4336-d683-c3444c968ec9"
   },
   "outputs": [
    {
     "name": "stdout",
     "output_type": "stream",
     "text": [
      "[[[ 1  2]\n",
      "  [ 3  4]]\n",
      "\n",
      " [[ 5  6]\n",
      "  [ 7  8]]\n",
      "\n",
      " [[ 9 10]\n",
      "  [11 12]]]\n"
     ]
    }
   ],
   "source": [
    "print(a3)"
   ]
  },
  {
   "cell_type": "markdown",
   "metadata": {
    "id": "I9bGp1zUb1Sd"
   },
   "source": [
    "* a3[축]"
   ]
  },
  {
   "cell_type": "code",
   "execution_count": 22,
   "metadata": {
    "colab": {
     "base_uri": "https://localhost:8080/"
    },
    "executionInfo": {
     "elapsed": 4,
     "status": "ok",
     "timestamp": 1746145514854,
     "user": {
      "displayName": "이정구",
      "userId": "01734653046128971875"
     },
     "user_tz": -540
    },
    "id": "OBW536UKbKcq",
    "outputId": "c861d1b0-1e34-4594-eca0-9d58e5cfab16"
   },
   "outputs": [
    {
     "data": {
      "text/plain": [
       "array([[5, 6],\n",
       "       [7, 8]])"
      ]
     },
     "execution_count": 22,
     "metadata": {},
     "output_type": "execute_result"
    }
   ],
   "source": [
    "a3[1]"
   ]
  },
  {
   "cell_type": "code",
   "execution_count": 26,
   "metadata": {},
   "outputs": [
    {
     "data": {
      "text/plain": [
       "array([[1, 2],\n",
       "       [3, 4]])"
      ]
     },
     "execution_count": 26,
     "metadata": {},
     "output_type": "execute_result"
    }
   ],
   "source": [
    "a3[0]"
   ]
  },
  {
   "cell_type": "markdown",
   "metadata": {
    "id": "ES3mx6L3cG0e"
   },
   "source": [
    "* a3[축, 행]"
   ]
  },
  {
   "cell_type": "code",
   "execution_count": 25,
   "metadata": {
    "colab": {
     "base_uri": "https://localhost:8080/"
    },
    "executionInfo": {
     "elapsed": 38,
     "status": "ok",
     "timestamp": 1746145514893,
     "user": {
      "displayName": "이정구",
      "userId": "01734653046128971875"
     },
     "user_tz": -540
    },
    "id": "lFZz5LFfbNW-",
    "outputId": "88baa147-06bd-4ac4-b47c-f5f6a59bd87d"
   },
   "outputs": [
    {
     "data": {
      "text/plain": [
       "array([7, 8])"
      ]
     },
     "execution_count": 25,
     "metadata": {},
     "output_type": "execute_result"
    }
   ],
   "source": [
    "a3[1, 1]"
   ]
  },
  {
   "cell_type": "markdown",
   "metadata": {
    "id": "9La5-8iLcPIu"
   },
   "source": [
    "* a3[축, 행, 열]"
   ]
  },
  {
   "cell_type": "code",
   "execution_count": 27,
   "metadata": {
    "colab": {
     "base_uri": "https://localhost:8080/"
    },
    "executionInfo": {
     "elapsed": 4,
     "status": "ok",
     "timestamp": 1746145514898,
     "user": {
      "displayName": "이정구",
      "userId": "01734653046128971875"
     },
     "user_tz": -540
    },
    "id": "_vZRr_iHbQo8",
    "outputId": "bbdb3e65-1624-4f44-c116-9afcbeff898e"
   },
   "outputs": [
    {
     "data": {
      "text/plain": [
       "np.int64(8)"
      ]
     },
     "execution_count": 27,
     "metadata": {},
     "output_type": "execute_result"
    }
   ],
   "source": [
    "a3[1, 1, 1]"
   ]
  },
  {
   "cell_type": "markdown",
   "metadata": {
    "id": "RNtmqIO5cSvO"
   },
   "source": [
    "* a3[<font color = 'blue'>축</font>, 행, 열]"
   ]
  },
  {
   "cell_type": "code",
   "execution_count": 28,
   "metadata": {
    "colab": {
     "base_uri": "https://localhost:8080/"
    },
    "executionInfo": {
     "elapsed": 3,
     "status": "ok",
     "timestamp": 1746145514901,
     "user": {
      "displayName": "이정구",
      "userId": "01734653046128971875"
     },
     "user_tz": -540
    },
    "id": "eQPTyC1AbV47",
    "outputId": "cb8e8eab-443c-493b-8d8c-af1a2c8f1157"
   },
   "outputs": [
    {
     "data": {
      "text/plain": [
       "array([1, 5, 9])"
      ]
     },
     "execution_count": 28,
     "metadata": {},
     "output_type": "execute_result"
    }
   ],
   "source": [
    "a3[:, 0, 0]"
   ]
  },
  {
   "cell_type": "code",
   "execution_count": 29,
   "metadata": {},
   "outputs": [
    {
     "data": {
      "text/plain": [
       "array([[[ 1,  2],\n",
       "        [ 3,  4]],\n",
       "\n",
       "       [[ 5,  6],\n",
       "        [ 7,  8]],\n",
       "\n",
       "       [[ 9, 10],\n",
       "        [11, 12]]])"
      ]
     },
     "execution_count": 29,
     "metadata": {},
     "output_type": "execute_result"
    }
   ],
   "source": [
    "a3[:, 0:2, 0:2]"
   ]
  },
  {
   "cell_type": "code",
   "execution_count": 30,
   "metadata": {},
   "outputs": [
    {
     "data": {
      "text/plain": [
       "array([[[1]],\n",
       "\n",
       "       [[5]],\n",
       "\n",
       "       [[9]]])"
      ]
     },
     "execution_count": 30,
     "metadata": {},
     "output_type": "execute_result"
    }
   ],
   "source": [
    "a3[:, 0:1, 0:1]"
   ]
  },
  {
   "cell_type": "markdown",
   "metadata": {
    "id": "mqIbI-EAcTTt"
   },
   "source": [
    "* a3[<font color = 'blue'>축</font>, <font color = 'blue'>행</font>, 열]"
   ]
  },
  {
   "cell_type": "code",
   "execution_count": 31,
   "metadata": {
    "colab": {
     "base_uri": "https://localhost:8080/"
    },
    "executionInfo": {
     "elapsed": 21,
     "status": "ok",
     "timestamp": 1746145514923,
     "user": {
      "displayName": "이정구",
      "userId": "01734653046128971875"
     },
     "user_tz": -540
    },
    "id": "gNbHHHVIbgkY",
    "outputId": "05c33b75-81b2-4d4c-b28b-8dc1b215a749"
   },
   "outputs": [
    {
     "data": {
      "text/plain": [
       "array([[ 1,  3],\n",
       "       [ 5,  7],\n",
       "       [ 9, 11]])"
      ]
     },
     "execution_count": 31,
     "metadata": {},
     "output_type": "execute_result"
    }
   ],
   "source": [
    "a3[:, :, 0]"
   ]
  },
  {
   "cell_type": "code",
   "execution_count": 32,
   "metadata": {},
   "outputs": [],
   "source": [
    "a4 = np.array([\n",
    "               [\n",
    "                [1, 2, 20],\n",
    "                [3, 4, 21]\n",
    "               ],\n",
    "               [\n",
    "                [5, 6, 22],\n",
    "                [7, 8, 23]\n",
    "               ],\n",
    "               [\n",
    "                [9, 10, 24],\n",
    "                [11, 12, 25]\n",
    "               ]\n",
    "             ])"
   ]
  },
  {
   "cell_type": "code",
   "execution_count": 33,
   "metadata": {},
   "outputs": [
    {
     "data": {
      "text/plain": [
       "np.int64(10)"
      ]
     },
     "execution_count": 33,
     "metadata": {},
     "output_type": "execute_result"
    }
   ],
   "source": [
    "a4[2, 0, 1]"
   ]
  },
  {
   "cell_type": "code",
   "execution_count": 34,
   "metadata": {},
   "outputs": [
    {
     "data": {
      "text/plain": [
       "array([[[ 1],\n",
       "        [ 3]],\n",
       "\n",
       "       [[ 5],\n",
       "        [ 7]],\n",
       "\n",
       "       [[ 9],\n",
       "        [11]]])"
      ]
     },
     "execution_count": 34,
     "metadata": {},
     "output_type": "execute_result"
    }
   ],
   "source": [
    "a4[:, 0:2, 0:1]"
   ]
  },
  {
   "cell_type": "code",
   "execution_count": 35,
   "metadata": {},
   "outputs": [
    {
     "data": {
      "text/plain": [
       "array([5, 7])"
      ]
     },
     "execution_count": 35,
     "metadata": {},
     "output_type": "execute_result"
    }
   ],
   "source": [
    "a4[1, :, 0]"
   ]
  },
  {
   "cell_type": "code",
   "execution_count": 36,
   "metadata": {},
   "outputs": [],
   "source": [
    "a5 = np.array([\n",
    "               [\n",
    "                [1, 2, 3],\n",
    "                [4, 5, 6],\n",
    "                [7, 8, 9]\n",
    "               ],\n",
    "               [\n",
    "                [11, 12, 13],\n",
    "                [14, 15, 16],\n",
    "                [17, 18, 19]\n",
    "               ],\n",
    "               [\n",
    "                [21, 22, 23],\n",
    "                [24, 25, 26],\n",
    "                [27, 28, 29]\n",
    "               ]\n",
    "             ])"
   ]
  },
  {
   "cell_type": "code",
   "execution_count": 37,
   "metadata": {},
   "outputs": [
    {
     "data": {
      "text/plain": [
       "array([[ 3,  6,  9],\n",
       "       [13, 16, 19],\n",
       "       [23, 26, 29]])"
      ]
     },
     "execution_count": 37,
     "metadata": {},
     "output_type": "execute_result"
    }
   ],
   "source": [
    "a5[0:3, :, 2]"
   ]
  },
  {
   "cell_type": "code",
   "execution_count": 38,
   "metadata": {},
   "outputs": [
    {
     "data": {
      "text/plain": [
       "np.int64(21)"
      ]
     },
     "execution_count": 38,
     "metadata": {},
     "output_type": "execute_result"
    }
   ],
   "source": [
    "a5[2, 0, 0]"
   ]
  },
  {
   "cell_type": "markdown",
   "metadata": {
    "id": "aBwa0fe1WHT7"
   },
   "source": [
    "# III. AR<font color='red'>.shape</font> and AR<font color='blue'>.reshape( )"
   ]
  },
  {
   "cell_type": "code",
   "execution_count": 39,
   "metadata": {
    "id": "hLN37azvWVsx"
   },
   "outputs": [],
   "source": [
    "AR = np.array([1, 2, 3, 4, 5, 6, 7, 8, 9, 10, 11, 12])"
   ]
  },
  {
   "cell_type": "code",
   "execution_count": 40,
   "metadata": {
    "colab": {
     "base_uri": "https://localhost:8080/"
    },
    "executionInfo": {
     "elapsed": 6,
     "status": "ok",
     "timestamp": 1746145514965,
     "user": {
      "displayName": "이정구",
      "userId": "01734653046128971875"
     },
     "user_tz": -540
    },
    "id": "ch_3im3D_PZV",
    "outputId": "92a84cb8-fc13-459f-9bc4-37ad379ce035"
   },
   "outputs": [
    {
     "name": "stdout",
     "output_type": "stream",
     "text": [
      "[ 1  2  3  4  5  6  7  8  9 10 11 12]\n"
     ]
    }
   ],
   "source": [
    "print(AR)"
   ]
  },
  {
   "cell_type": "markdown",
   "metadata": {
    "id": "j8qamVclW2FR"
   },
   "source": [
    ">## 1) <font color='red'>.shape"
   ]
  },
  {
   "cell_type": "markdown",
   "metadata": {
    "id": "kZdECdOeQgaD"
   },
   "source": [
    "* 행렬 크기"
   ]
  },
  {
   "cell_type": "code",
   "execution_count": 41,
   "metadata": {
    "colab": {
     "base_uri": "https://localhost:8080/"
    },
    "executionInfo": {
     "elapsed": 4,
     "status": "ok",
     "timestamp": 1746145514970,
     "user": {
      "displayName": "이정구",
      "userId": "01734653046128971875"
     },
     "user_tz": -540
    },
    "id": "k9i2rOYHW4Od",
    "outputId": "c3689c29-435f-44ff-d7e8-805e3c67d4e9"
   },
   "outputs": [
    {
     "data": {
      "text/plain": [
       "(12,)"
      ]
     },
     "execution_count": 41,
     "metadata": {},
     "output_type": "execute_result"
    }
   ],
   "source": [
    "AR.shape"
   ]
  },
  {
   "cell_type": "markdown",
   "metadata": {
    "id": "Wm5nVhGyQXsp"
   },
   "source": [
    "* 행렬 차원"
   ]
  },
  {
   "cell_type": "code",
   "execution_count": 42,
   "metadata": {
    "colab": {
     "base_uri": "https://localhost:8080/"
    },
    "executionInfo": {
     "elapsed": 4,
     "status": "ok",
     "timestamp": 1746145514975,
     "user": {
      "displayName": "이정구",
      "userId": "01734653046128971875"
     },
     "user_tz": -540
    },
    "id": "vXteemsCNsIM",
    "outputId": "b47ae9e0-6a44-4f6c-d3cd-7414951fcf06"
   },
   "outputs": [
    {
     "data": {
      "text/plain": [
       "1"
      ]
     },
     "execution_count": 42,
     "metadata": {},
     "output_type": "execute_result"
    }
   ],
   "source": [
    "AR.ndim"
   ]
  },
  {
   "cell_type": "markdown",
   "metadata": {
    "id": "GMIk6lsMQQqx"
   },
   "source": [
    "* 행렬 원소 개수"
   ]
  },
  {
   "cell_type": "code",
   "execution_count": 43,
   "metadata": {
    "colab": {
     "base_uri": "https://localhost:8080/"
    },
    "executionInfo": {
     "elapsed": 19,
     "status": "ok",
     "timestamp": 1746145514995,
     "user": {
      "displayName": "이정구",
      "userId": "01734653046128971875"
     },
     "user_tz": -540
    },
    "id": "gxqoah7RN9Nm",
    "outputId": "6f7e5b89-7fa7-406a-fea8-4382a985bdac"
   },
   "outputs": [
    {
     "data": {
      "text/plain": [
       "12"
      ]
     },
     "execution_count": 43,
     "metadata": {},
     "output_type": "execute_result"
    }
   ],
   "source": [
    "AR.size"
   ]
  },
  {
   "cell_type": "markdown",
   "metadata": {
    "id": "yQJvcmj0XFXG"
   },
   "source": [
    ">## 2) <font color='blue'>.reshape(3, 4) : 차원 변경"
   ]
  },
  {
   "cell_type": "markdown",
   "metadata": {
    "id": "MZTfx3p0bRB3"
   },
   "source": [
    "* <font color = 'blue'>.reshape(</font>행, 열<font color = 'blue'>)</font> -> 1차원을 2차원으로 변경 (조건 : 배수)"
   ]
  },
  {
   "cell_type": "code",
   "execution_count": 44,
   "metadata": {
    "id": "tjwUAvG8XJo2"
   },
   "outputs": [],
   "source": [
    "AR2 = AR.reshape(3, 4)"
   ]
  },
  {
   "cell_type": "code",
   "execution_count": 45,
   "metadata": {
    "colab": {
     "base_uri": "https://localhost:8080/"
    },
    "executionInfo": {
     "elapsed": 27,
     "status": "ok",
     "timestamp": 1746145515026,
     "user": {
      "displayName": "이정구",
      "userId": "01734653046128971875"
     },
     "user_tz": -540
    },
    "id": "gVHNh32k_UcU",
    "outputId": "93375e49-d991-4ae0-9ea0-0da525ccafb9"
   },
   "outputs": [
    {
     "name": "stdout",
     "output_type": "stream",
     "text": [
      "[[ 1  2  3  4]\n",
      " [ 5  6  7  8]\n",
      " [ 9 10 11 12]]\n"
     ]
    }
   ],
   "source": [
    "print(AR2)"
   ]
  },
  {
   "cell_type": "markdown",
   "metadata": {
    "id": "g_IX7Nr3Qx-h"
   },
   "source": [
    "* 행렬 크기"
   ]
  },
  {
   "cell_type": "code",
   "execution_count": 46,
   "metadata": {
    "colab": {
     "base_uri": "https://localhost:8080/"
    },
    "executionInfo": {
     "elapsed": 6,
     "status": "ok",
     "timestamp": 1746145515033,
     "user": {
      "displayName": "이정구",
      "userId": "01734653046128971875"
     },
     "user_tz": -540
    },
    "id": "vpaIvPS1XPFB",
    "outputId": "d638e7a9-d544-4211-fe05-03fee50240b5"
   },
   "outputs": [
    {
     "data": {
      "text/plain": [
       "(3, 4)"
      ]
     },
     "execution_count": 46,
     "metadata": {},
     "output_type": "execute_result"
    }
   ],
   "source": [
    "AR2.shape"
   ]
  },
  {
   "cell_type": "markdown",
   "metadata": {
    "id": "pz3_dX6bQ51g"
   },
   "source": [
    "* 행렬 차원"
   ]
  },
  {
   "cell_type": "code",
   "execution_count": 47,
   "metadata": {
    "colab": {
     "base_uri": "https://localhost:8080/"
    },
    "executionInfo": {
     "elapsed": 4,
     "status": "ok",
     "timestamp": 1746145515038,
     "user": {
      "displayName": "이정구",
      "userId": "01734653046128971875"
     },
     "user_tz": -540
    },
    "id": "vfRcqhIyNw5F",
    "outputId": "e3dc798c-8fee-41e8-fcfa-bd9f697c0556"
   },
   "outputs": [
    {
     "data": {
      "text/plain": [
       "2"
      ]
     },
     "execution_count": 47,
     "metadata": {},
     "output_type": "execute_result"
    }
   ],
   "source": [
    "AR2.ndim"
   ]
  },
  {
   "cell_type": "markdown",
   "metadata": {
    "id": "1YbJwSl3Q2LA"
   },
   "source": [
    "* 행렬 원소 개수"
   ]
  },
  {
   "cell_type": "code",
   "execution_count": 48,
   "metadata": {
    "colab": {
     "base_uri": "https://localhost:8080/"
    },
    "executionInfo": {
     "elapsed": 19,
     "status": "ok",
     "timestamp": 1746145515057,
     "user": {
      "displayName": "이정구",
      "userId": "01734653046128971875"
     },
     "user_tz": -540
    },
    "id": "Y9bduJmNOC7e",
    "outputId": "efcc7f08-3fe4-4885-d10e-80aaaf762d89"
   },
   "outputs": [
    {
     "data": {
      "text/plain": [
       "12"
      ]
     },
     "execution_count": 48,
     "metadata": {},
     "output_type": "execute_result"
    }
   ],
   "source": [
    "AR2.size"
   ]
  },
  {
   "cell_type": "markdown",
   "metadata": {
    "id": "d3_V9A2qXn8U"
   },
   "source": [
    ">## 3) <font color='blue'>.reshape(3, 2, 2)"
   ]
  },
  {
   "cell_type": "markdown",
   "metadata": {
    "id": "XUG2a-dRbVHH"
   },
   "source": [
    "* .reshape(<font color = 'red'>축</font>, 행, 열) -> 3차원으로 변경"
   ]
  },
  {
   "cell_type": "code",
   "execution_count": 49,
   "metadata": {
    "id": "sXqMuXmGXvY7"
   },
   "outputs": [],
   "source": [
    "AR3 = AR.reshape(3, 2, 2)"
   ]
  },
  {
   "cell_type": "code",
   "execution_count": 50,
   "metadata": {
    "colab": {
     "base_uri": "https://localhost:8080/"
    },
    "executionInfo": {
     "elapsed": 5,
     "status": "ok",
     "timestamp": 1746145515087,
     "user": {
      "displayName": "이정구",
      "userId": "01734653046128971875"
     },
     "user_tz": -540
    },
    "id": "8afQ0z3M_bOc",
    "outputId": "b035417b-1c37-4b06-be32-43ad9715c52b"
   },
   "outputs": [
    {
     "name": "stdout",
     "output_type": "stream",
     "text": [
      "[[[ 1  2]\n",
      "  [ 3  4]]\n",
      "\n",
      " [[ 5  6]\n",
      "  [ 7  8]]\n",
      "\n",
      " [[ 9 10]\n",
      "  [11 12]]]\n"
     ]
    }
   ],
   "source": [
    "print(AR3)"
   ]
  },
  {
   "cell_type": "markdown",
   "metadata": {
    "id": "wPDxl2UnQzJB"
   },
   "source": [
    "* 행렬의 크기"
   ]
  },
  {
   "cell_type": "code",
   "execution_count": 51,
   "metadata": {
    "colab": {
     "base_uri": "https://localhost:8080/"
    },
    "executionInfo": {
     "elapsed": 5,
     "status": "ok",
     "timestamp": 1746145515093,
     "user": {
      "displayName": "이정구",
      "userId": "01734653046128971875"
     },
     "user_tz": -540
    },
    "id": "uwz_imIUX6H8",
    "outputId": "e10133cb-1511-4045-88e8-697f8168c5cb"
   },
   "outputs": [
    {
     "data": {
      "text/plain": [
       "(3, 2, 2)"
      ]
     },
     "execution_count": 51,
     "metadata": {},
     "output_type": "execute_result"
    }
   ],
   "source": [
    "AR3.shape"
   ]
  },
  {
   "cell_type": "markdown",
   "metadata": {
    "id": "6yY_jA8cQ69Y"
   },
   "source": [
    "* 행렬의 차원"
   ]
  },
  {
   "cell_type": "code",
   "execution_count": 52,
   "metadata": {
    "colab": {
     "base_uri": "https://localhost:8080/"
    },
    "executionInfo": {
     "elapsed": 3,
     "status": "ok",
     "timestamp": 1746145515096,
     "user": {
      "displayName": "이정구",
      "userId": "01734653046128971875"
     },
     "user_tz": -540
    },
    "id": "fRwUaH6INzfN",
    "outputId": "4293c6c3-7051-4a85-e464-01a164f8997f"
   },
   "outputs": [
    {
     "data": {
      "text/plain": [
       "3"
      ]
     },
     "execution_count": 52,
     "metadata": {},
     "output_type": "execute_result"
    }
   ],
   "source": [
    "AR3.ndim"
   ]
  },
  {
   "cell_type": "markdown",
   "metadata": {
    "id": "tkwVtccWQ3dg"
   },
   "source": [
    "* 행렬의 원소 개수"
   ]
  },
  {
   "cell_type": "code",
   "execution_count": 53,
   "metadata": {
    "colab": {
     "base_uri": "https://localhost:8080/"
    },
    "executionInfo": {
     "elapsed": 3,
     "status": "ok",
     "timestamp": 1746145515100,
     "user": {
      "displayName": "이정구",
      "userId": "01734653046128971875"
     },
     "user_tz": -540
    },
    "id": "hp6xCLLdOFEN",
    "outputId": "b2c38658-cfae-46dd-e0d6-d78d970b972f"
   },
   "outputs": [
    {
     "data": {
      "text/plain": [
       "12"
      ]
     },
     "execution_count": 53,
     "metadata": {},
     "output_type": "execute_result"
    }
   ],
   "source": [
    "AR3.size"
   ]
  },
  {
   "cell_type": "markdown",
   "metadata": {
    "id": "Mbsh701LMZJX"
   },
   "source": [
    ">## 4) .reshape(<font color = 'red'>-1</font>, 1)"
   ]
  },
  {
   "cell_type": "markdown",
   "metadata": {
    "id": "hmAtvP-LbZig"
   },
   "source": [
    "* .reshape(<font color = 'red'>-1</font>, 1) : (12, 1)와 같다 / -1을 자동으로 12로"
   ]
  },
  {
   "cell_type": "code",
   "execution_count": 55,
   "metadata": {},
   "outputs": [
    {
     "data": {
      "text/plain": [
       "array([ 1,  2,  3,  4,  5,  6,  7,  8,  9, 10, 11, 12])"
      ]
     },
     "execution_count": 55,
     "metadata": {},
     "output_type": "execute_result"
    }
   ],
   "source": [
    "AR"
   ]
  },
  {
   "cell_type": "code",
   "execution_count": 56,
   "metadata": {
    "colab": {
     "base_uri": "https://localhost:8080/"
    },
    "executionInfo": {
     "elapsed": 6,
     "status": "ok",
     "timestamp": 1746145515107,
     "user": {
      "displayName": "이정구",
      "userId": "01734653046128971875"
     },
     "user_tz": -540
    },
    "id": "0bd6exn_MiND",
    "outputId": "07f27126-ab39-4861-c41a-db77b9c7cce9"
   },
   "outputs": [
    {
     "data": {
      "text/plain": [
       "array([[ 1],\n",
       "       [ 2],\n",
       "       [ 3],\n",
       "       [ 4],\n",
       "       [ 5],\n",
       "       [ 6],\n",
       "       [ 7],\n",
       "       [ 8],\n",
       "       [ 9],\n",
       "       [10],\n",
       "       [11],\n",
       "       [12]])"
      ]
     },
     "execution_count": 56,
     "metadata": {},
     "output_type": "execute_result"
    }
   ],
   "source": [
    "AR.reshape(-1, 1)"
   ]
  },
  {
   "cell_type": "markdown",
   "metadata": {
    "id": "em59RqA7M8BV"
   },
   "source": [
    "   * .reshape(1, <font color = 'blue'>12</font>)"
   ]
  },
  {
   "cell_type": "code",
   "execution_count": 57,
   "metadata": {
    "colab": {
     "base_uri": "https://localhost:8080/"
    },
    "executionInfo": {
     "elapsed": 10,
     "status": "ok",
     "timestamp": 1746145515119,
     "user": {
      "displayName": "이정구",
      "userId": "01734653046128971875"
     },
     "user_tz": -540
    },
    "id": "eV52BYlrMzH-",
    "outputId": "b1cb4808-e70a-48b5-d398-ad3a33efcf32"
   },
   "outputs": [
    {
     "data": {
      "text/plain": [
       "array([[ 1,  2,  3,  4,  5,  6,  7,  8,  9, 10, 11, 12]])"
      ]
     },
     "execution_count": 57,
     "metadata": {},
     "output_type": "execute_result"
    }
   ],
   "source": [
    "AR2.reshape(1, -1)"
   ]
  },
  {
   "cell_type": "code",
   "execution_count": 58,
   "metadata": {
    "colab": {
     "base_uri": "https://localhost:8080/"
    },
    "executionInfo": {
     "elapsed": 32,
     "status": "ok",
     "timestamp": 1746145515152,
     "user": {
      "displayName": "이정구",
      "userId": "01734653046128971875"
     },
     "user_tz": -540
    },
    "id": "dMyWrSaJOjCO",
    "outputId": "c3a68fdf-3896-4f6a-aeb1-3b3a864a9bfa"
   },
   "outputs": [
    {
     "data": {
      "text/plain": [
       "array([ 1,  2,  3,  4,  5,  6,  7,  8,  9, 10, 11, 12])"
      ]
     },
     "execution_count": 58,
     "metadata": {},
     "output_type": "execute_result"
    }
   ],
   "source": [
    "AR2.reshape(12)"
   ]
  },
  {
   "cell_type": "code",
   "execution_count": 59,
   "metadata": {
    "colab": {
     "base_uri": "https://localhost:8080/"
    },
    "executionInfo": {
     "elapsed": 12,
     "status": "ok",
     "timestamp": 1746145515166,
     "user": {
      "displayName": "이정구",
      "userId": "01734653046128971875"
     },
     "user_tz": -540
    },
    "id": "EXmGaK4JO4lb",
    "outputId": "0887c771-a4d3-4f37-f34c-ec1ab2d37749"
   },
   "outputs": [
    {
     "data": {
      "text/plain": [
       "array([ 1,  2,  3,  4,  5,  6,  7,  8,  9, 10, 11, 12])"
      ]
     },
     "execution_count": 59,
     "metadata": {},
     "output_type": "execute_result"
    }
   ],
   "source": [
    "AR3.reshape(-1)"
   ]
  },
  {
   "cell_type": "markdown",
   "metadata": {
    "id": "Xaa0g2Lnc_ON"
   },
   "source": [
    "* <font color = 'blue'>.flatten( ) : 1차원으로 변경"
   ]
  },
  {
   "cell_type": "code",
   "execution_count": 60,
   "metadata": {
    "colab": {
     "base_uri": "https://localhost:8080/"
    },
    "executionInfo": {
     "elapsed": 22,
     "status": "ok",
     "timestamp": 1746145515190,
     "user": {
      "displayName": "이정구",
      "userId": "01734653046128971875"
     },
     "user_tz": -540
    },
    "id": "zVVQd1lNNOi2",
    "outputId": "4e912ea1-75c8-4977-d241-52ef1402784f"
   },
   "outputs": [
    {
     "data": {
      "text/plain": [
       "array([ 1,  2,  3,  4,  5,  6,  7,  8,  9, 10, 11, 12])"
      ]
     },
     "execution_count": 60,
     "metadata": {},
     "output_type": "execute_result"
    }
   ],
   "source": [
    "AR3.flatten()"
   ]
  },
  {
   "cell_type": "markdown",
   "metadata": {
    "id": "7MAjjkOAYaOw"
   },
   "source": [
    "# IV. 범위 지정(arange) 함수"
   ]
  },
  {
   "cell_type": "markdown",
   "metadata": {
    "id": "XEN-HWZzaoLl"
   },
   "source": [
    ">## 1) 연속된 10개 값 생성 (기본 : 0부터 시작)\n",
    "* -> 파이썬에서 배열"
   ]
  },
  {
   "cell_type": "code",
   "execution_count": 61,
   "metadata": {
    "colab": {
     "base_uri": "https://localhost:8080/"
    },
    "executionInfo": {
     "elapsed": 5,
     "status": "ok",
     "timestamp": 1746145515197,
     "user": {
      "displayName": "이정구",
      "userId": "01734653046128971875"
     },
     "user_tz": -540
    },
    "id": "lbircouOYvk0",
    "outputId": "9e7aa35e-53bf-48c7-9d8e-c37bb08d39b0"
   },
   "outputs": [
    {
     "data": {
      "text/plain": [
       "array([0, 1, 2, 3, 4, 5, 6, 7, 8, 9])"
      ]
     },
     "execution_count": 61,
     "metadata": {},
     "output_type": "execute_result"
    }
   ],
   "source": [
    "np.arange(10)"
   ]
  },
  {
   "cell_type": "markdown",
   "metadata": {
    "id": "8Np9o5cpZX77"
   },
   "source": [
    ">## 2) 1부터 9까지 <font color = 'blue'>1간격</font>으로 생성"
   ]
  },
  {
   "cell_type": "code",
   "execution_count": 62,
   "metadata": {
    "colab": {
     "base_uri": "https://localhost:8080/"
    },
    "executionInfo": {
     "elapsed": 3,
     "status": "ok",
     "timestamp": 1746145515201,
     "user": {
      "displayName": "이정구",
      "userId": "01734653046128971875"
     },
     "user_tz": -540
    },
    "id": "xdMSR66MY2E1",
    "outputId": "0f5a82af-82a4-4ae1-e311-27225bd2d795"
   },
   "outputs": [
    {
     "data": {
      "text/plain": [
       "array([1, 2, 3, 4, 5, 6, 7, 8, 9])"
      ]
     },
     "execution_count": 62,
     "metadata": {},
     "output_type": "execute_result"
    }
   ],
   "source": [
    "np.arange(1, 10)"
   ]
  },
  {
   "cell_type": "markdown",
   "metadata": {
    "id": "C3hurG8CZhej"
   },
   "source": [
    ">## 3) 1부터 9까지 <font color = 'red'>2간격</font>으로 생성"
   ]
  },
  {
   "cell_type": "code",
   "execution_count": 63,
   "metadata": {
    "colab": {
     "base_uri": "https://localhost:8080/"
    },
    "executionInfo": {
     "elapsed": 4,
     "status": "ok",
     "timestamp": 1746145515206,
     "user": {
      "displayName": "이정구",
      "userId": "01734653046128971875"
     },
     "user_tz": -540
    },
    "id": "gClyEjCYY59D",
    "outputId": "c145113f-e4e4-46aa-dec6-fcdcef49832a"
   },
   "outputs": [
    {
     "data": {
      "text/plain": [
       "array([1, 3, 5, 7, 9])"
      ]
     },
     "execution_count": 63,
     "metadata": {},
     "output_type": "execute_result"
    }
   ],
   "source": [
    "np.arange(1, 10, 2)"
   ]
  },
  {
   "cell_type": "markdown",
   "metadata": {
    "id": "mm3-rulyZnx5"
   },
   "source": [
    ">## 4) Array 생성 후 <font color = 'blue'>.reshape( )</font> 적용"
   ]
  },
  {
   "cell_type": "code",
   "execution_count": 64,
   "metadata": {
    "colab": {
     "base_uri": "https://localhost:8080/"
    },
    "executionInfo": {
     "elapsed": 5,
     "status": "ok",
     "timestamp": 1746145515212,
     "user": {
      "displayName": "이정구",
      "userId": "01734653046128971875"
     },
     "user_tz": -540
    },
    "id": "kUgr36ozZAua",
    "outputId": "25b8f789-de97-4a62-f1de-8301f1132be1"
   },
   "outputs": [
    {
     "data": {
      "text/plain": [
       "array([[1, 2, 3],\n",
       "       [4, 5, 6],\n",
       "       [7, 8, 9]])"
      ]
     },
     "execution_count": 64,
     "metadata": {},
     "output_type": "execute_result"
    }
   ],
   "source": [
    "np.arange(1, 10).reshape(3, 3)"
   ]
  },
  {
   "cell_type": "markdown",
   "metadata": {
    "id": "bDTpu-qSZySq"
   },
   "source": [
    "# V. 특별한 형태의 Array 생성"
   ]
  },
  {
   "cell_type": "markdown",
   "metadata": {
    "id": "mgVNMeaDaveb"
   },
   "source": [
    ">## 1) 0과 1로만 구성된 Array"
   ]
  },
  {
   "cell_type": "markdown",
   "metadata": {
    "id": "EIy_XWcHboEg"
   },
   "source": [
    "* <font color = 'blue'>0으로만 구성"
   ]
  },
  {
   "cell_type": "code",
   "execution_count": 65,
   "metadata": {
    "colab": {
     "base_uri": "https://localhost:8080/"
    },
    "executionInfo": {
     "elapsed": 4,
     "status": "ok",
     "timestamp": 1746145515216,
     "user": {
      "displayName": "이정구",
      "userId": "01734653046128971875"
     },
     "user_tz": -540
    },
    "id": "sK154nKcZ1_P",
    "outputId": "edb32819-9f1d-4e9a-db76-4e18a8ee3d4f"
   },
   "outputs": [
    {
     "data": {
      "text/plain": [
       "array([0., 0., 0., 0., 0., 0., 0., 0., 0.])"
      ]
     },
     "execution_count": 65,
     "metadata": {},
     "output_type": "execute_result"
    }
   ],
   "source": [
    "np.zeros(9)"
   ]
  },
  {
   "cell_type": "code",
   "execution_count": 66,
   "metadata": {
    "colab": {
     "base_uri": "https://localhost:8080/"
    },
    "executionInfo": {
     "elapsed": 5,
     "status": "ok",
     "timestamp": 1746145515238,
     "user": {
      "displayName": "이정구",
      "userId": "01734653046128971875"
     },
     "user_tz": -540
    },
    "id": "7HBW2ttiaCf5",
    "outputId": "355a1593-51ac-43d3-dc44-092e8a7f8014"
   },
   "outputs": [
    {
     "data": {
      "text/plain": [
       "array([[0., 0., 0., 0.],\n",
       "       [0., 0., 0., 0.],\n",
       "       [0., 0., 0., 0.]])"
      ]
     },
     "execution_count": 66,
     "metadata": {},
     "output_type": "execute_result"
    }
   ],
   "source": [
    "np.zeros([3, 4])"
   ]
  },
  {
   "cell_type": "markdown",
   "metadata": {
    "id": "L5Kaz0hBdeLO"
   },
   "source": [
    "* <font color = 'blue'>1로만 구성"
   ]
  },
  {
   "cell_type": "code",
   "execution_count": 67,
   "metadata": {
    "colab": {
     "base_uri": "https://localhost:8080/"
    },
    "executionInfo": {
     "elapsed": 10,
     "status": "ok",
     "timestamp": 1746145515249,
     "user": {
      "displayName": "이정구",
      "userId": "01734653046128971875"
     },
     "user_tz": -540
    },
    "id": "A4Jn9Ge9Z-DD",
    "outputId": "7ab838ed-c5dd-438e-8ac0-12dcee6055cb"
   },
   "outputs": [
    {
     "data": {
      "text/plain": [
       "array([1., 1., 1., 1., 1., 1., 1., 1., 1.])"
      ]
     },
     "execution_count": 67,
     "metadata": {},
     "output_type": "execute_result"
    }
   ],
   "source": [
    "np.ones(9)"
   ]
  },
  {
   "cell_type": "code",
   "execution_count": 68,
   "metadata": {
    "colab": {
     "base_uri": "https://localhost:8080/"
    },
    "executionInfo": {
     "elapsed": 4,
     "status": "ok",
     "timestamp": 1746145515254,
     "user": {
      "displayName": "이정구",
      "userId": "01734653046128971875"
     },
     "user_tz": -540
    },
    "id": "f_voXRJMaP2f",
    "outputId": "d97c17fb-edb9-4c43-c28a-fd4449f38a2b"
   },
   "outputs": [
    {
     "data": {
      "text/plain": [
       "array([[1., 1., 1.],\n",
       "       [1., 1., 1.],\n",
       "       [1., 1., 1.],\n",
       "       [1., 1., 1.]])"
      ]
     },
     "execution_count": 68,
     "metadata": {},
     "output_type": "execute_result"
    }
   ],
   "source": [
    "np.ones([4, 3])"
   ]
  },
  {
   "cell_type": "markdown",
   "metadata": {
    "id": "_A-bP5p5Rf4o"
   },
   "source": [
    "* 산술연산을 적용하여 <font color = 'blue'>'9'로만 구성</font>된 행렬 생성"
   ]
  },
  {
   "cell_type": "code",
   "execution_count": 69,
   "metadata": {
    "colab": {
     "base_uri": "https://localhost:8080/"
    },
    "executionInfo": {
     "elapsed": 12,
     "status": "ok",
     "timestamp": 1746145515268,
     "user": {
      "displayName": "이정구",
      "userId": "01734653046128971875"
     },
     "user_tz": -540
    },
    "id": "V-r61DDBRPpu",
    "outputId": "7248776a-36e4-4e01-cadc-ee78de3b0d15"
   },
   "outputs": [
    {
     "data": {
      "text/plain": [
       "array([[9., 9., 9., 9.],\n",
       "       [9., 9., 9., 9.],\n",
       "       [9., 9., 9., 9.]])"
      ]
     },
     "execution_count": 69,
     "metadata": {},
     "output_type": "execute_result"
    }
   ],
   "source": [
    "np.zeros([3, 4]) + 9"
   ]
  },
  {
   "cell_type": "markdown",
   "metadata": {
    "id": "yD3SGRyPWEn_"
   },
   "source": [
    ">## 2) 3 x 3 <font color = 'red'>단위행렬"
   ]
  },
  {
   "cell_type": "code",
   "execution_count": 70,
   "metadata": {
    "colab": {
     "base_uri": "https://localhost:8080/"
    },
    "executionInfo": {
     "elapsed": 26,
     "status": "ok",
     "timestamp": 1746145515295,
     "user": {
      "displayName": "이정구",
      "userId": "01734653046128971875"
     },
     "user_tz": -540
    },
    "id": "z7IpTCAMaSv6",
    "outputId": "283b779a-94fb-49c7-8d43-54e256b0102f"
   },
   "outputs": [
    {
     "data": {
      "text/plain": [
       "array([[1., 0., 0.],\n",
       "       [0., 1., 0.],\n",
       "       [0., 0., 1.]])"
      ]
     },
     "execution_count": 70,
     "metadata": {},
     "output_type": "execute_result"
    }
   ],
   "source": [
    "np.eye(3)"
   ]
  },
  {
   "cell_type": "markdown",
   "metadata": {
    "id": "Ihe33HrnWIj1"
   },
   "source": [
    ">## 3) 난수 Array 생성"
   ]
  },
  {
   "cell_type": "markdown",
   "metadata": {
    "id": "pcw-QCZcSKL4"
   },
   "source": [
    "* <font color = 'blue'>실수</font> 난수 생성\n",
    " - (축, 행, 열)"
   ]
  },
  {
   "cell_type": "code",
   "execution_count": 71,
   "metadata": {
    "colab": {
     "base_uri": "https://localhost:8080/"
    },
    "executionInfo": {
     "elapsed": 27,
     "status": "ok",
     "timestamp": 1746145515323,
     "user": {
      "displayName": "이정구",
      "userId": "01734653046128971875"
     },
     "user_tz": -540
    },
    "id": "fy6LFlwuaYUy",
    "outputId": "8a2736d0-f65e-448b-a8b3-6ecdca77ece6"
   },
   "outputs": [
    {
     "data": {
      "text/plain": [
       "array([[[0.05017451, 0.96444687],\n",
       "        [0.40856771, 0.99159239]],\n",
       "\n",
       "       [[0.55199848, 0.10526446],\n",
       "        [0.80806167, 0.87659217]],\n",
       "\n",
       "       [[0.88340728, 0.20776976],\n",
       "        [0.60598177, 0.17193004]]])"
      ]
     },
     "execution_count": 71,
     "metadata": {},
     "output_type": "execute_result"
    }
   ],
   "source": [
    "np.random.rand(3, 2, 2)"
   ]
  },
  {
   "cell_type": "markdown",
   "metadata": {
    "id": "FF3EIu-DSdhj"
   },
   "source": [
    "* 주어진 <font color = 'blue'>정수</font> 범위에서 난수 생성\n",
    " - 1 ~ 44 사이\n",
    " - 복원 추출\n",
    " - (행, 열)"
   ]
  },
  {
   "cell_type": "code",
   "execution_count": 73,
   "metadata": {
    "colab": {
     "base_uri": "https://localhost:8080/"
    },
    "executionInfo": {
     "elapsed": 3,
     "status": "ok",
     "timestamp": 1746145515327,
     "user": {
      "displayName": "이정구",
      "userId": "01734653046128971875"
     },
     "user_tz": -540
    },
    "id": "0_i1mneiaylt",
    "outputId": "36bf2d4b-1eb7-4104-ab1d-ae837dcb69b8"
   },
   "outputs": [
    {
     "data": {
      "text/plain": [
       "array([[41,  6,  5, 39,  7, 33],\n",
       "       [38,  9, 19,  3, 42, 40],\n",
       "       [30, 33, 24, 32, 43,  6],\n",
       "       [34, 34, 32,  2, 32, 36],\n",
       "       [27, 32, 29, 15, 12, 13]], dtype=int32)"
      ]
     },
     "execution_count": 73,
     "metadata": {},
     "output_type": "execute_result"
    }
   ],
   "source": [
    "np.random.randint(1, 45, size = (5, 6))"
   ]
  },
  {
   "cell_type": "markdown",
   "metadata": {
    "id": "vgJRkAeFS3-W"
   },
   "source": [
    "* np.random.<font color = 'red'>seed( )</font>\n",
    " - 의사난수(Pseudo Random Number) 생성 초기값 지정\n",
    " - <font color = 'red'>항상 같은 난수 생성</font>\n",
    " - 비복원 추출"
   ]
  },
  {
   "cell_type": "code",
   "execution_count": 81,
   "metadata": {
    "colab": {
     "base_uri": "https://localhost:8080/"
    },
    "executionInfo": {
     "elapsed": 17,
     "status": "ok",
     "timestamp": 1746145515345,
     "user": {
      "displayName": "이정구",
      "userId": "01734653046128971875"
     },
     "user_tz": -540
    },
    "id": "36Krx4cUY35s",
    "outputId": "554bfc8a-3146-486f-db8c-1fcbb1d242cf"
   },
   "outputs": [
    {
     "data": {
      "text/plain": [
       "array([[ 7, 32,  6, 41,  4, 34],\n",
       "       [30, 28, 16,  5, 38, 33],\n",
       "       [31, 13, 25, 23, 43, 12],\n",
       "       [45,  8, 29, 22, 18,  9],\n",
       "       [21, 20, 40,  2, 37, 39]])"
      ]
     },
     "execution_count": 81,
     "metadata": {},
     "output_type": "execute_result"
    }
   ],
   "source": [
    "np.random.seed(2045)  #seed값을 넣으면 동일하게 나온다\n",
    "\n",
    "np.random.choice(np.arange(1, 46), size = (5, 6), replace = False)"
   ]
  },
  {
   "cell_type": "markdown",
   "metadata": {
    "id": "nDVfvFRVVxWm"
   },
   "source": [
    "* <font color = 'blue'>shuffle( )</font>\n",
    " - 원소 섞기"
   ]
  },
  {
   "cell_type": "code",
   "execution_count": 82,
   "metadata": {
    "colab": {
     "base_uri": "https://localhost:8080/"
    },
    "executionInfo": {
     "elapsed": 5,
     "status": "ok",
     "timestamp": 1746145515355,
     "user": {
      "displayName": "이정구",
      "userId": "01734653046128971875"
     },
     "user_tz": -540
    },
    "id": "GgUHCJRCV0kp",
    "outputId": "cb5d6201-0faa-4b80-a084-47f56660839d"
   },
   "outputs": [
    {
     "data": {
      "text/plain": [
       "array([1, 2, 3, 4, 5, 6, 7, 8, 9])"
      ]
     },
     "execution_count": 82,
     "metadata": {},
     "output_type": "execute_result"
    }
   ],
   "source": [
    "TA = np.arange(1, 10)\n",
    "\n",
    "TA"
   ]
  },
  {
   "cell_type": "code",
   "execution_count": 84,
   "metadata": {
    "colab": {
     "base_uri": "https://localhost:8080/"
    },
    "executionInfo": {
     "elapsed": 23,
     "status": "ok",
     "timestamp": 1746145515394,
     "user": {
      "displayName": "이정구",
      "userId": "01734653046128971875"
     },
     "user_tz": -540
    },
    "id": "G0iZkyCqWHfG",
    "outputId": "d2ae6b9b-2e6d-4e67-f72c-d1b72c74f3e8"
   },
   "outputs": [
    {
     "data": {
      "text/plain": [
       "array([1, 6, 5, 2, 9, 4, 7, 8, 3])"
      ]
     },
     "execution_count": 84,
     "metadata": {},
     "output_type": "execute_result"
    }
   ],
   "source": [
    "np.random.shuffle(TA)  #1~9까지 섞기\n",
    "\n",
    "TA"
   ]
  },
  {
   "cell_type": "markdown",
   "metadata": {
    "id": "S4Ki-xAQbEbb"
   },
   "source": [
    "# VI. Array 연산"
   ]
  },
  {
   "cell_type": "code",
   "execution_count": 85,
   "metadata": {
    "id": "wwf-VGJPbHSc"
   },
   "outputs": [],
   "source": [
    "A1 = np.array([85, 93, 75, 97, 69])\n",
    "\n",
    "A2 = np.array([91, 90, 85, 97, 89])\n",
    "\n",
    "A3 = np.array([[85, 93, 75],\n",
    "               [90, 84, 97],\n",
    "               [99, 91, 80]])"
   ]
  },
  {
   "cell_type": "markdown",
   "metadata": {
    "id": "yIDM1AbYXIig"
   },
   "source": [
    ">## 1) 기본 연산"
   ]
  },
  {
   "cell_type": "markdown",
   "metadata": {
    "id": "u3d_lYqLb1th"
   },
   "source": [
    "* 각각의 <font color = 'blue'>행과 열의 값을 매칭</font>하여 연산 수행"
   ]
  },
  {
   "cell_type": "code",
   "execution_count": 86,
   "metadata": {
    "colab": {
     "base_uri": "https://localhost:8080/"
    },
    "executionInfo": {
     "elapsed": 7,
     "status": "ok",
     "timestamp": 1746145515415,
     "user": {
      "displayName": "이정구",
      "userId": "01734653046128971875"
     },
     "user_tz": -540
    },
    "id": "96u17uYkWjzj",
    "outputId": "a3c7d39b-2ce6-491b-f350-91cfd678e65a"
   },
   "outputs": [
    {
     "data": {
      "text/plain": [
       "array([176, 183, 160, 194, 158])"
      ]
     },
     "execution_count": 86,
     "metadata": {},
     "output_type": "execute_result"
    }
   ],
   "source": [
    "A1 + A2"
   ]
  },
  {
   "cell_type": "code",
   "execution_count": 87,
   "metadata": {
    "colab": {
     "base_uri": "https://localhost:8080/"
    },
    "executionInfo": {
     "elapsed": 3,
     "status": "ok",
     "timestamp": 1746145515418,
     "user": {
      "displayName": "이정구",
      "userId": "01734653046128971875"
     },
     "user_tz": -540
    },
    "id": "Dbx1aOi7Wlky",
    "outputId": "c8b409da-890e-47f9-82f9-79823d413a83"
   },
   "outputs": [
    {
     "data": {
      "text/plain": [
       "array([ 6, -3, 10,  0, 20])"
      ]
     },
     "execution_count": 87,
     "metadata": {},
     "output_type": "execute_result"
    }
   ],
   "source": [
    "A2 - A1"
   ]
  },
  {
   "cell_type": "code",
   "execution_count": 88,
   "metadata": {
    "colab": {
     "base_uri": "https://localhost:8080/"
    },
    "executionInfo": {
     "elapsed": 5,
     "status": "ok",
     "timestamp": 1746145515423,
     "user": {
      "displayName": "이정구",
      "userId": "01734653046128971875"
     },
     "user_tz": -540
    },
    "id": "HNeV943oWyX6",
    "outputId": "483832f4-0ae5-4ecb-aebd-c19289a32176"
   },
   "outputs": [
    {
     "data": {
      "text/plain": [
       "array([7735, 8370, 6375, 9409, 6141])"
      ]
     },
     "execution_count": 88,
     "metadata": {},
     "output_type": "execute_result"
    }
   ],
   "source": [
    "A1 * A2"
   ]
  },
  {
   "cell_type": "code",
   "execution_count": 89,
   "metadata": {
    "colab": {
     "base_uri": "https://localhost:8080/"
    },
    "executionInfo": {
     "elapsed": 15,
     "status": "ok",
     "timestamp": 1746145515438,
     "user": {
      "displayName": "이정구",
      "userId": "01734653046128971875"
     },
     "user_tz": -540
    },
    "id": "KwOTcVarW3Gq",
    "outputId": "a284f1a2-f6e9-4cb8-cf5e-47b71f190808"
   },
   "outputs": [
    {
     "data": {
      "text/plain": [
       "array([1.07058824, 0.96774194, 1.13333333, 1.        , 1.28985507])"
      ]
     },
     "execution_count": 89,
     "metadata": {},
     "output_type": "execute_result"
    }
   ],
   "source": [
    "A2 / A1"
   ]
  },
  {
   "cell_type": "code",
   "execution_count": 90,
   "metadata": {
    "colab": {
     "base_uri": "https://localhost:8080/"
    },
    "executionInfo": {
     "elapsed": 27,
     "status": "ok",
     "timestamp": 1746145515466,
     "user": {
      "displayName": "이정구",
      "userId": "01734653046128971875"
     },
     "user_tz": -540
    },
    "id": "QvJot7ggW5rU",
    "outputId": "11f5378d-32e3-40a9-dfed-4fe688cfec54"
   },
   "outputs": [
    {
     "data": {
      "text/plain": [
       "array([255, 279, 225, 291, 207])"
      ]
     },
     "execution_count": 90,
     "metadata": {},
     "output_type": "execute_result"
    }
   ],
   "source": [
    "A1 * 3"
   ]
  },
  {
   "cell_type": "code",
   "execution_count": 91,
   "metadata": {
    "colab": {
     "base_uri": "https://localhost:8080/"
    },
    "executionInfo": {
     "elapsed": 18,
     "status": "ok",
     "timestamp": 1746145515485,
     "user": {
      "displayName": "이정구",
      "userId": "01734653046128971875"
     },
     "user_tz": -540
    },
    "id": "IO1r_JtKXBHr",
    "outputId": "ccdfac81-d6a6-4b14-f570-3670d220c729"
   },
   "outputs": [
    {
     "data": {
      "text/plain": [
       "array([7225, 8649, 5625, 9409, 4761])"
      ]
     },
     "execution_count": 91,
     "metadata": {},
     "output_type": "execute_result"
    }
   ],
   "source": [
    "A1 ** 2"
   ]
  },
  {
   "cell_type": "markdown",
   "metadata": {
    "id": "-D-0UmDQXLA2"
   },
   "source": [
    ">## 2) 통계량 연산"
   ]
  },
  {
   "cell_type": "markdown",
   "metadata": {
    "id": "j-i9LMtRYEX6"
   },
   "source": [
    "* 총합"
   ]
  },
  {
   "cell_type": "code",
   "execution_count": 92,
   "metadata": {
    "colab": {
     "base_uri": "https://localhost:8080/"
    },
    "executionInfo": {
     "elapsed": 11,
     "status": "ok",
     "timestamp": 1746145515510,
     "user": {
      "displayName": "이정구",
      "userId": "01734653046128971875"
     },
     "user_tz": -540
    },
    "id": "Mk33GtPtXNN9",
    "outputId": "c40733ea-a468-43ec-d724-66e2c5bbeb3b"
   },
   "outputs": [
    {
     "data": {
      "text/plain": [
       "np.int64(419)"
      ]
     },
     "execution_count": 92,
     "metadata": {},
     "output_type": "execute_result"
    }
   ],
   "source": [
    "A1.sum()"
   ]
  },
  {
   "cell_type": "markdown",
   "metadata": {
    "id": "a5IXBbRRYGPb"
   },
   "source": [
    "* 평균"
   ]
  },
  {
   "cell_type": "code",
   "execution_count": 93,
   "metadata": {
    "colab": {
     "base_uri": "https://localhost:8080/"
    },
    "executionInfo": {
     "elapsed": 17,
     "status": "ok",
     "timestamp": 1746145515528,
     "user": {
      "displayName": "이정구",
      "userId": "01734653046128971875"
     },
     "user_tz": -540
    },
    "id": "nRpS9P1BXTbj",
    "outputId": "0dc963ea-2f14-48ff-947d-f79bfa127bd1"
   },
   "outputs": [
    {
     "data": {
      "text/plain": [
       "np.float64(90.4)"
      ]
     },
     "execution_count": 93,
     "metadata": {},
     "output_type": "execute_result"
    }
   ],
   "source": [
    "A2.mean()"
   ]
  },
  {
   "cell_type": "markdown",
   "metadata": {
    "id": "0FNtcsPyYKOO"
   },
   "source": [
    "* 분산\n",
    " - 'ddof = 0'"
   ]
  },
  {
   "cell_type": "code",
   "execution_count": 94,
   "metadata": {
    "colab": {
     "base_uri": "https://localhost:8080/"
    },
    "executionInfo": {
     "elapsed": 2,
     "status": "ok",
     "timestamp": 1746145515532,
     "user": {
      "displayName": "이정구",
      "userId": "01734653046128971875"
     },
     "user_tz": -540
    },
    "id": "ybbHiiR3XYgD",
    "outputId": "a298e806-25d1-429d-e461-9b82e6117c4d"
   },
   "outputs": [
    {
     "data": {
      "text/plain": [
       "np.float64(15.040000000000001)"
      ]
     },
     "execution_count": 94,
     "metadata": {},
     "output_type": "execute_result"
    }
   ],
   "source": [
    "A2.var()"
   ]
  },
  {
   "cell_type": "markdown",
   "metadata": {
    "id": "UiYDDlwHYLp8"
   },
   "source": [
    "* 표준 편차\n",
    " - 'ddof = 0'"
   ]
  },
  {
   "cell_type": "code",
   "execution_count": 95,
   "metadata": {
    "colab": {
     "base_uri": "https://localhost:8080/"
    },
    "executionInfo": {
     "elapsed": 15,
     "status": "ok",
     "timestamp": 1746145515548,
     "user": {
      "displayName": "이정구",
      "userId": "01734653046128971875"
     },
     "user_tz": -540
    },
    "id": "OKlFT7AZXifE",
    "outputId": "02d85988-90b0-4b25-c08d-5ecdb6cb2f20"
   },
   "outputs": [
    {
     "data": {
      "text/plain": [
       "np.float64(3.8781438859330635)"
      ]
     },
     "execution_count": 95,
     "metadata": {},
     "output_type": "execute_result"
    }
   ],
   "source": [
    "A2.std()"
   ]
  },
  {
   "cell_type": "markdown",
   "metadata": {
    "id": "jT95SeNPYORJ"
   },
   "source": [
    "* 최소값"
   ]
  },
  {
   "cell_type": "code",
   "execution_count": 96,
   "metadata": {
    "colab": {
     "base_uri": "https://localhost:8080/"
    },
    "executionInfo": {
     "elapsed": 3,
     "status": "ok",
     "timestamp": 1746145515552,
     "user": {
      "displayName": "이정구",
      "userId": "01734653046128971875"
     },
     "user_tz": -540
    },
    "id": "PfZHoN-SXkQN",
    "outputId": "b9e95dd6-d8e7-42e5-be9b-15d437772128"
   },
   "outputs": [
    {
     "data": {
      "text/plain": [
       "np.int64(85)"
      ]
     },
     "execution_count": 96,
     "metadata": {},
     "output_type": "execute_result"
    }
   ],
   "source": [
    "A2.min()"
   ]
  },
  {
   "cell_type": "markdown",
   "metadata": {
    "id": "Ki6y4fAkgtUV"
   },
   "source": [
    "> * A3 전체 최소값\n",
    "\n",
    "  "
   ]
  },
  {
   "cell_type": "code",
   "execution_count": 97,
   "metadata": {
    "colab": {
     "base_uri": "https://localhost:8080/"
    },
    "executionInfo": {
     "elapsed": 4,
     "status": "ok",
     "timestamp": 1746145515558,
     "user": {
      "displayName": "이정구",
      "userId": "01734653046128971875"
     },
     "user_tz": -540
    },
    "id": "uDhLKnfpga4K",
    "outputId": "13307887-44f3-4bb0-c241-55acbdfd8d63"
   },
   "outputs": [
    {
     "data": {
      "text/plain": [
       "np.int64(75)"
      ]
     },
     "execution_count": 97,
     "metadata": {},
     "output_type": "execute_result"
    }
   ],
   "source": [
    "A3.min()"
   ]
  },
  {
   "cell_type": "markdown",
   "metadata": {
    "id": "EETcl3z-g_nP"
   },
   "source": [
    "> * A3 각 열의 최소값"
   ]
  },
  {
   "cell_type": "code",
   "execution_count": 98,
   "metadata": {
    "colab": {
     "base_uri": "https://localhost:8080/"
    },
    "executionInfo": {
     "elapsed": 2,
     "status": "ok",
     "timestamp": 1746145515561,
     "user": {
      "displayName": "이정구",
      "userId": "01734653046128971875"
     },
     "user_tz": -540
    },
    "id": "NSZOIWyCggWj",
    "outputId": "57ba7e52-31bb-43cb-c23e-c5da59ea3445"
   },
   "outputs": [
    {
     "data": {
      "text/plain": [
       "array([85, 84, 75])"
      ]
     },
     "execution_count": 98,
     "metadata": {},
     "output_type": "execute_result"
    }
   ],
   "source": [
    "A3.min(axis = 0)"
   ]
  },
  {
   "cell_type": "markdown",
   "metadata": {
    "id": "kchNuaU2hJkY"
   },
   "source": [
    "> * A3 각 행의 최소값"
   ]
  },
  {
   "cell_type": "code",
   "execution_count": 101,
   "metadata": {},
   "outputs": [
    {
     "data": {
      "text/plain": [
       "array([[[ 0,  1,  2],\n",
       "        [ 3,  4,  5],\n",
       "        [ 6,  7,  8],\n",
       "        [ 9, 10, 11]],\n",
       "\n",
       "       [[12, 13, 14],\n",
       "        [15, 16, 17],\n",
       "        [18, 19, 20],\n",
       "        [21, 22, 23]],\n",
       "\n",
       "       [[24, 25, 26],\n",
       "        [27, 28, 29],\n",
       "        [30, 31, 32],\n",
       "        [33, 34, 35]]])"
      ]
     },
     "execution_count": 101,
     "metadata": {},
     "output_type": "execute_result"
    }
   ],
   "source": [
    "z = np.arange(36).reshape(3,4,3)\n",
    "z"
   ]
  },
  {
   "cell_type": "code",
   "execution_count": 104,
   "metadata": {},
   "outputs": [
    {
     "data": {
      "text/plain": [
       "array([[ 0,  3,  6,  9],\n",
       "       [12, 15, 18, 21],\n",
       "       [24, 27, 30, 33]])"
      ]
     },
     "execution_count": 104,
     "metadata": {},
     "output_type": "execute_result"
    }
   ],
   "source": [
    "z.min(axis = 2)"
   ]
  },
  {
   "cell_type": "code",
   "execution_count": 99,
   "metadata": {
    "colab": {
     "base_uri": "https://localhost:8080/"
    },
    "executionInfo": {
     "elapsed": 3,
     "status": "ok",
     "timestamp": 1746145515565,
     "user": {
      "displayName": "이정구",
      "userId": "01734653046128971875"
     },
     "user_tz": -540
    },
    "id": "L2IwxSktgmdT",
    "outputId": "7ea91874-8d7d-418d-c64c-dd5e6a3dfcc4"
   },
   "outputs": [
    {
     "data": {
      "text/plain": [
       "array([75, 84, 80])"
      ]
     },
     "execution_count": 99,
     "metadata": {},
     "output_type": "execute_result"
    }
   ],
   "source": [
    "A3.min(axis = 1)"
   ]
  },
  {
   "cell_type": "code",
   "execution_count": 100,
   "metadata": {
    "colab": {
     "base_uri": "https://localhost:8080/"
    },
    "executionInfo": {
     "elapsed": 19,
     "status": "ok",
     "timestamp": 1746145515584,
     "user": {
      "displayName": "이정구",
      "userId": "01734653046128971875"
     },
     "user_tz": -540
    },
    "id": "PiK-ujB0h-D5",
    "outputId": "4e8726b6-e5b1-4423-a005-365fb8628417"
   },
   "outputs": [
    {
     "data": {
      "text/plain": [
       "array([[75],\n",
       "       [84],\n",
       "       [80]])"
      ]
     },
     "execution_count": 100,
     "metadata": {},
     "output_type": "execute_result"
    }
   ],
   "source": [
    "A3.min(axis = 1, keepdims = True)"
   ]
  },
  {
   "cell_type": "markdown",
   "metadata": {
    "id": "lpl4z0Z-YP5a"
   },
   "source": [
    "* 최대값"
   ]
  },
  {
   "cell_type": "code",
   "execution_count": 105,
   "metadata": {
    "colab": {
     "base_uri": "https://localhost:8080/"
    },
    "executionInfo": {
     "elapsed": 3,
     "status": "ok",
     "timestamp": 1746145515588,
     "user": {
      "displayName": "이정구",
      "userId": "01734653046128971875"
     },
     "user_tz": -540
    },
    "id": "piuzDdTKXp01",
    "outputId": "e1ea918b-ae45-46ea-aa94-581c4e25a9f9"
   },
   "outputs": [
    {
     "data": {
      "text/plain": [
       "np.int64(97)"
      ]
     },
     "execution_count": 105,
     "metadata": {},
     "output_type": "execute_result"
    }
   ],
   "source": [
    "A2.max()"
   ]
  },
  {
   "cell_type": "markdown",
   "metadata": {
    "id": "l30JY6o2hkyq"
   },
   "source": [
    "> * A3 전체 최대값"
   ]
  },
  {
   "cell_type": "code",
   "execution_count": 106,
   "metadata": {
    "colab": {
     "base_uri": "https://localhost:8080/"
    },
    "executionInfo": {
     "elapsed": 4,
     "status": "ok",
     "timestamp": 1746145515593,
     "user": {
      "displayName": "이정구",
      "userId": "01734653046128971875"
     },
     "user_tz": -540
    },
    "id": "zd9ktJMEhPSG",
    "outputId": "7ed2953c-9b88-4e0d-9906-58764a0e6f42"
   },
   "outputs": [
    {
     "data": {
      "text/plain": [
       "np.int64(99)"
      ]
     },
     "execution_count": 106,
     "metadata": {},
     "output_type": "execute_result"
    }
   ],
   "source": [
    "A3.max()"
   ]
  },
  {
   "cell_type": "markdown",
   "metadata": {
    "id": "1doYVyV5hh87"
   },
   "source": [
    "> * A3 각 열의 최대값"
   ]
  },
  {
   "cell_type": "code",
   "execution_count": 107,
   "metadata": {
    "colab": {
     "base_uri": "https://localhost:8080/"
    },
    "executionInfo": {
     "elapsed": 36,
     "status": "ok",
     "timestamp": 1746145515629,
     "user": {
      "displayName": "이정구",
      "userId": "01734653046128971875"
     },
     "user_tz": -540
    },
    "id": "-6ly3LUxhS17",
    "outputId": "db742ae1-a9eb-49ec-9166-00d0bfa8fc6e"
   },
   "outputs": [
    {
     "data": {
      "text/plain": [
       "array([99, 93, 97])"
      ]
     },
     "execution_count": 107,
     "metadata": {},
     "output_type": "execute_result"
    }
   ],
   "source": [
    "A3.max(axis = 0)"
   ]
  },
  {
   "cell_type": "markdown",
   "metadata": {
    "id": "FkaBe8VHhep_"
   },
   "source": [
    "> * A3 각 행의 최대값"
   ]
  },
  {
   "cell_type": "code",
   "execution_count": 108,
   "metadata": {
    "colab": {
     "base_uri": "https://localhost:8080/"
    },
    "executionInfo": {
     "elapsed": 3,
     "status": "ok",
     "timestamp": 1746145515633,
     "user": {
      "displayName": "이정구",
      "userId": "01734653046128971875"
     },
     "user_tz": -540
    },
    "id": "WO82u4aJhVJT",
    "outputId": "f8023419-c19e-444a-8ab0-9aecfcce9258"
   },
   "outputs": [
    {
     "data": {
      "text/plain": [
       "array([93, 97, 99])"
      ]
     },
     "execution_count": 108,
     "metadata": {},
     "output_type": "execute_result"
    }
   ],
   "source": [
    "A3.max(axis = 1)"
   ]
  },
  {
   "cell_type": "code",
   "execution_count": 109,
   "metadata": {
    "colab": {
     "base_uri": "https://localhost:8080/"
    },
    "executionInfo": {
     "elapsed": 4,
     "status": "ok",
     "timestamp": 1746145515637,
     "user": {
      "displayName": "이정구",
      "userId": "01734653046128971875"
     },
     "user_tz": -540
    },
    "id": "1nhaq8fvh0Yo",
    "outputId": "7c739416-66de-4977-9e89-b0c6f73dfdee"
   },
   "outputs": [
    {
     "data": {
      "text/plain": [
       "array([[93],\n",
       "       [97],\n",
       "       [99]])"
      ]
     },
     "execution_count": 109,
     "metadata": {},
     "output_type": "execute_result"
    }
   ],
   "source": [
    "A3.max(axis = 1, keepdims = True)"
   ]
  },
  {
   "cell_type": "markdown",
   "metadata": {
    "id": "cj4t_-NvYRvC"
   },
   "source": [
    "* 누적(Cumulative)합"
   ]
  },
  {
   "cell_type": "code",
   "execution_count": null,
   "metadata": {
    "colab": {
     "base_uri": "https://localhost:8080/"
    },
    "executionInfo": {
     "elapsed": 4,
     "status": "ok",
     "timestamp": 1746145515642,
     "user": {
      "displayName": "이정구",
      "userId": "01734653046128971875"
     },
     "user_tz": -540
    },
    "id": "N5tVfvSjXrQk",
    "outputId": "8b73556b-909e-444f-a370-9afbae1b71c3"
   },
   "outputs": [
    {
     "data": {
      "text/plain": [
       "array([ 85, 178, 253, 350, 419])"
      ]
     },
     "execution_count": 78,
     "metadata": {},
     "output_type": "execute_result"
    }
   ],
   "source": [
    "A1.cumsum()"
   ]
  },
  {
   "cell_type": "markdown",
   "metadata": {
    "id": "OA_d8XRnYTZq"
   },
   "source": [
    "* 누적(Cumulative)곱"
   ]
  },
  {
   "cell_type": "code",
   "execution_count": null,
   "metadata": {
    "colab": {
     "base_uri": "https://localhost:8080/"
    },
    "executionInfo": {
     "elapsed": 3,
     "status": "ok",
     "timestamp": 1746145515645,
     "user": {
      "displayName": "이정구",
      "userId": "01734653046128971875"
     },
     "user_tz": -540
    },
    "id": "TgZlTRpUX5b9",
    "outputId": "d65060a1-0f68-4a7e-8983-08a37099124b"
   },
   "outputs": [
    {
     "data": {
      "text/plain": [
       "array([        85,       7905,     592875,   57508875, 3968112375])"
      ]
     },
     "execution_count": 79,
     "metadata": {},
     "output_type": "execute_result"
    }
   ],
   "source": [
    "A1.cumprod()"
   ]
  },
  {
   "cell_type": "markdown",
   "metadata": {
    "id": "P07CISGXYw1F"
   },
   "source": [
    "# VII. Matrix 연산"
   ]
  },
  {
   "cell_type": "markdown",
   "metadata": {
    "id": "Rt-X0kMDa3xR"
   },
   "source": [
    "* M1, M2 지정"
   ]
  },
  {
   "cell_type": "code",
   "execution_count": 110,
   "metadata": {
    "id": "UVe7tbOkY81i"
   },
   "outputs": [],
   "source": [
    "M1 = np.array([2, 4, 6, 8]).reshape(2, 2)"
   ]
  },
  {
   "cell_type": "code",
   "execution_count": 111,
   "metadata": {
    "colab": {
     "base_uri": "https://localhost:8080/"
    },
    "executionInfo": {
     "elapsed": 5,
     "status": "ok",
     "timestamp": 1746145515655,
     "user": {
      "displayName": "이정구",
      "userId": "01734653046128971875"
     },
     "user_tz": -540
    },
    "id": "iV1vk-hE_hzj",
    "outputId": "3ffa42d1-3fbf-4af7-ff71-db3c516359c7"
   },
   "outputs": [
    {
     "name": "stdout",
     "output_type": "stream",
     "text": [
      "[[2 4]\n",
      " [6 8]]\n"
     ]
    }
   ],
   "source": [
    "print(M1)"
   ]
  },
  {
   "cell_type": "code",
   "execution_count": 112,
   "metadata": {
    "id": "Ez5xBTCMZYwI"
   },
   "outputs": [],
   "source": [
    "M2 = np.array([3, 5, 7, 9]).reshape(2, 2)"
   ]
  },
  {
   "cell_type": "code",
   "execution_count": 113,
   "metadata": {
    "colab": {
     "base_uri": "https://localhost:8080/"
    },
    "executionInfo": {
     "elapsed": 4,
     "status": "ok",
     "timestamp": 1746145515680,
     "user": {
      "displayName": "이정구",
      "userId": "01734653046128971875"
     },
     "user_tz": -540
    },
    "id": "7cY2b2BK_j00",
    "outputId": "5417962c-cc37-47be-ce69-d48b6f61a816"
   },
   "outputs": [
    {
     "name": "stdout",
     "output_type": "stream",
     "text": [
      "[[3 5]\n",
      " [7 9]]\n"
     ]
    }
   ],
   "source": [
    "print(M2)"
   ]
  },
  {
   "cell_type": "markdown",
   "metadata": {
    "id": "0DFkLsbzaJPF"
   },
   "source": [
    ">## 1) Matrix 곱"
   ]
  },
  {
   "cell_type": "markdown",
   "metadata": {
    "id": "eKpdL7sna6tM"
   },
   "source": [
    "* <font color='red'>M1 @ M2"
   ]
  },
  {
   "cell_type": "code",
   "execution_count": null,
   "metadata": {
    "colab": {
     "base_uri": "https://localhost:8080/"
    },
    "executionInfo": {
     "elapsed": 21,
     "status": "ok",
     "timestamp": 1746145515701,
     "user": {
      "displayName": "이정구",
      "userId": "01734653046128971875"
     },
     "user_tz": -540
    },
    "id": "fmKuFxNxZkbZ",
    "outputId": "3ee8bee2-0bba-4c10-c94f-0ef2f845de73"
   },
   "outputs": [
    {
     "data": {
      "text/plain": [
       "array([[ 34,  46],\n",
       "       [ 74, 102]])"
      ]
     },
     "execution_count": 114,
     "metadata": {},
     "output_type": "execute_result"
    }
   ],
   "source": [
    "M1.dot(M2) #행렬 연산"
   ]
  },
  {
   "cell_type": "markdown",
   "metadata": {
    "id": "KPSkshEYac-l"
   },
   "source": [
    "* <font color='blue'>M2 @ M1"
   ]
  },
  {
   "cell_type": "code",
   "execution_count": 115,
   "metadata": {
    "colab": {
     "base_uri": "https://localhost:8080/"
    },
    "executionInfo": {
     "elapsed": 4,
     "status": "ok",
     "timestamp": 1746145515706,
     "user": {
      "displayName": "이정구",
      "userId": "01734653046128971875"
     },
     "user_tz": -540
    },
    "id": "_ANbRCSiZotw",
    "outputId": "b88b479b-f113-4ff0-c83d-dd5e2c6d8722"
   },
   "outputs": [
    {
     "data": {
      "text/plain": [
       "array([[ 36,  52],\n",
       "       [ 68, 100]])"
      ]
     },
     "execution_count": 115,
     "metadata": {},
     "output_type": "execute_result"
    }
   ],
   "source": [
    "np.dot(M2, M1)"
   ]
  },
  {
   "cell_type": "markdown",
   "metadata": {
    "id": "ZHSK287Eag55"
   },
   "source": [
    "* <font color='red'>Warning</font>: M1 * M2"
   ]
  },
  {
   "cell_type": "code",
   "execution_count": 116,
   "metadata": {
    "colab": {
     "base_uri": "https://localhost:8080/"
    },
    "executionInfo": {
     "elapsed": 3,
     "status": "ok",
     "timestamp": 1746145515709,
     "user": {
      "displayName": "이정구",
      "userId": "01734653046128971875"
     },
     "user_tz": -540
    },
    "id": "pXXRoyb9Zt6J",
    "outputId": "4f4d32f7-3da5-4b65-b8cd-43a7f293bc2d"
   },
   "outputs": [
    {
     "data": {
      "text/plain": [
       "array([[ 6, 20],\n",
       "       [42, 72]])"
      ]
     },
     "execution_count": 116,
     "metadata": {},
     "output_type": "execute_result"
    }
   ],
   "source": [
    "M1 * M2"
   ]
  },
  {
   "cell_type": "code",
   "execution_count": 117,
   "metadata": {
    "colab": {
     "base_uri": "https://localhost:8080/"
    },
    "executionInfo": {
     "elapsed": 3,
     "status": "ok",
     "timestamp": 1746145515713,
     "user": {
      "displayName": "이정구",
      "userId": "01734653046128971875"
     },
     "user_tz": -540
    },
    "id": "JTGfHqea6d4m",
    "outputId": "8b5d048a-66b4-4766-ca3d-92a95e47ac62"
   },
   "outputs": [
    {
     "data": {
      "text/plain": [
       "array([[ 6, 20],\n",
       "       [42, 72]])"
      ]
     },
     "execution_count": 117,
     "metadata": {},
     "output_type": "execute_result"
    }
   ],
   "source": [
    "M2 * M1"
   ]
  },
  {
   "cell_type": "markdown",
   "metadata": {
    "id": "V45_NZfEalpb"
   },
   "source": [
    ">## 2) 전치 행렬"
   ]
  },
  {
   "cell_type": "markdown",
   "metadata": {
    "id": "odFWPnp7a0oo"
   },
   "source": [
    "* M1의 전치 행렬"
   ]
  },
  {
   "cell_type": "code",
   "execution_count": 118,
   "metadata": {
    "colab": {
     "base_uri": "https://localhost:8080/"
    },
    "executionInfo": {
     "elapsed": 5,
     "status": "ok",
     "timestamp": 1746145515730,
     "user": {
      "displayName": "이정구",
      "userId": "01734653046128971875"
     },
     "user_tz": -540
    },
    "id": "Cv2RbHx8ZvJQ",
    "outputId": "ad75dc00-9ee6-46cb-fdd0-4e322250998f"
   },
   "outputs": [
    {
     "data": {
      "text/plain": [
       "array([[2, 6],\n",
       "       [4, 8]])"
      ]
     },
     "execution_count": 118,
     "metadata": {},
     "output_type": "execute_result"
    }
   ],
   "source": [
    "np.transpose(M1)"
   ]
  },
  {
   "cell_type": "markdown",
   "metadata": {
    "id": "-3O0H7Z_a1-J"
   },
   "source": [
    "* M2의 전치 행렬"
   ]
  },
  {
   "cell_type": "code",
   "execution_count": 119,
   "metadata": {
    "colab": {
     "base_uri": "https://localhost:8080/"
    },
    "executionInfo": {
     "elapsed": 3,
     "status": "ok",
     "timestamp": 1746145515733,
     "user": {
      "displayName": "이정구",
      "userId": "01734653046128971875"
     },
     "user_tz": -540
    },
    "id": "k9K1fNcPZ6C5",
    "outputId": "799d2197-6452-4d3c-b726-f9d9595098c7"
   },
   "outputs": [
    {
     "data": {
      "text/plain": [
       "array([[3, 7],\n",
       "       [5, 9]])"
      ]
     },
     "execution_count": 119,
     "metadata": {},
     "output_type": "execute_result"
    }
   ],
   "source": [
    "M2.transpose()"
   ]
  },
  {
   "cell_type": "code",
   "execution_count": 120,
   "metadata": {
    "colab": {
     "base_uri": "https://localhost:8080/"
    },
    "executionInfo": {
     "elapsed": 6,
     "status": "ok",
     "timestamp": 1746145515741,
     "user": {
      "displayName": "이정구",
      "userId": "01734653046128971875"
     },
     "user_tz": -540
    },
    "id": "p0J2K213e924",
    "outputId": "1cd7c69c-3df7-44e4-b22e-cf5bb33a825b"
   },
   "outputs": [
    {
     "data": {
      "text/plain": [
       "array([[3, 7],\n",
       "       [5, 9]])"
      ]
     },
     "execution_count": 120,
     "metadata": {},
     "output_type": "execute_result"
    }
   ],
   "source": [
    "M2.T"
   ]
  },
  {
   "cell_type": "markdown",
   "metadata": {
    "id": "7o9Fe-9XmOxH"
   },
   "source": [
    "#\n",
    "#\n",
    "#\n",
    "# End Of Document\n",
    "#\n",
    "#\n",
    "#"
   ]
  }
 ],
 "metadata": {
  "colab": {
   "provenance": []
  },
  "kernelspec": {
   "display_name": "data_env",
   "language": "python",
   "name": "python3"
  },
  "language_info": {
   "codemirror_mode": {
    "name": "ipython",
    "version": 3
   },
   "file_extension": ".py",
   "mimetype": "text/x-python",
   "name": "python",
   "nbconvert_exporter": "python",
   "pygments_lexer": "ipython3",
   "version": "3.13.3"
  }
 },
 "nbformat": 4,
 "nbformat_minor": 0
}
